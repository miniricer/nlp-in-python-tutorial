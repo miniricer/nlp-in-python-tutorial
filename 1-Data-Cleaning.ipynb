{
 "cells": [
  {
   "cell_type": "markdown",
   "metadata": {},
   "source": [
    "# Data Cleaning"
   ]
  },
  {
   "cell_type": "markdown",
   "metadata": {},
   "source": [
    "## Introduction"
   ]
  },
  {
   "cell_type": "markdown",
   "metadata": {},
   "source": [
    "This notebook goes through a necessary step of any data science project - data cleaning. Data cleaning is a time consuming and unenjoyable task, yet it's a very important one. Keep in mind, \"garbage in, garbage out\". Feeding dirty data into a model will give us results that are meaningless.\n",
    "\n",
    "*<font color = blue>該筆記本經歷了任何資料科學專案的必要步驟—資料清理。 資料清理是一項耗時且令人厭煩的任務，但卻是一項非常重要的任務。 請記住，「garbage in, garbage out」。 將髒數據輸入模型會為我們帶來毫無意義的結果。</font>*\n",
    "\n",
    "Specifically, we'll be walking through:\n",
    "\n",
    "1. **Getting the data - **in this case, we'll be scraping data from a website\n",
    "2. **Cleaning the data - **we will walk through popular text pre-processing techniques\n",
    "3. **Organizing the data - **we will organize the cleaned data into a way that is easy to input into other algorithms\n",
    "\n",
    "The output of this notebook will be clean, organized data in two standard text formats:\n",
    "\n",
    "*<font color = blue>該筆記本的輸出將是兩種標準文字格式的乾淨、有組織的資料：</font>*\n",
    "\n",
    "1. **Corpus** - a collection of text\n",
    "2. **Document-Term Matrix** - word counts in matrix format"
   ]
  },
  {
   "cell_type": "markdown",
   "metadata": {},
   "source": [
    "## Problem Statement"
   ]
  },
  {
   "cell_type": "markdown",
   "metadata": {},
   "source": [
    "As a reminder, our goal is to look at transcripts of various comedians and note their similarities and differences. Specifically, I'd like to know if Ali Wong's comedy style is different than other comedians, since she's the comedian that got me interested in stand up comedy.\n",
    "\n",
    "*<font color = blue>提醒一下，我們的目標是查看不同喜劇演員的筆錄，並注意他們的異同。 具體來說，我想知道黃阿麗的喜劇風格是否與其他喜劇演員不同，因為她是讓我對單口喜劇感興趣的喜劇演員。</font>*"
   ]
  },
  {
   "cell_type": "markdown",
   "metadata": {},
   "source": [
    "## 取得資料  Getting The Data   "
   ]
  },
  {
   "cell_type": "markdown",
   "metadata": {},
   "source": [
    "Luckily, there are wonderful people online that keep track of stand up routine transcripts. [Scraps From The Loft](http://scrapsfromtheloft.com) makes them available for non-profit and educational purposes.\n",
    "\n",
    "To decide which comedians to look into, I went on IMDB and looked specifically at comedy specials that were released in the past 5 years. To narrow it down further, I looked only at those with greater than a 7.5/10 rating and more than 2000 votes. If a comedian had multiple specials that fit those requirements, I would pick the most highly rated one. I ended up with a dozen comedy specials."
   ]
  },
  {
   "cell_type": "code",
   "execution_count": 3,
   "metadata": {},
   "outputs": [
    {
     "name": "stdout",
     "output_type": "stream",
     "text": [
      "Requirement already satisfied: beautifulsoup4 in d:\\miniconda3\\envs\\nlp\\lib\\site-packages (4.12.2)\n",
      "Requirement already satisfied: soupsieve>1.2 in d:\\miniconda3\\envs\\nlp\\lib\\site-packages (from beautifulsoup4) (2.5)\n"
     ]
    }
   ],
   "source": [
    "!pip install beautifulsoup4"
   ]
  },
  {
   "cell_type": "code",
   "execution_count": 12,
   "metadata": {},
   "outputs": [],
   "source": [
    "# Web scraping, pickle imports\n",
    "import requests\n",
    "from bs4 import BeautifulSoup\n",
    "import pickle\n",
    "\n",
    "# Scrapes transcript data from scrapsfromtheloft.com\n",
    "def url_to_transcript(url):\n",
    "    '''Returns transcript data specifically from scrapsfromtheloft.com.'''\n",
    "    page = requests.get(url).text\n",
    "    soup = BeautifulSoup(page, \"html\")\n",
    "    text = [p.text for p in soup.find(class_=\"site-main\").find_all('p')]\n",
    "    print(url)\n",
    "    return text\n",
    "\n",
    "# URLs of transcripts in scope\n",
    "urls = ['http://scrapsfromtheloft.com/2017/05/06/louis-ck-oh-my-god-full-transcript/',\n",
    "        'http://scrapsfromtheloft.com/2017/04/11/dave-chappelle-age-spin-2017-full-transcript/',\n",
    "        'http://scrapsfromtheloft.com/2018/03/15/ricky-gervais-humanity-transcript/',\n",
    "        'http://scrapsfromtheloft.com/2017/05/24/bill-burr-im-sorry-feel-way-2014-full-transcript/',\n",
    "        'http://scrapsfromtheloft.com/2017/04/21/jim-jefferies-bare-2014-full-transcript/',\n",
    "        'http://scrapsfromtheloft.com/2017/08/02/john-mulaney-comeback-kid-2015-full-transcript/',\n",
    "        'http://scrapsfromtheloft.com/2017/09/19/ali-wong-baby-cobra-2016-full-transcript/',\n",
    "        'http://scrapsfromtheloft.com/2017/08/03/anthony-jeselnik-thoughts-prayers-2015-full-transcript/',\n",
    "        'http://scrapsfromtheloft.com/2018/03/03/mike-birbiglia-my-girlfriends-boyfriend-2013-full-transcript/',\n",
    "        'http://scrapsfromtheloft.com/2017/08/19/joe-rogan-triggered-2016-full-transcript/']\n",
    "\n",
    "\n",
    "# Comedian names\n",
    "comedians = ['louis', 'dave', 'ricky', 'bill', 'jim', 'john', 'ali', 'anthony', 'mike', 'joe']\n",
    "\n",
    "\n",
    "#        'http://scrapsfromtheloft.com/2017/08/07/bo-burnham-2013-full-transcript/',\n",
    "#        'http://scrapsfromtheloft.com/2017/10/21/hasan-minhaj-homecoming-king-2017-full-transcript/',\n",
    "#'bo','hasan',"
   ]
  },
  {
   "cell_type": "code",
   "execution_count": 9,
   "metadata": {},
   "outputs": [
    {
     "data": {
      "text/plain": [
       "['[Car horn honks] [Audience cheering] [Announcer] Ladies and gentlemen, please welcome to the stage Mr. Jim Jefferies! [Upbeat music playing] Hello! Sit down, sit down, sit down, sit down, sit down. [Chuckles] Thank you, Boston. I appreciate that. [Whooping] Uh, that’s very sweet of you. [Man] Love you! I’m at the end of the tour right now. I’m very happy to be on tour because I now have a child. Ah, so… any time out of home is good for me. Um, I got my girlfriend pregnant after knowing her for two months. So… [Audience cheering] Thank you. Thank you. Life decisions. And she’s a nice girl, and I love her in a way, sure. My problem with my girlfriend is, she’s very sweet, but she’s shit at telling stories, and I’m awesome at telling stories, so it really bothers me when she talks. And I don’t know if that’ll be a problem in the future, but it’s a problem now and I don’t see it getting better. Um… I’ll give you an example, right? I was in the car, and my son Hank was asleep in the back seat, and we’re driving along, and on the radio comes Madonna, and my girlfriend just slips into conversation, “Oh, I used to party with Madonna.” And I went, “You fucking what, when?” And she went, “I used to party with Madonna.” Now, I should fill you in a little bit on this. My girlfriend used to be a model in Miami, right? I’m not bragging. I didn’t get the model years. I didn’t get those years. I’ve seen the photos. Very impressive. Um… So, I said, “So you used to party with Madonna. Madonna used to have big parties and invite models over, right?” And she went, “No, no, it would just be me and a few other people.” I go, “You need to elaborate on this story right now.” And she goes, “Oh, okay, I used to date the center for the Miami Heat.” As soon as you hear that the mother of your child used to date an NBA center, even if this guy’s even slightly in proportion… a lot of things flood through your head. First thing is, “That’s why your cunt’s so fucked up.” That’s a big one. “That’s why our child came out while you were walking. I understand.” So she said, “I used to date the center for the Miami Heat. His best friend was Dennis Rodman. Dennis Rodman used to go out with Madonna, and we used to go over to Madonna’s house.” And she goes, “This one time, the four of us were over at Madonna’s house, and we were all fucked up on drugs, and one thing led to another…” And then I went, “Shut the fuck up!” And she went, “What?” I said, “I know what ‘one thing led to another’ means! You all started fucking each other!” And she went, “We did. We started…” “Just shut up!” And she goes, “What do you care for?” I said, “You’re the mother of my child! I don’t wanna picture you being fucked by a 7’2″ NBA player while you’re licking out Madonna’s muscular vagina and Dennis Rodman is in the corner stroking his tattooed cock, going…” [Moaning] And she goes, “Oh, you’re being silly. What do you care for? You’ve partied way more than I have in my life.” And I went, “That is not true. I’ve gotten wasted way more than you have, but I have, in no way, partied way more than you have. Often, I get wasted just by myself. I wouldn’t call it a party.” For most of my career, I was a struggling comedian, right? And this is how struggling comedians party, right? It’s 5:00 a.m., Monday, right? We’re in a one-bedroom apartment. Seven of us are standing around a coffee table, trying to stretch out two grams of coke. One of us is at the end of the table giving conspiracy theories… and the rest of us are talking about where women might be. One of us has come up with a plan. The plan goes like this, “Well… nurses will be finishing their shift soon. Maybe if we just stand out the front of the ER, they’ll appreciate seven funny guys.” [Chuckles] I don’t… You know, I’ve never partied like a model. I have partied twice in my life. Twice. Like, really partied. I’ve had good nights out, but I’ve really partied twice. If you really party, and most people never experience this, it’s an amazing thing. It happens in Vegas. It can only happen in Vegas, and it’s gotta involve celebrity, right? I’m not famous, but the people around me were super famous, and I was at this party in the night club, and they took me in. And then there’s the night club, but then there’s the real night club out the back, which is, like, the size of this stage. It’s only a little room. And you go back there and you can just… They encourage you to take drugs in the open, and you’re just doing it off a key, [Sniffs] and they’re going, “No, dude. Use the table. Don’t use your…” And I go, “Oh, oh. Oh, sorry. Um…” And it’s confusing at first, and then their security will drag women off that other night club into your room. Just bring ’em in like, “Huh?” And you can do this. You can go… “Uh…” Like that. And they’ll drag these women away. It is the best thing you’ll ever do with your life. When you party that hard as a man, there’s a lot of remorse ’cause you have to tip everyone a lot of money. You wake up in the morning with a terrible hangover, and you go to your friends. You go, “Oh, my God. We partied so hard last night. I spent $5,000.” When a hot girl parties that hard, she wakes up in the morning and goes, “Oh, my God. We partied so hard last night. I made $5,000.” And that’s a vastly different emotion that… I don’t think women will never… Yeah, okay.',\n",
       " 'This is the thing. In America, at the moment, they’re trying to raise the minimum wage to, I don’t know, $16 an hour or something like that, and whenever they bring up this argument, they always go, “And still to this day, women only earn 70% of what men earn in the workplace.” And of course, that’s disgusting. How dare women earn so much? Like… a lot of things that I say tonight will be jokes that I don’t actually mean, but this is something I’m really passionate about. Women do not deserve to earn as much money as men in the workplace. I’m sorry. I… [Audience whooping] I’m not being a misogynistic bastard, right? I’m not saying that women don’t work as hard. I’m sure they do. I’m not saying they don’t do as good a job. What I’m saying is they don’t deserve to earn as much money as men. Right? Men need that extra 30% to buy meals and drinks and Jim Jefferies tickets and all that shit! [Audience cheering] Now… I’m sure there’s women in this room that are saying, “Oh, I pay for my drinks. I bought my own ticket.” And don’t think we don’t appreciate the uglies, ’cause we do. Right? We do. But there’s little things in society that you can’t change. Men have extra expenses that you’ll never understand. There’s holidays that are just for women. Like Valentine’s Day is just for women. They say it’s for romantics. They say it’s for couples or something like that. It’s just for women. There’s no man who gets excited by Valentine’s Day. There’s no man that when he sees the Valentine’s Day decorations go up in the shopping mall, he goes, “Oh, Valentine’s Day is coming!” Valentine’s Day is a mathematical equation that every man has in his head, and it goes like this, “How much money do I have to spend today so that you won’t act like a cunt?” It doesn’t stop there. Mother’s Day! Mother’s Day rocked around in my house when my son was six months old. My girlfriend’s first Mother’s Day. And she went, “Oh, I wonder what I’ll get for Mother’s Day.” And I went, “Probably fucking nothing. He’s got no money. He’s six months old. What do you think he’s gonna buy you?” Within an hour, her friends were over at the house, just by coincidence, telling me what a bad person I was and how important Mother’s Day is to a new mum, you know? And so, I went and bought her a cappuccino machine ’cause I assumed that’s what Hank would have wanted her to have… and I wrote a card. I’m not a bastard. I wrote a card. I’m right-handed. So I got my left hand. Every new dad knows this. You get the crayon and you go, [Imitating child] “Happy Mother’s Day. Love, Hank.” And I went, “H-A-N…” And then I did the “K” back-to-front because he’s a fucking moron. See, now I know there’s people in the room, they’re thinking, “Well, fathers have Father’s Day.” Father’s Day is bullshit. It’s fucking shit, Father’s Day. Father’s Day came around and my girlfriend went, “What do you want for Father’s Day?” And I went, “I don’t want anything. Don’t even worry about it. I don’t want anything.” And she goes, “Come on. You gotta have something.” I said, “Honestly, I don’t want anything.” And she goes, “Come on.” And I went, “It’s my fucking money. Just don’t touch it. Just leave my money alone. How hard is this? How about, for 24 hours, you don’t touch my fucking money? That would be a gift.” That’s why every single father has that one Father’s Day gift that they cherish, and it’s shit! It’s, like, a fucking ceramic mug that the kid made in school where the handle’s too big, and it says, “I heart Dad.” And they keep that for 20 fucking years, this mug. And do you wanna know why they like it? Every now and again, they look at it and go… “That cost me nothing, that mug.” [Audience whooping] See… wouldn’t it be nice to have one day that was for men and for fathers and all that type of stuff, but didn’t cost anything, that everyone could participate in, right? I’ve got it, right? April 18th… Anal Sex Day. [Men cheering loudly] It’s good, isn’t it? Everyone’s girlfriend or wife has to take it in the ass on April 18th. It’s nice. A month before, you’d be walking around the shopping center going, “Oh, the decorations are up!” [Men whooping] And it’s good ’cause if your bird didn’t take it in the ass, you could do the same thing that women do on Valentine’s Day when they don’t get a gift. You could go like, “Oh, me mate, Jason, his wife took it in the ass twice. Yeah, obviously, they’re more connected than we are. They’ve, uh…” I’m thinking, I don’t do much merchandise after my shows and stuff, but I’m thinking of bringing out some April 18th T-shirts. Not even putting “Jim Jefferies” on them or anything. Just T-shirts that say, “April 18th.” ‘Cause it’s good, right? You’re in a bar. You’re a guy. You see a guy at the other end of the bar with an April 18th, and you go… Fucking friends for life, right? But even better, you see a girl with an April 18th T-shirt.',\n",
       " 'The weird thing is I’m bigging-up anal sex here, and I don’t even really like fucking girls in the ass that much. I’m not even a huge fan. I much prefer the cunt. I think it’s a much more… I think that a cunt is a much more purpose-built thing to fuck. But, you know, anal sex… Oh, you know… I do it. I get involved, ’cause I feel like I have to. You know, I… But I’ve never been a big fan of the ass fucking, I, uh… When I watch it on porn, it seems very inviting. The girl’s taking it so fluently in her ass, and she seems to be having fun, and, uh… But the thing is, you can’t smell porn. You don’t smell porn. You just… You just watch it. They never… And it’s different, porn. It’s different. They clean the girl’s asshole. They pump water into it until it’s very hygienic. I’m sure. And the girl seems to be so happy. She’s like… You’ve got it in her pussy, you’re fucking her, and then she’s like, “Put it in my ass.” She’s inviting. It’s like you’re doing her a favor in porn. And then she’s like… She says things… I don’t know, things like, “I’m enjoying that. Keep putting it in my ass. Fuck my ass. I love a cock in my ass.” And… And the experience I’ve had in my own life has been vastly different. I’ve… My experience has been a lot of crying. Now, although that can help you come at times, it’s not what you want… It’s not what you want for every day. I like the girl who acts like she’s enjoying it. Like, you know when your girlfriend’s like, “I’m gonna act like I enjoy it.” She does that whole, “Yeah. Oh, no, that’s good.” [Moaning] Ahh! ♪ I’m having a good time ♪ And then they’re always going, “Are you done? Are you close to done?” You never fuck a pussy and they go, “Are you almost done? Finish this.” Like that. If you’re fucking ass, they don’t want you… They want it all over, quick. And they do other things, the porn girls. I don’t know how much they get paid. I’m sure it’s more than what the men get paid. It’s the opposite bit of society. Um… But they do a thing called “ATM.” I don’t know if you know what that is, kids. That stands for “ass to mouth.” That’s where the porn girl will pull the cock from out of her anus, and she’ll put it directly in her mouth, and she’ll say something like, “I love the taste of my ass. Let me taste my ass.” And then the man, as a favor to this woman, puts his cock in her mouth to congratulate her on the fine work… [Applause] she’s been doing. Now, I had a drunken night with my ex-girlfriend where she thought she’d be all wild and try that. Once again, vastly different experience. I’m not a big fan of the ass fucking, and I don’t know of any man, if they’re truthful, really is. Now, there’s women in the room who are thinking, “Well, why does my guy constantly bother me to fuck me in my ass?” [Woman shouting] What a good question. [Woman whoops] Women, the reason that men like fucking you in the ass is because… we know you fucking hate it. [Cheering]',\n",
       " 'So… I’m a father. Um… I love my son! I love my son the same way that I love cigarettes. I like to hold him for five minutes every hour, and the rest of the time, I’m thinking about how he’s fucking killing me. He’s a good little boy. No, he’s a great little fella. I really like him. Um… My girlfriend super loves him, though. It’s fucking creepy. And… I’m glad I have a son. That worked out good for me. I wouldn’t be a good father to a girl. It wouldn’t be good for me. Nothing weird. Wouldn’t fuck it. I… I just don’t get along with women. You know how it is. I don’t want them in my house, and… So… Because you dream, see… For example, okay? When Hank was born… the couple over the road, within two weeks of Hank being born, had a baby girl, and rightly or wrongly, the first thing that went through my head was… “Aw, that’s great. I hope Hank fucks that one day.” That’s what I think… ‘Cause that’s what I think about my son. I hope when he’s of age, he just fucks everything. I don’t care if my son is gay or straight. All I care about is, when he is of age, that he gets every bit of fucking pussy or cock that he desires. That is my dream for my son! [Audience cheering] But never in the history of fathers and daughters, has a father held his baby girl and gone, “Oh, I hope you have a lot of cocks through you in your life. I hope you’re never shy of a cock. I hope you pass out at parties and all the boys are queuing up.” Right, you know… And it’s not just me. Women treat baby girls and baby boys differently as well. My girlfriend goes to the gym every morning. I go there very occasionally, and when you go to the gym, there’s a little daycare crèche thing in the gym where you can hand your child off, and inside that daycare, there’s, like, three women in their 50s. They’re very nice ladies, and you hand your kid off and he plays. Then when you finish your workout, you come and get him. And there’s a woman that works there who just loves my son. She sees all the other kids, but she loves Hank, and Hank fucking loves her, and the two of them light up when they see each other. And it’s super cute, I bring Hank up the stairs, and he starts going, “Uh, uh!” Trying to reach at her, all right? And she does this, she goes, “Everyone, my boyfriend’s here. Here’s my boyfriend. Give him here. He’s my boyfriend.” And then she kisses him, and she goes, ♪ My boyfriend gives me kisses My boyfriend gives me kisses ♪ It’s fucking adorable. But I tried doing that with a baby girl… Let’s say you go to the gym and there’s a daycare, and me and a couple of my mates are working there. “Hey, everyone… me girlfriend’s here. Give her here. Give her here. She’s my girlfriend. My girlfriend gives me kisses. You know that, right? She’s always giving me kisses. Enjoy your workout. Don’t worry about a thing.” [Applause] [Cheering] So… Also… it’s just easier to bring up a son than it is a daughter. It’s just little things. Even when they’re babies, it’s just easier. There’s a wiping technique when you’re wiping a baby’s ass. I don’t know if you have children, but this is how you do it. The baby lays on its back. You put their feet together. You lift the feet up, and then you go in and wipe. With a boy, you can wipe like that. Up and down, side to side, whatever the fuck you want, right? With a girl, you gotta wipe downward and away. Downward and away. It’s very important that you wipe away from the cunt. Very important. ‘Cause it turns out that women of all ages hate having shit in their cunts. They do. They fucking hate it. Boys don’t give a shit. Fucking… My son will have shit all over his dick and balls, and I’ll be cleaning it off under the foreskin, and he’ll be laughing like it’s the best day ever. Even at my age now, I find it funny if I have shit on my dick. If I fuck my girlfriend in the ass, I pull out, I’ve got shit on my dick, I’ll ring me mate Jason up and go, “Hey, Jason… It’s happened again. I got shit on my dick.” And he’ll tell me a similar story about when he had shit on his dick, and we’ll laugh and laugh and laugh. But never in the history of women has there been a woman with shit in her cunt and she’s thought, “Oh, I can’t wait to call Karen.” [Chuckles] [Laughs] When you… When my girlfriend got pregnant… When you meet… When you haven’t got a child, couples who have children are always bragging about how cool it is to have children. Whenever you meet couples with children they’re always like, “It is the most fulfilling thing I’ve ever done with my life. My heart grows larger and larger every day.” And then the second that my girlfriend got pregnant, those same people went like this, “You’re never gonna sleep again! [Laughs maniacally] Forget about it. It’s over. You’re not gonna sleep.” They’re constantly telling you you’re not gonna sleep. Raising a baby is not that hard. I’ll tell you what, it’s easier than a coke habit. I had a coke habit for seven-and-a-half fucking years! At least it’s not me who wakes up crying anymore! I can sleep through other people crying. I’ve had girlfriends. That’s like white noise to me. I find it soothing. See, me and my girlfriend, just two months, we went, “Fuck it! Let’s have a kid.” Fucking did it, right? These other people, man… You know these couples, and they date from high school, and then they go out for a bit longer, and then after being together for like, seven years, they go, “We’re getting engaged. You wanna come to the party?” And you wanna say, “No, you’re really boring and we hate you.” But you go, “Oh, okay, great. You’re still together, are you? You fucked one person, have you? Oh, how exciting.” And… And then what they do is they don’t have a kid right away because they’re still not ready. “We have to see how our careers are going and shit.” And what they do is they get a dog, and then they act like the fucking dog’s their baby. They refer to it as their fucking baby. They send you a Christmas card of them holding the dog… and it says, “From our family to yours.” And then you have a barbecue, and you invite them, the humans, right? Then they come over. This fucking dog runs in, jumping over everything, and you’re like, “What the fuck is this shit?” And they’re like, “We had to bring him. We bring our baby everywhere.” And you go, “Well, your baby is biting my actual baby. Can you control…” And then, eventually, they decide they’re gonna have a kid ’cause they’ve learned so much from the dog, and then they bring the kid back, and the dog runs up, like, “What’s happening? A new person.” And they’re like, “Fuck off. We don’t love you anymore. We’re going.” And they think they’ve learnt something from the dog, and they haven’t learnt anything. What happens if your girlfriend’s away on work and the dog dies? You go off, you buy another dog that looks similar to the original dog… try to pass it off as the same dog. What happens if your girlfriend’s away on work and the baby dies? Very hard… to get a baby that looks exactly the same in the short period of time that you have. Easier if you’re black or Asian. [Audience cheering] Boston, no! No! No! Shut up! I will not put up with racism at my shows, okay? I’m not saying ’cause they look the same. I’m saying ’cause they’re easier to purchase. [Audience cheering] [Audience whooping] If Angelina Jolie and Madonna have taught us anything… it is that you can buy black and Asian people. I’m yet to see a black celebrity couple come home from Norway with a child, going… “Yolanda, quick, get Hans. Bring him over. Come on.” [Jeffries chuckles]',\n",
       " \"I’m gonna talk about something now that sort of splits the crowd a little bit. Uh… Gun control. Now… No, wait. Before you… Don’t get excited because the other people have guns. The anti-gun people are like, “Yeah! Do it, Jim!” No, let’s just… [Shushes] Now, before I start saying this, I wanna say this, right? I believe in your right as Americans to have guns. I’m not trying to stop you from having guns. All I’m saying is this is my personal belief on the opinion. My opinion on the… Oh, it doesn’t matter. I don’t like guns, right? I’m gonna say some things that are just facts, right? In Australia, we had guns, right? Right up until 1996. In 1996, Australia had the biggest massacre on Earth. It still hasn’t been beaten. And… Now, after that, they banned the guns. Now, in the 10 years before Port Arthur, there was 10 massacres. Since the gun ban in 1996, there hasn’t been a single massacre since. I don’t know how or why this happened, uh… Maybe it was a coincidence, right? Now, please understand that I understand that Australia and America are two vastly different cultures with different people, right? I get it. In Australia, we had the biggest massacre on Earth, and the Australian government went, “That’s it! No more guns!” And we all went, “Yeah, all right, then. That seems fair enough, really.” Now, in America, you had the Sandy Hook massacre where little, tiny children died, and your government went, “Maybe… we’ll get rid of the big guns?” And 50% of you went, “Fuck you! Don’t take my guns!” [Whooping] So, here’s where it gets confusing, right? Now, as I said, I am all for your Second Amendment rights. I think you should be able to have guns. It’s in your constitution. What I am not for is bullshit arguments and lies. There is one argument and one argument alone for having a gun, and this is the argument… “Fuck off. I like guns.” It’s not the best argument, but it’s all you’ve got. And there’s nothing wrong with it. There’s nothing wrong with saying, “I like something. Don’t take it away from me.” But don’t give me this other bullshit. The main one is, [In American accent] “I need it for protection. I need to protect me. I need to protect my family.” Really? Is that why they’re called “assault rifles”? Is it? I’ve never heard of these fucking “protection rifles” you speak of. Protection? What the fuck are you talking about? You have a gun in your house, you’re 80% more likely to use that gun on yourself, than to shoot someone else. And people think, “Well, that’d never happen to me.” You don’t know that, because you know what? ♪ From time to time We all get sad ♪  ♪ One day you’re happy Then you’re sad ♪  ♪ And then, uh-oh ♪ Protection. I had a break-in in Manchester, England, where I was tied up, I had my head cut. They threatened to rape my girlfriend. They came through the window with a machete and a hammer, and Americans always go, [In American accent] “Well, imagine if you had a gun.” And I’m like, “All right. I was naked at the time. I wasn’t wearing my holster. I wasn’t staring at the window waiting for cunts with machetes to come through.” What world do you live in where you’re constantly fucking ready? You have guns ’cause you like guns! That’s why you go to gun conventions! That’s why you read gun magazines! None of you give a shit about home security. None of you go to home security conventions. None of you read Padlock Monthly. None of you have a Facebook picture of you behind a secure door going, “Fucking yeah!” Like you’re going to be ready if someone comes into your house. You have it at all fucking times. By the way, most people who are breaking into your house just want your fucking TV! You think that people are coming to murder your family? How many fucking enemies do you have? Jeez, you think a lot of yourself if you think everyone’s coming to murder you. See, if you have it readily available, it becomes unsafe. You have it in your bedside table, one of your kids picks it up, thinks it’s a toy, shoots another one of your kids. Happens every fucking day, but people go, “That’d never happen in my house ’cause I’m a responsible gun owner. I keep my guns locked in a safe.” Then they’re no fucking protection! Someone comes into the house, you’re like, “Wait there, fuck-face! Oh! You’ve come to the wrong house here, buddy boy. I tell you what. I’m gonna fuck you up! Okay. Is it 32 to the left or 32 to the right? Your mother’s birthday? Why the fuck would I know your fucking mother’s birthday? Maybe if you didn’t leave the window open [In whining voice] ‘because it’s too hot in here,’ we wouldn’t be getting fucking murdered, right?” I find the NRA to be hard work. The fact that they always think the answer is more guns. After Sandy Hook happened, the NRA said, and I quote, “None of this would have happened if the teachers had guns.” I… I think they’re forgetting what school was like. Does anyone remember that casual teacher that used to… Whenever she came into school, that relief teacher came, you and your friends would see her and go, [Chuckling] “Oh, we’re gonna make her cry.” And then she’d stand in front of the class with a bit of chalk and her hands would be shaking, and you’d go, “You’re never getting married, are you, Miss? Never gonna happen for you.” Then she’d get back to her 1967 Volkswagen Beetle, and she’d be crying over the steering wheel, just, “Why don’t they like me?” Let’s give that cunt a gun and see how things work out! [Audience cheering] And then they go, “Oh, well, answer to that, we’ll just add more guns.” They go, “We’ll put an armed security guard at every school across America.” Yeah, that’ll work out. The average security guard in America earns $16 an hour. Not a lot of wiggle room to be a fucking hero! Someone comes onto the school and… [Mimicking machine gun] And you’ve got Kevin. Now, I’m sure Kevin’s shit-hot at Call of Duty, but it might not fucking cut it, ladies and gentlemen. Now, I understand that when I’m doing this joke in this room, 50% of you agree with me, 50% of you don’t agree with me, and I do respect the people who don’t agree with me. Don’t think I don’t. Out of the 50% that don’t agree with me, 20% of those people are smart enough to realize this is a comedy show and it’s not to be taken seriously, and they’re laughing along ’cause it’s just funny jokes, right? And then the next 20%, have sort of phased out a little bit. They’re looking around, going, “Wonder how they got that chandelier up there?” And then… there’s the last 10%. And they’re fucking furious. Right now, in this room and the people watching at home… 10% of you are fucking seething. Just… And for a couple of reasons. First reason, I’m making good points. [Audience cheering] Second reason. Second reason. Second reason, and this is the big one, I’m foreign… and that’s pissing the fuck out of you right now, and your brain is on a loop and you can’t fucking turn it off, and it’s just going around in a circle, and you’re just going, “If you don’t like it, go home! If you don’t like it, go home!” And my answer to that is, “No.” I came here legally. I pay my taxes. I’ll say whatever the fuck I want. Your First Amendment means that I can say the Second Amendment sucks dicks. And… unless you’re an American Indian, you’re a fucking immigrant as well, so fuck off. People get so precious about it. I understand that to Americans, your constitution is very important. I respect it, but please understand that every country has one as well. It’s no more special than any other constitution. We have one in Australia. I don’t know what it says. I’ve never seen it. If there’s a problem, we’ll check it, but everything’s going fine. And don’t get me wrong. I get that the constitution is important to you. I have had… Fucking, I get it, right? I’ve had people come up to me in my face and scream at me in car parks as I’m leaving the theater, going, [In American accent] “You cannot change the Second Amendment!” And I’m like, “Yes, you can. It’s called an ‘amendment.'” If you can’t change something that’s called an “amendment”, see, many of you need a thesaurus more than you need a constitution. And if you don’t know what a thesaurus is, get a dictionary and work your way forward. Don’t think your constitution is set in stone. You’ve changed things before. You used to have prohibition in there, right? And then people were like, “Hey, who likes getting fucked up? Yeah, I like getting fucked up, too. Let’s get that one out. Let’s get that one out.” You used to have this other thing in America called, uh… slavery! And then Lincoln came along and went, “That’s it. No more slaves!” And 50% of you went, “Fuck you! Don’t take my slaves!” And the same bullshit arguments came out that you have with guns. “Why should I have my slaves taken off me? I’m a responsible slave owner. I’m trained in how to use my slaves safely. Just because that guy mistreated his slaves doesn’t mean that my rights should be taken away from me. I… I use my slaves to protect my family! I keep my slaves locked in a safe!” That’s the thing. “Why should I have my guns taken off me? I’ve done nothing wrong.” Look, I agree with you. If you’re a responsible gun owner and you don’t fuck around with them, then you should be allowed your guns. You really should. But that’s not how society works. We have to play to the 1% that are such fuckwits they ruin it for the rest of us. We have to walk as slow as our slowest person to keep society fucking moving, right? I take drugs like a fucking champion, right? [Audience cheering] We should all be allowed to take fucking drugs, but we can’t, can we? Because Sarah took drugs and she stabbed her fucking kids. Oh! “Oh, thanks, Sarah. You fucked it up for everyone.” Right? Everyone should be allowed to drive their car as fast as they can do it, right? But we can’t because Jonathan got drunk and ran over a family. “Thanks, Jonathan! Now I have to drive at 30, you fucking idiot!” See, that’s the thing. “Why should I have my guns taken off me, I’m responsible, just because that guy’s crazy?” Who’s to say you’re not crazy? That’s the thing about crazy people. They don’t know they’re crazy. That’s what makes them crazy. The only thing you know for sure on this Earth is, “I think, therefore I am.” You know that you exist. Anything past that is open to interpretation, right? You know you exist and that’s it. Right now, I think I’m in Boston talking to 1,200 people. That’s what I think I’m doing, but there is a good to fair chance that I’m in a mental home, standing in front of a white wall, going, [Slurring speech] “I hate guns. I hate guns. I hate guns.” [Audience applauding] See, one of the better arguments is, “Well, if you take the guns away, then only the criminals will have guns.” Not true. When they banned the guns in Australia, it worked. When they banned them in Britain, it worked, okay? The Bushmaster gun that the kid was gonna use in Sandy Hook costs, like, $1,000 American and you can buy it in Walmart. It’ll be delivered to your house. That’s it, man. 1,000 bucks, right? That same gun in Australia on the black market costs $34,000. Now if you have $34,000, you don’t need to be a criminal. You’ve got $34,000. You’re a great little saver. Keep going. So that covers the criminals, but that doesn’t cover the people who wanna murder your family, that are coming after you and your family. It kind of does. The people who do the massacres, it covers them ’cause they go… The kid at Colorado who thought he was The Joker, let’s say that he had some social issues. The kid at Sandy Hook was Asperger’s as fuck. Right? I don’t know if you know a lot about the black market, but you can’t just rock up at the docks going, [Slurring speech] “Guns! Who wants to sell me a gun?” Now, I’m gonna wrap this up. We won’t talk about it anymore. Now… See, the one thing that I do really agree with with the right to bear arms, I really agree with… That the real reason it was written was so that you could form a militia to fight against a tyrannical government. In case the government became a bunch of cunts, you could all get your guns and fight back, and that’s why it was written. – [Audience cheering] – Yeah! And that made a hell of a lot of sense when it was just muskets. But you do know the government has drones, right? You get that? You’re bringing guns to a drone fight! If we went back to muskets, I’m all for it! Keep the Second Amendment. If we all have muskets… Muskets are awesome! Every cunt should be carrying a musket with him at all times. You know what’s good about the musket? It gives you a lot of time to calm down. Someone calls your wife fat, and you’re like, “Fuck you, buddy! Ah, you’re not a bad guy. You’re all right.”\",\n",
       " 'Now… after the show, we’re gonna go out, have a big party around Boston, see how it goes. I’m not allowed to go to strip clubs anymore. My girlfriend has said that’s a no… ’cause I don’t behave myself in there, so I’m not allowed to go to them anymore. ‘Cause strip clubs aren’t what women think they are. [Stammers] It used to be like… Okay, so, when a man goes to a strip club, it’s all about girls being as dirty and as horrible to each other as possible. That’s what men want to see. Women, when they go to their Magic Mike clubs or whatever the fuck they are… women wanna see a guy, “Hey, ladies. He’s a fireman.” And he comes out with his hose and like that… And whenever a stripper takes their clothes off, they’ve still got the fireman’s hat on or a tool belt on or policeman’s gun on a holster, right? Because even when a man’s naked, a woman wants to know that he has a job. When men watch strippers, we want them to have a job, and that job’s stripping. We want to just look at that girl dancing and have a hand full of money, and just go… “You can’t take care of your kids.” It’s… And when men get private dances in these strip clubs, I don’t know… I don’t know if women actually know what goes on in those rooms, but basically, it’s dry humping. There’s no dancing. The girl gets in front. She gets where your cock is, pushes it to one side and then she rubs on it… and then she stands over and puts her cunt right in your face, and you go… That’s what a private “dance” is, right? I don’t know if there’s private dancing in female strip clubs. [Stammering] I can’t imagine that there would be. I don’t imagine a woman getting out of a back room and going up to her friend and going… She goes, “How was it?” And she goes, “Well… he just sat me down and then he grabbed my genitals… and then he dragged his scrotum over my forehead. I got to go to the ATM.”',\n",
       " 'So Legit got canceled. [Audience booing] Yeah. I know. I know it. Who would’ve thought it would’ve struggled on that great FXX channel that everyone knew about? The first season is on Netflix. This special is being recorded for Netflix. So you can go watch it there if you’re watching the special. It was… I’m very proud of it. We had two great seasons of really good television, and if people didn’t… Now… The whole TV show is based around one standup routine that I used to do about having a friend with muscular dystrophy that I took to a brothel, which is a true story. And so, when we cast a character with muscular dystrophy who… In the end, we used DJ Qualls, and DJ Qualls is the skinny white guy out of the movie Road Trip. He’s the skinny white guy out of the movie Hustle & Flow, and he’s the white guy out of the movie Hustle & Flow. Now… the great thing about DJ is… he already looks disabled. He has that “latter stages of AIDS” thing going on. It’s great for casting. Anyway, but… I didn’t want DJ to begin with. I wanted a person with muscular dystrophy to make it look authentic, and the Actors’ Union of America said, “You cannot do that.” Because basically the problem is people with muscular dystrophy, I think, are only allowed to work for two hours a day before they get too tired. And I said, “All right, what other disabilities and diseases are allowed to work longer?” And they sent me a list. And on this list, I said, “Can you get rid of all the contagious ones? And what have we got left?” So I saw every disabled actor in Hollywood, and I’ll be honest with you, not that many of them. I don’t know why. Maybe they’re just lazy. They don’t wanna work. Maybe they give up on their dreams rather quickly. And none of them were very good, either. Everyone we saw, none of them were very good ’cause acting is all about what you do with your hands. None of them knew what to do with their hands, and… they all came in. Until this one guy came in. I had seen a lot of people that day. This guy was the most disabled person I’d ever seen in my life. He was like… Think of the most disabled person you’ve seen, then double it. …really super disabled. He was shaped like a pretzel. He was being carried in by this big Russian nurse, carried him in. He made that great disabled sound of… [Groans] That one. I just loved him. Anyway… so he comes in for the audition… and I’m sitting there, and we’re doing the lines together, and at first, I didn’t know if he was mentally all there either, so I was being a little bit patronizing. I was going, “Thank you so much for coming in.” And then we did the dialog together, and I didn’t have to worry about a thing. This kid was funny. He was smart. His timing was impeccable. I thought he was just great, and I helped him out of the room, and I come back to the director and I said, “That’s our guy. That’s who we gotta pick.” And he agreed, but we had to see everyone else who was still in the waiting room. So the next bloke wheels himself in. Now, obviously, he’s just a paraplegic if he’s wheeling himself in, which means the waist down, and that didn’t really suit me because… paraplegics can get themselves to a hooker without my assistance. But I thought… “If he’s a good enough actor, maybe he can quad-up for the role.” So he comes in… He comes in, I shake his hand, and his leg slightly comes out at the same time. And I went, “Whoa! What’s going on there, kicky?” And he goes… “Oh, you got me! I’m not disabled.” And I said, “You’re fucking what now?” And he goes, “I’m not disabled. I just really wanted the role, so I rented a wheelchair.” And I said, “Just shut up. So let me… This is how your day has mapped-out thus far. You woke up this morning. You drove to the wheelchair rental place. You rented a wheelchair. You carried it out, I assume. You put it in the trunk of your car. You drove here. You got the wheelchair out. You carried it up three flights of stairs. You went to the waiting room. You put it down next to the severely disabled man and his nurse. Then you sat in it and practiced your lines.” And he went… “Yeah.” And I said, “You’re a fucking asshole, mate. Get the fuck out of here.” And I kicked him out. And later on that day, I’m sitting there with all the headshots of all the different actors I’m gonna call to tell them they’ve got parts, and I’m holding this disabled guy’s headshot, and I just think, “I’m gonna call this guy up. I’m gonna change his life. This is an awesome moment, right?” And I’m looking at it, and he looks super handsome in his headshot. He looked really like… And I thought, “This has gotta be the greatest photographer with the fastest shutter in camera history.” The shutter on his camera has gotta be like… [Mimicking camera shutter] Like… [Audience applauding] And then I read the guy’s biography… and then it dawned on me. “This guy’s not disabled either! I hated the other fucker for renting a wheelchair! This cunt rented a nurse!” Do you wanna know the level of fucking psychosis you have to go through to rent a fucking nurse? I’m all for a method actor. Get into character three hours before, but once you finish the audition, stand up and go, “Ta-da!” And we would have gone, “That was very good.” But I’ll tell you what you don’t do. Don’t make me carry you to your car! I carried him down three flights of stairs going, “You did very good.” He’s like, “Thank you, Jim.” [Laughing]',\n",
       " '[Chuckles] I was, uh… I go to a therapist… ’cause I get depressed. So I got a therapist every now and again. I literally had one of those moments with my therapist where she was saying words like, “I’m gonna say a word and you say the first thing that comes in your mind.” Like just out of the movies, right? And she went, “Red,” and I went, “Blue.” And then she went, “Cooking,” and I went, “Food,” and all that type of stuff. We went like this forever. And then she went… For the last question, she went, “And what’s your favorite thing in the world?” And I went… “Coming on a girl’s face.” Now… Now, I could’ve said things like… “Ice cream” is a good answer. “Hank” would’ve been an excellent answer. But I said, “Coming on a girl’s face.” And I’ve had six months to think about my answer, and I stand by it. – I… – [Cheering] I’m not proud of it. I hate myself for thinking it. It’s such a horrible thing to do to another human. When a girl’s on her knees and you… It’s so… And as an atheist, I believe in Darwin and all the things that he wrote, but he never had a bit where he explained that. There was never a bit in his book where he went, “When a caveman loves a cavewoman, he’ll ejaculate on her face so that flies won’t come near.” There was never that… never that moment. But, by golly, if it’s not fun. I find it… To… Look, to all the girls who take a load on their face from time to time, may I say, “Bravo!” Don’t… don’t think what you do… has gone unnoticed. We notice. We appreciate your work. I think you deserve a parade of some kind. During Memorial Day, after the Vietnam vets, before the First Gulf War guys, we could bring in, “And here’s the women who take a load on their face.” And you could march out, and married men would stand there going, “God bless you, ladies.” [Audience cheering] I enjoy your acting that you do. The standard tongue out and the… Like that… I don’t know why, but I enjoy… I know it’s a lie. I know you’re not excited, but I still appreciate the effort is what I enjoy. I love the look because it’s such a, “Oh, jeez, I’m excited, too. When this come hits my face, there’s a good chance I’ll also orgasm. Anything could happen in this crazy world.” But this is what redeems us as men. This is what redeems us. Just know that the second the come shoots out of our cock and hits your face, our bodies flood with remorse. The next 20 seconds is the nicest we will ever be to you. [Men whooping] I go from being an animal to the sweetest guy on Earth. I’m like, “You fucking slut… Oh, I love you. Ah… Uh, all right. No, no, no. Put your tongue back in. Um… Keep your eyes shut. Just keep them shut. Uh… All right, I’m going to get a towel. I’ll get a towel. I’ll get you a towel. All right. You’re a wonderful mother to our child.” [Laughs] [Audience cheering] See… this is what kills me. My son will one day watch this DVD. And I’m the guy who’s meant to teach him right from wrong, and I’m there wiping come off his mother’s face.',\n",
       " 'I think I did something illegal with my son the other day. I think it might be illegal. Tell me if this is illegal. All right? I’m in the shower. My girlfriend goes off to the gym in the morning, and when she came back, I was in the shower, and Hank ran up, and he started banging on the glass door of the shower like, “Argh!” Like that. And I went… [Vocalizing] And I saw his little face and I went, “Hello, Hankie.” And then in the condensation, I drew a little bowtie on him… and a little suit… and then I gave him a voice bubble that said, “I love my daddy. Love, Hank.” But I did it so I could read it. Well, of course he could read the “K,” and… then I stepped out. I stepped out of the bathroom and I went, “G’day, Hankie!” And he slapped my cock and he ran off. Now, is that illegal? I don’t know. Is it illegal because, A, a child touched my cock, or because, B, I found it really funny and I’ve been telling everyone. And I can’t get angry at him because his whole life, he’s been lying on mats with things dangling over. He’s been training for this his entire life.',\n",
       " 'I think I’ve, uh… I think I’ve become American, more American than I am Australian lately, and there was a moment where I tipped over where I went, “Oh, I think like an American person now.” And I’m happy to do it. I just… I’ll tell you what happened. I was flying around… I was doing a tour of Australia, and I was flying domestically around Australia, and I’m so used to airports and stuff here in America that… Okay, what happens is, when you go… I was flying Sydney to Melbourne. When you fly domestically in Australia, you go up to the machine, put your name in, prints your ticket out, it prints your bag thing, you put the bag thing on your bag yourself, and then there’s a conveyor belt underneath. You throw your bag on. Bag fucks off. You don’t speak to anyone. Then I go up to the gate bit, and the lady’s going, “Tickets, please.” And I’m holding my ID out like a fucking simpleton. ‘Cause I get through airports quick, man. I’m like, “Fucking there you go.” And she went, “Put your ID away. I don’t need to see that.” And I went… “I think you do.” And she went, “I don’t… Why would I need to see your ID?” And I said, “I might be a terrorist.” And she went, “Would showing me your ID stop you from blowing the plane up?” “No, I’d probably still blow the plane up.” So then I get up to the TSA conveyor belt thing, and I’m so good at the airports. I’m already taking my shoes off as I’m walking, right? And all the Australians behind me assume that I’m American, and they’re losing their fucking shit. They’re like, “Oh, for fuck’s sake! One of these cunts, eh?” And the TSA guy goes, “Hey, mate, what are you taking your shoes off for?” And I went… [Shouting] “I don’t know! Maybe they’re bombs?” And he went… “But they’re not, are they?” I put me shoes back on. I get my laptop out. Everyone’s going mental. And the TSA guy says, very politely, but extraordinarily sarcastically, he goes, “Jeez, mate. That’s a nice computer. Why are you showing it to everyone?” “It might also be a bomb.” And then the guy said the most Australian thing I’ve ever heard come out of anyone’s mouth ever. He went… “Oh, come on, mate. You wouldn’t have two bombs.” [Audience laughing] [Chuckles] I’m not even quite sure what that means, but it does make some type of sense.',\n",
       " 'All right. Oscar Pistorius. If you haven’t been following the case, you’re missing out. This is the greatest thing since OJ Simpson. You’re fucking missing out, mate. If you don’t know who Oscar Pistorius is, let me fill you in. Oscar Pistorius is a legless man from South Africa, known as the Blade Runner. He ran in two Olympics, the disabled and the able-bodied Olympics in one year. No one has ever done that. He’s an inspiration to hundreds and millions of disabled and able-bodied people alike, and on Valentine’s Day last year, he shot and killed the hottest girl on Earth… and that’s when he became an inspiration to me… ’cause hot girls have been getting away with too much shit for too fucking long. Let that be a lesson to all you hot girls out there. You can’t just say whatever the fuck you want whenever you fucking want. [Mock tearfully] People have feelings, you cunts. Now, there’s a lot of rumors going around on what happened on that day. One of the theories is that they found in her phone… He went through her phone, and on her phone, he found some text messages from a South African rugby player on Valentine’s Day, right? Now, I don’t know if you’ve ever been to South Africa, but in South Africa, rugby is more popular than legless running. It goes, rugby, legless running, cricket. Legless running’s their second sport. You wouldn’t have thought that. Anyway… I’m going to reenact what I believe happened that day. To do that, I will now be doing a South African accent. Now I know, many of you can’t tell the difference between my accent and a South African accent. Here’s the difference. Picture my accent, but I’m punching a black person. What I’m trying to say is South Africans are horrible people. So… she’s coming out of the shower. She’s been drying her hair. She’s listening to Rodriguez or something. She comes out. He’s laying on the bed. He looks up at her, he’s holding the phone, and he goes, [In South African accent] “What the fuck is this? I’ve been through your phone. You have been texting a rugby player.” And she’s like, “Oh! Fuck you! Who the fuck do you think you are?” “Who am I? I’m Oscar Pistorius, the greatest legless runner that has ever been. That’s who the fuck I am.” “Well, I would rather be with a rugby player. At least he is a whole man, not a three-quarter man like you.” – [Audience exclaiming] – I know. [Audience laughing] “Oh! Fuck you!” “No! Fuck you! I’m leaving you!” And then she storms out of the room, and then he was like… “You fucking bitch! [Grunts] I hate you! [Grunting] You will rue the day… that you left Oscar Pistorius, the Blade Runner! Don’t go anywhere! [Grunting] I hate you!” That’s where he keeps his legs. All right. Then he put the blades on. “Oh, you’re in trouble, missy. I tell you. I go to my gun safe.” She locked herself in the bathroom. He shot her through the bathroom door. Seems like overkill, doesn’t it? Bathrooms only have little tiny locks on them, but Oscar’s one of the few men on Earth that couldn’t kick the door in, right? He was wearing the blades, so… Boing! Ah! So… I think Oscar will probably go to prison. Now… in South Africa, one in four people have AIDS. I assume it may even be worse in the prison population. Now, can I say this? Look… I’ve never raped a man. I hate that I have to put “a man” in that sentence, but whatever. I’ve never raped a man, but… if I was going to rape a man, it would be a legless Olympian… ’cause in prison, it’s all about getting one up on other people, and making people think you’re tough and all that. Like, “You want to fucking rape me? I just raped an Olympian, bitch. Is that what you fucking want?” There’d be a wonderful moment… when you’re in the showers and he was crawling away like the end of a Terminator movie. [Chuckling] You know what I like about that joke? So often when you tell a joke, the rapist is the villain in the story, but not in that one. Not in that one. He’s the hero.',\n",
       " 'All right, we have to get going soon. Before I leave, – I thank you very much for coming. – [Audience groaning] No, I said, “soon,” not “over.” It’s just soon, you cunts, so calm down. [Chuckles] [Man whistles] I always… I always find that weird when someone, like, whistles like that. What do they think is going to happen? Like, I’m going to go, “Fucking you know me, mate. I was enjoying claps and cheers, but what I needed was a high-pitched squeal noise. Thank God you came along to pick up my spirits.” [Man] Love you! All right, final story. Now, I was in South Africa again. Jeez, I don’t think I’ll be working in South Africa after this special comes out. I used to do, like, one tour in South Africa every year, and I just don’t know if I’ll be invited this time. They’ll be like, [In South African accent] “We don’t like him. He’s no good.” Anyway, so, I’m in South Africa, and I had to fly back from Cape Town to Los Angeles, which is, like, a 26-hour flight. You’ve to go up to London and go across. Cunt of a trip. Um… But it was all right ’cause I had a business class ticket, so I didn’t give a fuck. And when I travel economy, I try to dress up nice ’cause I like to look good in case someone recognizes me and I might get an upgrade. But when I’ve already got a business class ticket, I try to look like a bag of shit… ’cause it’s important to me that everyone else in business class doesn’t want me there and they’re annoyed by my presence. So… I’m wearing a white T-shirt that’s got brown stains on it with a hole in the side. I’m wearing these small shorts with just one testicle hanging out. So, anyway, I go up to the counter, up to the business thing with the thing, and I go, “Hello,” and the lady goes, [In South African accent] “Oh, Mr. Jefferies, I’m so sorry, but you have been downgraded.” I said, “You what now?” She goes, “Business class is full. You have been downgraded.” And I said, “I understand that business class is full. I bought one of the tickets that made it full.” And she went, “I’m sorry, sir. There’s nothing I can do.” And then I just went, “Are you fucking kidding me?” Now, you know when you’re dealing with customer service people, and they want you to swear, ’cause as soon as you swear, they don’t have to engage with you anymore. They can act like they’re the first adult never to hear a swear word, and they can get really offended, right? So I went, “Are you fucking kidding me?” And she went, “Please do not speak to me that way! I have done nothing wrong!” And I said, “Are you, a white South African, telling me you’ve done nothing wrong?” Anyway… tensions rose. The manager comes over. Big fat cunt called Simon Fulcher, right? He walks over and goes, [In South African accent] “What is wrong here? What is wrong?” And I said, “I bought a business class ticket and I want a business class ticket.” And he goes, “What do you want me to do? Make a new chair for you? There are no more seats. I can’t do anything.” He goes, “I’ll tell you what I can do. Go up to the executive lounge. Have some peanuts. Enjoy a beverage. Listen to Rodriguez, and if something opens up, we will move you back up to business class. So I thought, “There’s nothing I can do.” So I walk off with my ticket. I’m walking through the airport like, “Fucking British Airways, bunch of fucking cunts.” Right? I get up to the counter. And the woman behind the counter said, “Tickets, please.” And I hand over my ticket and she goes, [In South African accent] “I’m sorry, sir, but this is for business class passengers only. Your ticket says ‘economy’ on it.” And I said… [Inhales sharply] “I bought a business class ticket, but you people have downgraded…” And as I was doing my little speech, she looked past me and went, “Next.” [Audience exclaiming] “Listen here, you fucking cunt.” [Audience laughing] All right? Now, you say “cunt” in any foreign country, people lose their fucking shit. Security came from everywhere. I was going, “Don’t you fucking come near me, cunt!” And I said, “I want to speak to Simon Fulcher,” like I’m… And they go, “All right.” They ring the manager up, and then they go… He goes, “Is it the pale Australian man?” And the guy went, “Yes.” He goes, “We’ve had problems with him. Let him through.” Right? So I go through. I’m sitting there, I’m eating my peanuts. And I’m just angry now, going, “Fucking British Airways. Fucking cunts, fucking…” Like that. And in walks in a group of Americans, about 30 of them. You know the type, right? They all… And whenever I see Americans abroad… I’ll do my impersonation of any American abroad. When Americans are abroad, you’re just pointing out shit you see. You’re just walking around going, [In American accent] “Oh, this is great! Look at that. That’s a chair right there. Okay. Oh, what’s that over there? Okay. Wonderful. Great.” Right? And this group walked in, and one of the women in the group went like this, she went, [In American accent] “Did anyone else see that Australian guy speaking to that lady out there? Some people have no class.” And I put my head around the pylon, and I went, “You can fuck off and all! You don’t know what I’ve been through! I’ve been downgraded!” And as I said that, 18 other people who were given the same lie that I was given, that they were going to be the next people promoted up to business class, the penny dropped. None of us are getting promoted. They all lied to us, and we formed an angry militia in seconds. It was like a scene out of Braveheart, and they all stood up and went, “Fucking downgraded!” And the woman in the group was doing this, “Don’t speak to me that way. Who the hell do you think you are?” And all the men in the group were like, “Hey, why don’t you shut the fuck up? Just shut the fuck up.” ♪ It doesn’t matter These people seem very angry, so ♪ And a guy breaks from the group and he tries to calm everyone down. And, sometimes, Americans, sometimes, you can seem a little insincere. And he came up and he went, [In American accent] “Hey. Hey. Yeah, I get it. [Exhales sharply] Downgraded, yeah. That really grinds my gears, I tell you that. Yeah, I would write a strongly-worded letter. I really would.” And then I thought, at least this guy’s being nice, and I said, “Look, mate, don’t worry about it. It’s not like it’s your fault.” And I said, “Why are you in such a big group anyway?” And he goes, “Oh, we’re in Neil Diamond’s band. That’s Neil Diamond’s backup singer you just called a cunt there.” And as he said that, Neil Diamond walked around the corner like a fucking superhero… and I reacted like he was one. I went, “Neil Diamond!” And Neil Diamond went, [In husky voice] “Hey, what’s going on?” And then, for a second there, there was a bit of my brain that thought maybe Neil Diamond could solve problems. And I went, “Neil! Me and all these people, we’ve been downgraded!” And Neil went, “Oh! Oh, right. Uh, well, maybe that’s our fault. We decided to come back a day early.” “You can fuck off and all, Neil Diamond!” And then a fight breaks out amongst the Neil Diamond band and the downgraded. Punches are thrown. Not by me. I don’t know if you have the Internet, but I’m not much of a fighter. I’m an excellent scurrier-awayer. I get down. “Hey, what have you got there? Hiya!” Anyway, the airport police came. Three people were arrested from the downgraded… but three people were arrested from the Neil Diamond band, and that meant that three seats opened up in business class. [Audience cheering] Ladies and gentlemen, thank you very much. Good night. Appreciate it. [Audience cheering] [Upbeat music playing] Thank you. Go home. Let’s have a drink. Bye.',\n",
       " 'Your email address will not be published. Required fields are marked *',\n",
       " 'Name*',\n",
       " 'E-mail*',\n",
       " 'Website',\n",
       " '   ',\n",
       " 'Dave Chappelle is back with his latest comedy special The Dreamer, premiering globally December 31, 2023 on Netflix',\n",
       " 'Gary Gulman’s 2019 HBO stand-up comedy special, The Great Depresh, is a poignant and hilarious exploration of his lifelong struggles with depression',\n",
       " 'Ricky Gervais: Armageddon is packed with Gervais’ signature brand of sharp, often controversial humor, tackling topics like artificial intelligence, political correctness, family weddings, funerals, and, as the title suggests, the end of humanity.',\n",
       " 'Gary Gulman’s “It’s About Time” (2016) stand-up special is a hilarious and introspective look into his neurotic and brilliant mind',\n",
       " '© 2023 Scraps from the Loft. All rights reserved.']"
      ]
     },
     "execution_count": 9,
     "metadata": {},
     "output_type": "execute_result"
    }
   ],
   "source": [
    "#url='http://scrapsfromtheloft.com/2017/05/06/louis-ck-oh-my-god-full-transcript/'\n",
    "#post-template-default\n",
    "#site-main\n",
    "url='http://scrapsfromtheloft.com/2017/04/21/jim-jefferies-bare-2014-full-transcript/'\n",
    "page = requests.get(url).text\n",
    "page\n",
    "soup = BeautifulSoup(page, \"html\")\n",
    "#soup.find(class_=\"post-template-default\").find_all('p')\n",
    "text = [p.text for p in soup.find(class_=\"post-template-default\").find_all('p')]\n",
    "text"
   ]
  },
  {
   "cell_type": "code",
   "execution_count": 13,
   "metadata": {},
   "outputs": [
    {
     "name": "stdout",
     "output_type": "stream",
     "text": [
      "http://scrapsfromtheloft.com/2017/05/06/louis-ck-oh-my-god-full-transcript/\n",
      "http://scrapsfromtheloft.com/2017/04/11/dave-chappelle-age-spin-2017-full-transcript/\n",
      "http://scrapsfromtheloft.com/2018/03/15/ricky-gervais-humanity-transcript/\n",
      "http://scrapsfromtheloft.com/2017/05/24/bill-burr-im-sorry-feel-way-2014-full-transcript/\n",
      "http://scrapsfromtheloft.com/2017/04/21/jim-jefferies-bare-2014-full-transcript/\n",
      "http://scrapsfromtheloft.com/2017/08/02/john-mulaney-comeback-kid-2015-full-transcript/\n",
      "http://scrapsfromtheloft.com/2017/09/19/ali-wong-baby-cobra-2016-full-transcript/\n",
      "http://scrapsfromtheloft.com/2017/08/03/anthony-jeselnik-thoughts-prayers-2015-full-transcript/\n",
      "http://scrapsfromtheloft.com/2018/03/03/mike-birbiglia-my-girlfriends-boyfriend-2013-full-transcript/\n",
      "http://scrapsfromtheloft.com/2017/08/19/joe-rogan-triggered-2016-full-transcript/\n"
     ]
    }
   ],
   "source": [
    "# # Actually request transcripts (takes a few minutes to run)\n",
    "transcripts = [url_to_transcript(u) for u in urls]"
   ]
  },
  {
   "cell_type": "code",
   "execution_count": 14,
   "metadata": {},
   "outputs": [
    {
     "name": "stderr",
     "output_type": "stream",
     "text": [
      "A subdirectory or file transcripts already exists.\n"
     ]
    }
   ],
   "source": [
    "# # Pickle files for later use\n",
    "\n",
    "# # Make a new directory to hold the text files\n",
    "!mkdir transcripts\n",
    "\n",
    "for i, c in enumerate(comedians):\n",
    "     with open(\"transcripts/\" + c + \".txt\", \"wb\") as file:\n",
    "         pickle.dump(transcripts[i], file)"
   ]
  },
  {
   "cell_type": "code",
   "execution_count": 15,
   "metadata": {},
   "outputs": [],
   "source": [
    "# Load pickled files\n",
    "data = {}\n",
    "for i, c in enumerate(comedians):\n",
    "    with open(\"transcripts/\" + c + \".txt\", \"rb\") as file:\n",
    "        data[c] = pickle.load(file)"
   ]
  },
  {
   "cell_type": "code",
   "execution_count": 16,
   "metadata": {},
   "outputs": [
    {
     "data": {
      "text/plain": [
       "dict_keys(['louis', 'dave', 'ricky', 'bill', 'jim', 'john', 'ali', 'anthony', 'mike', 'joe'])"
      ]
     },
     "execution_count": 16,
     "metadata": {},
     "output_type": "execute_result"
    }
   ],
   "source": [
    "# Double check to make sure data has been loaded properly\n",
    "data.keys()"
   ]
  },
  {
   "cell_type": "code",
   "execution_count": 17,
   "metadata": {},
   "outputs": [
    {
     "data": {
      "text/plain": [
       "['Intro Fade the music out. Let’s roll. Hold there. Lights. Do the lights. Thank you. Thank you very much. I appreciate that. I don’t necessarily agree with you, but I appreciate very much. Well, this is a nice place. This is easily the nicest place For many miles in every direction. That’s how you compliment a building And shit on a town with one sentence. It is odd around here, as I was driving here. There doesn’t seem to be any difference Between the sidewalk and the street for pedestrians here. People just kind of walk in the middle of the road. I love traveling And seeing all the different parts of the country. I live in New York. I live in a– There’s no value to your doing that at all.',\n",
       " '“The Old Lady And The Dog” I live– I live in New York. I always– Like, there’s this old lady in my neighborhood, And she’s always walking her dog. She’s always just– she’s very old. She just stands there just being old, And the dog just fights gravity every day, just– The two of them, it’s really– The dog’s got a cloudy eye, and she’s got a cloudy eye, And they just stand there looking at the street In two dimensions together, and– And she’s always wearing, like, this old sweater dress. I guess it was a sweater when she was, like, 5’10”, But now it’s just, like, this sweater And her legs are– her legs are a nightmare. They’re just white with green streaks and bones sticking out. Her legs are awful. I saw a guy with no legs wheeling by, And he was like, “yecch, no thank you. “I do not want those. “I’d rather just have air down here like I have Than to look down at that shit.” I see these two all the time, and I always look at them, And I always think, “god, I hope she dies first.” I do. I hope she dies first, for her sake, Because I don’t want her to lose the dog. I don’t think she’ll be able to handle it. If she dies– If the old lady dies first, I’m not worried about the dog Because the dog doesn’t even know about the old lady. This dog is aware of three inches around his head. He’s living in two-second increments. The second he’s in and the one he just left Is all he knows about, But if he dies, this lady, she’s gonna be destroyed Because this dog is all she has, And I know he’s all she has because she has him. There’s no– If she had one person in her life, She would not keep this piece of shit little dog. Even if just some young woman in her building one morning Were to say, “good morning, gladys,” She’d be like, “good,” And just flush him down the toilet, just– Poom! Poom! The dog just keeps bumping on the drain. Poom! “” she gives up. Ends up just shitting on her dog for the rest of her life. P-p-p! Poom!']"
      ]
     },
     "execution_count": 17,
     "metadata": {},
     "output_type": "execute_result"
    }
   ],
   "source": [
    "# More checks\n",
    "data['louis'][:2]"
   ]
  },
  {
   "cell_type": "markdown",
   "metadata": {},
   "source": [
    "## 清理資料  Cleaning The Data"
   ]
  },
  {
   "cell_type": "markdown",
   "metadata": {},
   "source": [
    "When dealing with numerical data, data cleaning often involves removing null values and duplicate data, dealing with outliers, etc. With text data, there are some common data cleaning techniques, which are also known as text pre-processing techniques.\n",
    "\n",
    "With text data, this cleaning process can go on forever. There's always an exception to every cleaning step. So, we're going to follow the MVP (minimum viable product) approach - start simple and iterate. Here are a bunch of things you can do to clean your data. We're going to execute just the common cleaning steps here and the rest can be done at a later point to improve our results.\n",
    "\n",
    "*<font color = blue>在處理數值資料時，資料清洗往往涉及移除空值和重複資料、處理離群值等。對於文字數據，有一些常見的資料清洗技術，也稱為文字預處理技術。</font>*\n",
    "\n",
    "*<font color = blue>有了文字數據，這個清理過程就可以永遠持續下去。 每個清潔步驟總有一個例外。 因此，我們將遵循 MVP（minimum viable product）方法 - 從簡單開始並迭代。 您可以執行以下一系列操作來清理資料。 我們將在這裡僅執行常見的清潔步驟，其餘的可以稍後完成以改善我們的結果。</font>*\n",
    "\n",
    "**Common data cleaning steps on all text:**\n",
    "* Make text all lower case\n",
    "* Remove punctuation\n",
    "* Remove numerical values\n",
    "* Remove common non-sensical text (/n)\n",
    "* Tokenize text\n",
    "* Remove stop words\n",
    "\n",
    "**More data cleaning steps after tokenization:**\n",
    "* Stemming / lemmatization\n",
    "* Parts of speech tagging\n",
    "* Create bi-grams or tri-grams\n",
    "* Deal with typos\n",
    "* And more..."
   ]
  },
  {
   "cell_type": "code",
   "execution_count": 18,
   "metadata": {},
   "outputs": [
    {
     "data": {
      "text/plain": [
       "'louis'"
      ]
     },
     "execution_count": 18,
     "metadata": {},
     "output_type": "execute_result"
    }
   ],
   "source": [
    "# Let's take a look at our data again\n",
    "next(iter(data.keys()))"
   ]
  },
  {
   "cell_type": "code",
   "execution_count": 19,
   "metadata": {},
   "outputs": [
    {
     "data": {
      "text/plain": [
       "['Intro Fade the music out. Let’s roll. Hold there. Lights. Do the lights. Thank you. Thank you very much. I appreciate that. I don’t necessarily agree with you, but I appreciate very much. Well, this is a nice place. This is easily the nicest place For many miles in every direction. That’s how you compliment a building And shit on a town with one sentence. It is odd around here, as I was driving here. There doesn’t seem to be any difference Between the sidewalk and the street for pedestrians here. People just kind of walk in the middle of the road. I love traveling And seeing all the different parts of the country. I live in New York. I live in a– There’s no value to your doing that at all.',\n",
       " '“The Old Lady And The Dog” I live– I live in New York. I always– Like, there’s this old lady in my neighborhood, And she’s always walking her dog. She’s always just– she’s very old. She just stands there just being old, And the dog just fights gravity every day, just– The two of them, it’s really– The dog’s got a cloudy eye, and she’s got a cloudy eye, And they just stand there looking at the street In two dimensions together, and– And she’s always wearing, like, this old sweater dress. I guess it was a sweater when she was, like, 5’10”, But now it’s just, like, this sweater And her legs are– her legs are a nightmare. They’re just white with green streaks and bones sticking out. Her legs are awful. I saw a guy with no legs wheeling by, And he was like, “yecch, no thank you. “I do not want those. “I’d rather just have air down here like I have Than to look down at that shit.” I see these two all the time, and I always look at them, And I always think, “god, I hope she dies first.” I do. I hope she dies first, for her sake, Because I don’t want her to lose the dog. I don’t think she’ll be able to handle it. If she dies– If the old lady dies first, I’m not worried about the dog Because the dog doesn’t even know about the old lady. This dog is aware of three inches around his head. He’s living in two-second increments. The second he’s in and the one he just left Is all he knows about, But if he dies, this lady, she’s gonna be destroyed Because this dog is all she has, And I know he’s all she has because she has him. There’s no– If she had one person in her life, She would not keep this piece of shit little dog. Even if just some young woman in her building one morning Were to say, “good morning, gladys,” She’d be like, “good,” And just flush him down the toilet, just– Poom! Poom! The dog just keeps bumping on the drain. Poom! “” she gives up. Ends up just shitting on her dog for the rest of her life. P-p-p! Poom!',\n",
       " '“My Daughter Likes Fish” You ever flush a pet down the toilet? I had to flush my daughter’s fish down the toilet. I came home, the fish was dead. She wasn’t home from school yet, so I just flushed the fish, And that’s a weird moment, too, ’cause fish live in water. So you put it in the toilet, floats to the bottom, Like, “yeah, he’s dead,” And then you flush, and it looks like he goes, “wait a second! Aw, shit! “I was taking a nap! Jesus! “you gotta be in constant motion To get any respect in this house.” And then my daughter comes home. “why did he die, da–” Come on. What am I gonna say? Why did he die? Because who gives a shit? That’s the reason. That’s the actual reason, is because didn’t matter That he was alive. That’s why he’s dead. He didn’t know his name, and he didn’t love you back. These are the facts about that fish’s life. My daughter likes fish. We took her to the aquarium. I took both my kids to the aquarium in boston, And we were looking at this seal, or sea lion. I don’t know which one. I don’t care. I don’t think they need to be separate things. I really don’t. They don’t care, and we don’t care. There’s, like, three scientists Who give a shit what we call all those things. The scientists could go on TV tomorrow And say, “ok, everybody. “from now on, seals and sea lions and walruses, And–you know what?–Penguins are all seals now,” And we would all be like, “yeah, all right. Fine. Yes. Whatever, man.” Anyway, so we’re looking at this seal/sea lion thing, And he’s looking back at us through the plexiglas, And he’s going– They’re really disgusting in person. Most animals are when you really see them. You ever go to a farm? You think you’re gonna see little, white sheep Going, “baa,” but they’re all fat and shit-colored, And they’re like– Jesus. That thing is awful. Anyway, seals don’t go– They go– My daughter’s like, “what is he saying?” I don’t know! “I’m a slave! Kill me!”',\n",
       " '“The Food Chain” Must be awful to be other kinds of stuff, You know? I’m glad I’m this. This is a pretty good deal when you consider the alternatives. Anything else, any other kind of thing, you’re in the food chain. You’re in the food– we are out of the food chain. I don’t know if we fully appreciate the fact That we got out of the food chain. That is a massive upgrade Because for every other living thing, Life ends by being eaten. That’s how all life ends, is– Every single life except human life, Every life ends like this. Aah! Aah! Aah! We’re the only ones that get to just die old in a bed, Just “I love you. Bye.” I mean, imagine if we were still in the food chain On top of everything else. Imagine if we were in the food chain. It would just be another thing you gotta deal with. You’re already having a bad day. You wake in up in the morning. You’re making breakfast. You burn your toast, and it’s too late to try again, And your kid comes in and says, “beh,” and you’re like, “fine,” And it’s just, “why?” You get a thing in the mail That says that your phone’s different, And your mortgage is another company now. What? I don’t get it! Then you’re walking to work like, “why do I even bother? “shit! Goddamn it! “there’s always fucking cheetahs at the train station! Stop it!” You think that sharks– Do you think that sharks would be embarrassed If they knew that we could all see their fins Sticking out the top of the water? I think they’d be bummed ’cause I don’t think sharks are aware of that at all. I think sharks think they’re slick. They swim around like, “hey, nobody has any idea what’s down here,” And we’re all up here like, “there’s totally a shark right there.” It wouldn’t be fun being a predator, either. If you’re a predator, imagine if every time you’re hungry, You gotta chase a guy Who’s running for his life. You gotta– “come on, dude! Shit, get over here!” And just hold him down and bite his neck Till he shuts the fuck up for a minute So you can just sit there and eat his stomach Before you go to work. That would really suck. That’s why animals just– They go, “let’s do this together, man. “you chase the parents away. I am gonna eat the kid, and you circle back.” That’s why they do it like that. “fuck it. I’m eating babies. This is bullshit.” “grownups ain’t worth the meat.” Whoops, all right. All right. shit. Goddamn it. Idiot. This isn’t a gay voice, by the way. It’s not. Shut up. yeah.',\n",
       " '“Courtyard Confrontation” I live in New York city, and it’s OK there. I live in a nice building. I never lived in a nice place before. When I was growing up, I had no money. I mean, my mom didn’t. Didn’t matter. I was a child. But I’m not used to it ’cause it’s nice. There’s, like, a pretty courtyard With flowers and a fountain with little marble boys pissing. I don’t know. What is it with fountains? Like, all fountain sculptors are pedophiles, basically. You can’t get a fountain made without– “can you make me a fountain?” “yes, I’ll get started right away! “Yes! Yes! It’s finished!” And it’s just little boys pissing on the face Of a Greek god that looks like him a lot. “just piss on me forever!” Anyway, there’s one of those in the courtyard of my building, And my first week in the building about a year ago, I went down to the courtyard for the first time, And I didn’t look too good, you know? It was a Sunday morning. That’s my least presentable hour. There’s a lot of, you know, just stains, Just like, you know, food and me and whatever… And so I’m sitting there. So? Shut up. Ha ha ha! Anyway, but so there I was. I’m sitting on the stone bench of this courtyard And feeling a little out of place. You know, there’s these fancy doormen and stuff, And then there’s this guy looking at me. I notice he’s looking at me from across the courtyard, And he’s all spiffy-looking. He’s got brown shoes, and he’s looking at me like, “” I can tell he was thinking I don’t live in the building. He thinks I just wandered in off the streets And sat in the courtyard. I can tell he’s thinking of coming over And dealing with me on his own, and I’m sitting there thinking, Like, “please do that. Yes. Please, come on, come on. Come on, come on, come on,” And I’m trying to look even more gross, And I’m, like, pulling up my shirt, “” And then I see him go, “no. That’s not gonna do at all,” And he comes over to me, “” and I’m like, “Num num num!” I’m so excited to have this thing, a confrontation Where I’m not wrong at all and he thinks I am. “rrgh!” So he comes over, says, “excuse me, “do you live in this building?” And I said, “no,” ’cause why not start there? I said, “no.” He goes, “well then, what are you doing here?” And I said, “I just need to rest. I’m having a hard time.” He says, “this is private property,” And I said, “well, I don’t really believe in that.” You know, just the worst things I could say from his point of view is basically all the things I was saying, And he goes, “well, if you don’t leave, I’m gonna talk to the doorman.” I was like, “can I just stay, like, five more hours?” So he’s–“no,” and he goes over to the doorman and I see him talking about me to the doorman like this, and then I see the doorman going, “no. That guy lives here. It’s OK,” And the look on his face– mwah mwah! Num num!– It was just so– It was this beautiful cocktail of anger and confusion. It’s like I had invented a new way to hurt somebody’s feelings. That’s how excited I was.',\n",
       " '“Getting What ‘Old’ Is” I’m 45 now, So I’m either halfway through a healthy life or almost done with a not-so-healthy life. I don’t know which one. I won’t know till it’s over where this was. I don’t know how long I’m gonna live. I don’t know. Nobody knows, I guess. I think human life expectancy is pretty good. We get a good run, you know? Some people die early, you know? If I die now, people will be like, “that’s too bad.” If I die five years from now, they’ll be like, “well, all right,” like it’s not even– It’s– Like, as soon as you’re 50, you’re a candidate. You know, there’s no candlelight vigils for 50-year-old guys that die, and you start pushing– You know, some people get to be like, 80s, 90s. You know, there are people that get to, like, 114, and then they’re in the news, and it’s always some old guy, “I met Napoleon.” No, you didn’t, you liar, You oldest liar in the world. But 45, you know, you’re not old yet, But you start having moments Where you kind of start getting what old is, Especially if you didn’t take care of yourself, you know? I have moments where I’m like, “wow, this seems early for this.” Like, this is something that happens to me a lot. I’ll be sitting watching TV or doing nothing, And all of a sudden, I’ll realize, “I need to wipe my ass right now.” “I mean, nothing happened, But I really gotta wipe my ass right now. Right now.” Gotta make trips to the bathroom just to wipe my ass. How does this happen already? I’m 45. Already, my asshole’s just like, “Just– ” My asshole– My asshole’s like the waistband on old pajama bottoms, Just kinda… Loose and ineffectual. My asshole’s like a bag of leaves that nobody tied up. It’s just sitting on the lawn, full and open, Puking leaves onto the grass with every wisp of wind. Some kid kicks it over on his way home From a tough day at middle school. “rats.” That’s a pretty accurate description of my asshole. Here’s another thing about my age right now. If I’m– OK. Say I’m sitting down. If I’m sitting anywhere, which–ha ha ha!– I love sitting so much– I would take sitting and doing nothing To standing and fucking any day. This is way better than coming. This is way better. This is what– At my age, if I’m sitting down and somebody tells me I need to get up and go to another room, I need to be told all the information why first. You gotta explain all that shit to me. “what? Why do I– no. Why, though?” “Your car is being towed right now!” “Well, that’s what happens to me, then. That’s– I accept that.” ’cause getting up is a whole thing. It means first, I have to decide, “do I really want to be alive anymore?” Like, let’s start with that, And then I gotta, “” start kind of rocking to get momentum, “” like I’m trying to get an old Honda out of a snow bank. “shit.”',\n",
       " '“Putting On Socks” The worst part of my day, worst part of every day of my life, is when I have to put on my socks. Putting on my socks is the worst part of every day, and it always will be. Even if I have a terrible day in the future Where my grandmother is murdered by my other grandmother, If that ever happened to me, the worst part of that day Will be when I put on my socks because– Putting on my socks, that means I have to– Here’s what I have to do. I have to get my hands past my pointed toe. I don’t even know how I do it. I’m sitting here. I don’t know how I do that. It’s ’cause you have to– It’s like folding a bowling ball in half. Soon as I start, I can feel– I’m pushing all the fat up into my vital organs, And I just feel all the systems failing. “beep, beep, beep!” And I have to, like, lay on my back like an eight-year-old And go like this, and I start passing out. And I know other people’s lives are hard. Ha ha ha! I know. I saw an interview on TV with Michael J. Fox, And he has Parkinson’s, and he was describing brushing his teeth, and he said It takes him two hours a day, and he said it’s agony, And I saw this and I thought, “OK. That’s hard.” That is hard, And so is putting on my socks. Sorry, Michael. Doesn’t make it easier to know about your thing. Tell you what. I’ll help you brush your teeth, you help me with the socks.',\n",
       " '“If You’re Older You’re Smarter” I don’t know. I like getting older, though. Life is an education, and if you’re older, you’re smarter. I just believe that. If you’re in an argument with somebody And they’re older than you, you should listen to them. It doesn’t mean they’re right. It means that even if they’re wrong, Their wrongness is rooted in more information than you have. They’ve been there longer. If you’re older, you’re smarter. How many people here, by applause, are 45 or older? 45 or older, applaud. OK. That’s about 60 people out of 2,400. Here’s the interesting thing. There’s way more. I can see you. There’s so many more. This is Arizona. There are way more people in that demographic, But they didn’t clap. Why? ’cause they’re smart. They’re sitting in the dark going, “I don’t have to clap. I don’t have to do anything.” They’re not doing it, and they’re right. You know why? ’cause never identify yourself. Never. Are you crazy? You don’t know why I’m asking. How do you know what– OK. Burn them all. Burn everybody over 45. How do you know I’m not gonna do that? How many people here, by applause, are 40 or younger? 40 or younger, applaud. That’s every time. “Whoo! Whoo!” every time. That is a weird thing to celebrate in a room where you’re not the only people here. That’s like going to a cancer ward– “not me! Whoo! I don’t have it! I don’t have it!” If you’re older, you’re smarter. A 55-year-old garbage man is a million times smarter than a 28-year-old with three ph.D.S, Especially smarter than him, ’cause this idiot Has been thinking about three things for, like, 15 years. He’s worthless. The garbage man is 55. He’s had some experience. Things have happened to him. He went to cape cod one summer. He saw a dead guy floating in the motel pool. He took a bus to Montreal. He got a hand job at a fair… From a miner. I mean a miner. Not a minor, a miner. You understand? A miner. A grown man who works in a mine With dirty hands jacked him off at a county fair. That’s what I’m saying happened to the 55-year-old. You see? He’s had some experience. He knows more. More has happened to him. He’s seen more. He’s seen history. He’s witnessed history, Even if it’s not ancient history. He saw Nixon resign on live television. Me and those few people that clapped, We saw the president of America cry And then quit being the president. That shit was crazy ’cause none of us knew what was gonna happen next. Today people are like, “the president’s kind of disappointing.” Really? Our president wept like an insane person And then got on a helicopter and flew away… And the whole nation just watched him go.',\n",
       " '“Getting Older Makes My Life Better” I like getting older, though, because for me, The kind of guy I am, getting older Makes my life better, you know, Like, my sex life, way better at 45, Look, ’cause this situation is OK at 45. This is not a fun kind of a 17-year-old to be. And some people, their life is better when they’re younger. You know, young dudes, young, skinny dudes, Best life in the world is being a young, skinny dude. They don’t have to do anything. They just show up With a big adam’s apple and a smelly t-shirt. “hey, I’m here for the easy pussy for the rest of my life.” “so where do I– everywhere? OK. Cool.” But for guys like me, this is not a fun youth. It gets better. I’d like to make one of those “it gets better” ads For just dumpy, young guys. We could use a little help, a little encouragement, Just somebody on TV, “listen, man. “I know it’s tough right now. “You’re vaguely heavy with no face. “You have zero value on the sexual marketplace. “You feel invisible to the girls in school because you are, “but it gets better because you’ll all grow up, “and you pretty much look just like this your whole life, “and they don’t. “Their options start running out really fast, “and you’re gonna be there. “As long as you stay relatively employed and washed, “you’re gonna be amazing in your 40s. “You’re gonna be– “you’re gonna be the branch that she can grab “before she hits the ground. “It’s gonna be so great. “It just takes time for her circumstances “to match your looks, but it’s gonna happen. “It’s gonna happen. “When real shit matters, you’re gonna be the sexiest motherfucker in the world.” It’s just time. That’s all it takes. There’s a formula to this. It’s pussy plus time over income squared.',\n",
       " '“Everybody Has Their Time” Everybody has their time. Everybody has their time. I mean, not everybody. There are people out there who there’s just nobody for them. Yep. People like to say things like, “there’s someone for everyone.” Nope! Not at all true, and stop saying it ’cause it’s mean to people who never find anybody. There are millions of people out there who we’ve all unanimously decided, they are light speed ugly and nobody kisses them on the lips, even. Nobody touches their genitals their entire life. They just wash it, and then they die. That’s all that happens, “aww,” and if you’re feeling bad for them, you can go find one and fuck one tomorrow, you can just solve the problem right there with all that kindness in your heart. “Aww.” Well, go fuck one. “Nah.” I didn’t think so. That’s the one way we’re all mean. Nobody does that. Nobody fucks down, nobody. People fuck up or across. Some women fuck down because a guy talked them into that it was up. Some guy, “yeah. No. You should. I’m totally up. Yeah.”',\n",
       " '“Dating Takes Courage” It’s a weird selection process that we have. Dating really is– It’s how we evolve, is dating. It’s how we choose each other, And dating is a real drag for a lot of people, But I always think it’s a nice thing. You know, when I see a date, I’m always happy when I see a couple on a date ’cause it means people are still trying, you know? You see a couple on a date, It means there’s still courage out there. That takes courage, to go on a date, for both sides, Two very different kinds of courage. The male courage, traditionally speaking, is that he decided to ask. He went up to a random woman who he has no idea If she’s gonna like him or not and he walked up to her terrified. Everything in your body is telling you, “just go the fuck home and jerk off. Don’t do this!” But he walked up and said, “hi. Yes,” And she’s like, “” “no, no, no. A second. Give me a second,” And you try to get through this membrane of, you know– And then, if it works And you say, “you wanna go out sometime?” Sometimes she’ll say yes, and if she says yes, that’s her courage, and the courage it takes for a woman to say yes is beyond anything I can imagine. A woman saying yes to a date with a man is literally insane and ill-advised, and the whole species’ existence counts on them doing it, and I don’t know how they– How do women still go out with guys when you consider the fact that there is no greater threat to women than men? We’re the number-one threat to women. Globally and historically, we’re the number-one cause of injury and mayhem to women. We’re the worst thing that ever happens to them. That’s true. You know what our number-one threat is? Heart disease. That’s the whole thing. That’s it, just our own heart going, “dude, I can’t– “you can’t keep doing this. I told you three strokes ago that this is not smart,” But women still– “yeah. I’ll go out with you alone at night.” What are you, nuts? “I’ll get in your car with you with my little shoulders. Hi. Where are we going?” “To your death, statistically.” How do they still do it? If you’re a guy, try to imagine that you could only date a half-bear, half-lion, And you’re like, “I hope this one’s nice. I hope he doesn’t do what he’s going to do.”',\n",
       " '“First Date” I always– I love when I see a date. You know, when you see a date, you can tell it’s the first date ’cause of the way they’re walking together And she’s looking up at his face trying to figure him out, And he’s just a mess. A guy on a first date just has no actual personality. He’s just a mishmash of different kinds of dudes for a couple of seconds each, just anything, no cohesive– Just like a ransom note cut out of a lot of magazines, just, you know, “well… “ha ha! “well, yes. I think so, too. Ha ha! Rrgh…” Whatever, just like a blind dick in space just thrusting in infinite directions Hoping to find pay dirt at someplace, And then sometimes you see a date that’s later down the line and something has happened. There’s something that happens in a date that I never get to witness ’cause women do this. They get to do it inside. They get to just decide quietly, “I’m gonna let him fuck me.” They just get to decide. Something he says, and she’s like, “that was good. He’s gonna fuck me later,” And he has no idea. He’s still, like, trying all this shit. He still has no idea he’s already in there.',\n",
       " '“Tits” Guys are– We love women a lot– all men do– And we just look at you. That’s what I do. I just look at women. I just–“” Like they’re, you know, cakes in windows. I just–“” I was walking in New York once, and there’s these two very cute women walking behind me, and I was trying to walk slowly so I could hear what they were saying to each other, you know, ’cause they were cute, so I wanted to hear them, like that’s gonna help me in any way, to hear their– “don’t you wish the guy walking in front of us would squeeze our tits for, like, one second?” OK. Here. Here I go. Thank you. It’s really a flaw in men that we would all do that. If you’re a woman, you could ask any guy on planet earth, “could you squeeze my tit for one second?” And 100% of us will go, “yes, of course.” That doesn’t matter. I could be doing open heart surgery. “yeah. Ok.” Beep! “don’t worry. He’s not your tits. Don’t worry about it.” I don’t know why we love tits so much. Some people say it’s because we breastfeed, but so do women, Or, you know, baby women. Not grown-up women, don’t usually– You don’t see, like, a 68-year-old woman, Like, a stately look– You know, like Sigourney weaver, Like, sucking milk out of a young woman’s tit. “thank you, Deborah. I’ll see you tomorrow at 2:00.” It’s not usually the thing, Is the elderly breastfeeding from the young, Except for at the end of “the grapes of wrath,” Which I don’t mean to ruin that book for you, But you should have read it by now. I don’t know if you read “the grapes of wrath,” But that’s how it ends, with an old, dying man Sucking milk out of a young girl’s tits, And then the book is over, and you’re like, “Jesus! What happened at the end there? That’s crazy.” There’s no other book in that genre. There’s no dense, historic classic That ends with a weird, porny paragraph at the very– “and then Anna Karenina shat on his chest.” “holy moly with that!” “the end.” “my god! “that is a violent shift in tone at the end of that book. I’ve been reading this book for three months.” But we do, we love tits, And you always know a tit. You always know a tit. You know, like you ever been in a crowded place– Like a subway or like, you know, a sports stadium– And you’re smooshed in with other people And your elbow touches a tit behind you, you’re like, “that’s a tit. I just touched it. I know that was a tit. I know it!” Because the sensitivity of the male elbow To tit flesh specifically is unbelievable, just to tits, ’cause you could drive a tack in there, I’m not gonna feel it, But a tit– Through a shirt and a sweater and a jacket And her jacket, sweater, shirt and bra, somehow… “it’s a tit! I touched a tit! “I touched a tit! I touched one tit. One tit.” That’s rare, to touch one tit. It’s like a four-leaf clover. Usually, you touch two. The only time you touch one tit is when it was an accident Or you didn’t have permission, But otherwise… When tit access is granted, It’s usually good for two tits at a time. It’s, once you’re on one– You really have to screw up really badly and quickly To lose tit access between tits one and two. You must have said something really dumb on the first tit That you didn’t get the second one. “yeah, it’s like your mom’s dirty whore tit.” “why? What? I said I liked it. “that’s what I meant, is that I like it. “I like your mom’s dirty whore tit, And I like yours,” And if it’s up to the guy, we’re gonna touch both tits. No guy touches a tit and then goes, “you know what? “I’m good with the one. That’s fine for me. Everything in moderation.” We’re gonna touch both, Even if something terrible happens in the middle of– “yeah–” “there’s a bomb!” “shit! Come on, let’s get– “come on! Let’s get your tits out of here!”',\n",
       " '“Divorce” I’ve seen a few tits. I’ve seen–I don’t know– 48 maybe. I don’t know. I had my history in my life, you know? I’ve been divorced for five years, And it’s been the best part of my life, being divorced, Easily my favorite part of my life. I love being divorced. Every year has been better than the last. That is the only time I can say that about, and by the way, I’m not saying don’t get married. If you meet somebody, fall in love and get married, And then get divorced because that’s the best part. It’s the best part. Marriage is just like a larva stage for true happiness, Which is divorce, Because you just let go and everything’s fine now. Divorce is forever. It really actually is. Marriage is for how long you can hack it, But divorce just gets stronger like a piece of oak. Nobody ever says, ” my divorce is falling apart. It’s over. I can’t take it.” And again, if you’re in a good marriage, stay in it. If you’re in the best marriage ever, stay in it. I’m just saying, if you got out, it would be better. That’s just a fact. I’m sorry. I’m sorry, but it’s true. Everything’s better. My ex-wife and I, This is the best part of our knowing each other. We’re good co-parents because we live apart and we’re friends. Our kids go to her half the week, They come to me half the week, and I’m a good father. I’m an attentive, focused, and responsible father. Do you know why? ‘Cause I get to say good-bye to these kids every week. Are you shitting me? It’s like every parent’s fantasy. Who can’t be a good father for half of every week? No matter how bad it gets, every Wednesday, I get to go, “good-bye, girls. “Daddy’s gonna go upstairs and pour whiskey all over his naked body right now.” “I’m gonna lay in my own filth until two seconds before you come back here.” That’s why I’m such a good dad.',\n",
       " '“Videoing Your Kids” My daughter was having a dance thing at her school. They had this big dance. Anyway, we all went, all the parents, And everybody’s there, and everybody’s got their phone, Every single parent. It was an amazing thing to watch ’cause kids are dancing And every parent is standing there like this. Every single person was blocking their vision Of their actual child with their phone, and the kids– I went over by the stage and the kids– There’s people holding iPads in front of their faces. It looked like we’re all in the witness protection program. Like, the kids can’t see their parents, And everybody’s watching a shitty movie Of something that’s happening ten feet– Like, look at your fucking kid. The resolution on the kid is unbelievable if you just look. It’s totally HD. Why are you taping this? You’re never gonna watch it. In a million years, you’re not gonna watch videos Of your kids doing shit you missed The first time it happened. You don’t watch it. You just put it on Facebook. “here, you watch it. I wanna take a nap now.” And then you get to read all the comments. “my god! “it’s so cute! Ngaah!” And guess what? They’re not watching it, either. They’re not watching the video. These kids are dancing for no one. Nobody watches the videos on your Facebook. They see the first frame of a kid and they go, “that’s very nice. OK. Back to this.” Nobody’s watching your kids’ videos on Facebook, I promise you. I’ll prove it to you. Next time you tape your kid’s dance, Tape one second of it and then add 20 minutes of just your own asshole. Just go in the bathroom and just record your own anus opening and closing for 20 minutes. Tack it onto your kid dancing for a second. Put that on Facebook. Everybody will write the same thing. “That’s adorable! I think I see a future star!”',\n",
       " '“Life Is A Good Deal” Don’t tape shit on your– Life is short. Life is very short. I like life. I like it. I feel like even if it ends up being short, I got lucky to have it ’cause life is an amazing gift When you think about what you get with a basic life, Not even a particularly lucky life or a healthy life. If you have a life, that’s an ama– Here’s your boilerplate deal with life. This is basic cable, what you get when you get life. You get to be on earth. First of all–my god– what a location. This is earth, and for trillions of miles in every direction, It fucking sucks so bad. It’s so shitty that your eyes bolt out of your head ’cause it sucks so bad. You get to be on earth and look at shit, As long as you’re not blind or whatever it is. You get to be here. You get to eat food. You get to put bacon in your mouth. I mean, when you have bacon in your mouth, It doesn’t matter who’s president or anything, You just–“” Every time I’m eating bacon, I think, “I could die right now,” and I mean it! That’s how good life is. You get to– you get to fuck. That’s free if you’re smart. That comes with. That’s part of the deal. Where else are you gonna get that deal? You get to put your dick in there and go in and out, Pretty good, And if you’re a woman, you get to just lay back And just have a dick just shoving in and out of you awkwardly Anytime you want, anytime you want. If you’re a gay man, you get to just fill your boyfriend’s ass with your dick, just fill it all the way to the balls, And it’s nice and warm and tight in there, And he’s your buddy. If you’re a lesbian, You get to do all the stuff they’re doing, and… It’s a great deal. You get to eat. You get to fuck. You get to read “to kill a mockingbird.” It’s a great life. So, you know, I’m not worried about it ending.',\n",
       " '“Behind The Wheel” It’s pretty good, and I’ve wasted a lot of time Just being angry at people I don’t know. You know, it’s amazing how nasty we can get as people, Depending on the situation. Like, most people are OK as long as they’re OK, But if you put people in certain contexts, they just change. Like, when I’m in my car, I have a different set of values. I am the worst person I can be when I’m behind the wheel, which is when I’m at my most dangerous. When you’re driving, That’s when you need to be the most compassionate And responsible of any other time in your life ’cause you are fucking driving a weapon amongst weapons, and yet it’s the worst people get, and I am the worst. One time, I was driving, and there was a guy ahead of me, And he kind of–I don’t know– sorta drifted into my lane for a second, and this came out of my mouth. I said, “worthless piece of shit.” I mean, what an indictment. What kind of a way is that to feel about another human being? “Worthless piece of shit”? That’s somebody’s son. And things I’ve said to other people. I was once driving, and some guy in a pickup truck did– I don’t remember, even– And I yelled out my window, I said, “hey, fuck you!” Where outside of a car is that even nearly OK? If you were in an elevator And you were, like, right next to a person’s body And, whatever, like, he leaned into you a little bit, Would you ever turn right to their face and go, “hey, fuck you!”? “worthless piece of shit!” No. Literally zero people would ever do that, but put a couple of pieces of glass and some road between you, there’s nothing you would not say to them. “I hope you die!” I said that to a person. “I hope you die!” Why? ’cause you made me go like this for half a second of my life. You tested my reflexes, and it worked out fine! So now I hope your kids grow up motherless!” I mean, what am I capable of? I’d like to think that I’m a nice person, But I don’t know, man.',\n",
       " '“If Murder Was Legal” A lot of it is context. There’s a lot of things I wonder if the world was different. Like, if murder was legal, I might have killed a few people. I don’t know. I’d love to think, “I would never do that,” But we really need the law against murder For one simple reason. The law against murder Is the number-one thing preventing murder. We’d like to think it’s ’cause, Like, “I would never do that.” No. It’s ’cause it really sucks getting caught murdering, a lot. If murder was legal, or just a misdemeanor– Like you get a thing in the mail– “shit, they had a camera there. Well.” If murder was legal, there would be so much murder. Regular people would murder. Murderers would murder even more, And then really nice, sweet people Would murder a few people, But nobody would murder no people. You wouldn’t trust somebody who didn’t murder If murder was legal. You wouldn’t like them. “I never killed anybody.” “OK. Nice meeting you. Yecch, what a creep. “I mean, not even a hooker? Live a life. “what’s wrong with that guy? He’s like a Mormon or some shit. I hate those guys.” “I think he’s nice.” “shut up, Janet.” They would just– If murder was legal, there would be a lot of murder. Children would behave very differently Because mostly parents would be murdering their own kids, That’s mostly what would happen if murder was legal. You know, you’d go to a mall, there’d be, Like eight, different moms in the mall just– “I told you to stop it! You didn’t listen to me!” Just–pbbt! There’d be just– You’d be stepping over dead kids. There’d be, like, a new problem. “you have to clean up your kids “when you kill them ’cause it’s gross. “it’s bad for the environment. “if you murder your child in a public place, “please use one of the red bags that are in the dispensers “every three feet of America. “put your murdered child in the red bag “with a logo of a murdered kid on it “next to the other logo that tells you “not to let your alive kid play with the plastic bag “because they might suffocate, In which case you could just leave them in the bag.” That is a whole bunch of horrible thoughts Right in a row, right in a row. That is a compressed area of bad thought.',\n",
       " '“Of Course, But Maybe” You know, you have your bad thoughts. Hopefully you do good things. Everybody has a competition in their brain of good thoughts and bad thoughts. Hopefully, the good thoughts win. For me, I always have both. I have, like, the thing I believe, the good thing– That’s the thing I believe– and then there’s this thing, and I don’t believe it, but it is there. It’s always this thing and then this thing. It’s become a category in my brain That I call, “of course… But maybe…” I’ll give you an example, OK? Like, of course children who have nut allergies need to be protected, of course. We have to segregate their food from nuts, Have their medication available at all times, and anybody who manufactures or serves food needs to be aware of deadly nut allergies, of course, but maybe… Maybe if touching a nut kills you, you’re supposed to die. Of course not. Of course not. Of course not. Jesus. I have a nephew who has that. I’d be devastated if something happened to him, but maybe… maybe if we all just do this for one year, we’re done with nut allergies forever. No. Of course not. Of course, if you’re fighting for your country and you get shot or hurt, it’s a terrible tragedy, of course, of course… But maybe… Maybe if you pick up a gun and go to another country and you get shot, it’s not that weird. Maybe if you get shot by the dude you were just shooting at, It’s a tiny bit your fault. Of course, of course slavery is the worst thing that ever happened. Listen, listen. You all clapped for dead kids with the nuts. For kids dying from nuts, you applauded, So you’re in this with me now. Do you understand? You don’t get to cherry-pick. Those kids did nothing to you. Of course, of course slavery is the worst thing that ever happened. Of course it is, every time it’s happened– Black people in America, Jews in Egypt. Every time a whole race of people has been enslaved, it’s a terrible, horrible thing, of course… But maybe… Maybe every incredible human achievement in history was done with slaves. Every single thing where you go, “how did they build those pyramids?” They just threw human death and suffering at them until they were finished. How did we traverse the nation with the railroad so quickly? We just threw Chinese people in caves and blew ’em up and didn’t give a shit what happened to them. There’s no end to what you can do when you don’t give a fuck about particular people. You can do anything. That’s where human greatness comes from, is that we’re shitty people, that we fuck others over. Even today, how do we have this amazing microtechnology? Because the factory where they’re making these, They jump off the fucking roof ’cause it’s a nightmare in there. You really have a choice. You can have candles and horses and be a little kinder to each other or let someone suffer immeasurably far away Just so you can leave a mean comment on YouTube while you’re taking a shit.',\n",
       " 'Thanks a lot, folks. You guys were great. Thank you very, very much. Thank you.',\n",
       " 'Your email address will not be published. Required fields are marked *',\n",
       " 'Name*',\n",
       " 'E-mail*',\n",
       " 'Website',\n",
       " '   ',\n",
       " 'Dave Chappelle is back with his latest comedy special The Dreamer, premiering globally December 31, 2023 on Netflix',\n",
       " 'Gary Gulman’s 2019 HBO stand-up comedy special, The Great Depresh, is a poignant and hilarious exploration of his lifelong struggles with depression',\n",
       " 'Ricky Gervais: Armageddon is packed with Gervais’ signature brand of sharp, often controversial humor, tackling topics like artificial intelligence, political correctness, family weddings, funerals, and, as the title suggests, the end of humanity.',\n",
       " 'Gary Gulman’s “It’s About Time” (2016) stand-up special is a hilarious and introspective look into his neurotic and brilliant mind']"
      ]
     },
     "execution_count": 19,
     "metadata": {},
     "output_type": "execute_result"
    }
   ],
   "source": [
    "# Notice that our dictionary is currently in key: comedian, value: list of text format\n",
    "next(iter(data.values()))"
   ]
  },
  {
   "cell_type": "code",
   "execution_count": 20,
   "metadata": {},
   "outputs": [],
   "source": [
    "# We are going to change this to key: comedian, value: string format\n",
    "def combine_text(list_of_text):\n",
    "    '''Takes a list of text and combines them into one large chunk of text.'''\n",
    "    combined_text = ' '.join(list_of_text)\n",
    "    return combined_text"
   ]
  },
  {
   "cell_type": "code",
   "execution_count": 21,
   "metadata": {},
   "outputs": [],
   "source": [
    "# Combine it!\n",
    "data_combined = {key: [combine_text(value)] for (key, value) in data.items()}"
   ]
  },
  {
   "cell_type": "code",
   "execution_count": 22,
   "metadata": {},
   "outputs": [
    {
     "data": {
      "text/html": [
       "<div>\n",
       "<style scoped>\n",
       "    .dataframe tbody tr th:only-of-type {\n",
       "        vertical-align: middle;\n",
       "    }\n",
       "\n",
       "    .dataframe tbody tr th {\n",
       "        vertical-align: top;\n",
       "    }\n",
       "\n",
       "    .dataframe thead th {\n",
       "        text-align: right;\n",
       "    }\n",
       "</style>\n",
       "<table border=\"1\" class=\"dataframe\">\n",
       "  <thead>\n",
       "    <tr style=\"text-align: right;\">\n",
       "      <th></th>\n",
       "      <th>transcript</th>\n",
       "    </tr>\n",
       "  </thead>\n",
       "  <tbody>\n",
       "    <tr>\n",
       "      <th>ali</th>\n",
       "      <td>Ladies and gentlemen, please welcome to the stage: Ali Wong! Hi. Hello! Welcome! Thank you! Thank you for coming. Hello! Hello. We are gonna have ...</td>\n",
       "    </tr>\n",
       "    <tr>\n",
       "      <th>anthony</th>\n",
       "      <td>Thank you. Thank you. Thank you, San Francisco. Thank you so much. So good to be here. People were surprised when I told ’em I was gonna tape my s...</td>\n",
       "    </tr>\n",
       "    <tr>\n",
       "      <th>bill</th>\n",
       "      <td>[cheers and applause] All right, thank you! Thank you very much! Thank you. Thank you. Thank you. How are you? What’s going on? Thank you. It’s a ...</td>\n",
       "    </tr>\n",
       "    <tr>\n",
       "      <th>dave</th>\n",
       "      <td>This is Dave. He tells dirty jokes for a living. That stare is where most of his hard work happens. It signifies a profound train of thought, the ...</td>\n",
       "    </tr>\n",
       "    <tr>\n",
       "      <th>jim</th>\n",
       "      <td>[Car horn honks] [Audience cheering] [Announcer] Ladies and gentlemen, please welcome to the stage Mr. Jim Jefferies! [Upbeat music playing] Hello...</td>\n",
       "    </tr>\n",
       "    <tr>\n",
       "      <th>joe</th>\n",
       "      <td>[rock music playing] [audience cheering] [announcer] Ladies and gentlemen, welcome Joe Rogan. [audience cheering and applauding] What the f*ck is ...</td>\n",
       "    </tr>\n",
       "    <tr>\n",
       "      <th>john</th>\n",
       "      <td>Armed with boyish charm and a sharp wit, the former “SNL” writer John Mulaney offers sly takes on marriage, his beef with babies and the time he m...</td>\n",
       "    </tr>\n",
       "    <tr>\n",
       "      <th>louis</th>\n",
       "      <td>Intro Fade the music out. Let’s roll. Hold there. Lights. Do the lights. Thank you. Thank you very much. I appreciate that. I don’t necessarily ag...</td>\n",
       "    </tr>\n",
       "    <tr>\n",
       "      <th>mike</th>\n",
       "      <td>Wow. Hey, thank you. Thanks. Thank you, guys. Hey, Seattle. Nice to see you. Look at this. Look at us. We’re here. This is crazy. It’s insane. So ...</td>\n",
       "    </tr>\n",
       "    <tr>\n",
       "      <th>ricky</th>\n",
       "      <td>Hello. Hello! How you doing? Great. Thank you. Wow. Calm down. Shut the fuck up. Thank you. What a lovely welcome. I’m gonna try my hardest tonigh...</td>\n",
       "    </tr>\n",
       "  </tbody>\n",
       "</table>\n",
       "</div>"
      ],
      "text/plain": [
       "                                                                                                                                                    transcript\n",
       "ali      Ladies and gentlemen, please welcome to the stage: Ali Wong! Hi. Hello! Welcome! Thank you! Thank you for coming. Hello! Hello. We are gonna have ...\n",
       "anthony  Thank you. Thank you. Thank you, San Francisco. Thank you so much. So good to be here. People were surprised when I told ’em I was gonna tape my s...\n",
       "bill     [cheers and applause] All right, thank you! Thank you very much! Thank you. Thank you. Thank you. How are you? What’s going on? Thank you. It’s a ...\n",
       "dave     This is Dave. He tells dirty jokes for a living. That stare is where most of his hard work happens. It signifies a profound train of thought, the ...\n",
       "jim      [Car horn honks] [Audience cheering] [Announcer] Ladies and gentlemen, please welcome to the stage Mr. Jim Jefferies! [Upbeat music playing] Hello...\n",
       "joe      [rock music playing] [audience cheering] [announcer] Ladies and gentlemen, welcome Joe Rogan. [audience cheering and applauding] What the f*ck is ...\n",
       "john     Armed with boyish charm and a sharp wit, the former “SNL” writer John Mulaney offers sly takes on marriage, his beef with babies and the time he m...\n",
       "louis    Intro Fade the music out. Let’s roll. Hold there. Lights. Do the lights. Thank you. Thank you very much. I appreciate that. I don’t necessarily ag...\n",
       "mike     Wow. Hey, thank you. Thanks. Thank you, guys. Hey, Seattle. Nice to see you. Look at this. Look at us. We’re here. This is crazy. It’s insane. So ...\n",
       "ricky    Hello. Hello! How you doing? Great. Thank you. Wow. Calm down. Shut the fuck up. Thank you. What a lovely welcome. I’m gonna try my hardest tonigh..."
      ]
     },
     "execution_count": 22,
     "metadata": {},
     "output_type": "execute_result"
    }
   ],
   "source": [
    "# We can either keep it in dictionary format or put it into a pandas dataframe\n",
    "import pandas as pd\n",
    "pd.set_option('max_colwidth',150)\n",
    "\n",
    "data_df = pd.DataFrame.from_dict(data_combined).transpose()\n",
    "data_df.columns = ['transcript']\n",
    "data_df = data_df.sort_index()\n",
    "data_df"
   ]
  },
  {
   "cell_type": "code",
   "execution_count": 23,
   "metadata": {},
   "outputs": [
    {
     "data": {
      "text/plain": [
       "\"Ladies and gentlemen, please welcome to the stage: Ali Wong! Hi. Hello! Welcome! Thank you! Thank you for coming. Hello! Hello. We are gonna have to get this shit over with, ’cause I have to pee in, like, ten minutes. But thank you, everybody, so much for coming. Um… It’s a very exciting day for me. It’s been a very exciting year for me. I turned 33 this year. Yes! Thank you, five people. I appreciate that. Uh, I can tell that I’m getting older, because, now, when I see an 18-year-old girl, my automatic thought… is “Fuck you.” “Fuck you. I don’t even know you, but fuck you!” ‘Cause I’m straight up jealous. I’m jealous, first and foremost, of their metabolism. Because 18-year-old girls, they could just eat like shit, and then they take a shit and have a six-pack, right? They got that-that beautiful inner thigh clearance where they put their feet together and there’s that huge gap here with the light of potential just radiating through. And then, when they go to sleep, they just go to sleep. Right? They don’t have insomnia yet. They don’t know what it’s like to have to take a Ambien or download a Meditation Oasis podcast to calm the chatter of regret and resentment towards your family just cluttering your mind. They have their whole lives ahead of them. They don’t have HPV yet. They just go to sleep in peace at night. Everybody has HPV, OK? Everybody has it. It’s OK. Come out already. Everybody has it. If you don’t have it yet, you go and get it. You go and get it. It’s coming. You don’t have HPV yet, you’re a fucking loser, all right? That’s what that says about you. A lot of men don’t know that they have HPV, because it’s undetectable in men. It’s really fucked up. HPV is a ghost that lives inside men’s bodies and says, “Boo!” in women’s bodies. My doctor told me that I have one of two strains of HPV. Either I have the kind that’s gonna turn into cervical cancer… …or I have the kind where my body will heal itself. Very helpful, this doctor, right? So, basically, either I’m gonna die… or you’re in the presence of Wolverine, bitches. We’ll find out. Um, I can also tell that I’m getting older, because my Kindle is turning into a self-help library. I’m not interested in books like Fifty Shades of Grey, OK? I’m interested in The Life-Changing Magic of Tidying Up. Yes. Yes, that’s right, how to declutter my home to achieve inner peace and my optimum level of success. That’s what your 30s is all about. How can I turn this shit around? I’m a horrible person, I’m not happy with where I am, how can I turn this shit around? Help me, Tony Robbins, help me! I have a hoarding problem, which I’m hoping is the center of all of my other problems. I’m hoping that if the hoarding goes away, the HPV will also disappear. I have a hoarding problem because my mom is from a third world country and she taught me that you can never throw away anything, because you never know when a dictator’s gonna overtake the country and snatch all your wealth. So, you better hold onto that retainer from the third grade, ’cause it might come in handy as a shovel when you’re busy stuffing gold up your butt and running away from the Communists. The last time I was at home in San Francisco, I was trying to help her get rid of shit. Don’t ever do that with your mom. It was like the worst experience of my life. It was so emotional. We were screaming and fighting and yelling and it all came to a climax when she refused to let go of a Texas Instruments TI-82… manual. The manual. She don’t even know… where the calculator is. Those of you under 25 probably don’t know what that calculator is. It was this calculator that bamboozled my generation. We were all required to buy it when we were in eight grade. It cost like $200. And everybody thought it was like this Judy Jetson’s laptop from the future. All because what? It could graph. It was like the Tesla of my time. And my mom got so emotional about the manual and she was like, “You never know when you might need this.” And I was like, “But… I do know… that I’m gonna have to clean all this shit up when you die.” “And I’m not trying to be a procrastinator anymore. Because according to Deepak-Oprah, that’s not the way for me to achieve my optimum level of success.” I grew up a lot this past year. Uh, this past year I also got married. Yeah. To a man who now has HPV. Very lucky guy. He gave me something. I gave him something. That will also last forever. No, really. I’m the lucky girl, because before him, I dated a lot of losers. Lots of losers. A lot of skaters. You wanna be a grown-ass woman, stop dating skaters. Stop dating skaters unless you wanna wake up on a mattress in a kitchen. They’re sexy on the outside, malt liquor on the inside. Horrible. But my husband, I first met him at this wedding and, uh, he’s– he’s much better looking than me, he’s way out of my league, and I saw him and I was like, “Oh, my God, who is that?” And the first thing I learned about him was that, at the time, he was attending Harvard Business School. And I was like, “Oh, my God, I’m gonna trap his ass.” “Going to trap his ass!” And I trapped his ass initially by not kissing him until the fifth date, which is a very unusual move on my part. But I did it on purpose, because I knew that he was a catch. So I was like, “All right, Ali, you gotta make this dude believe that your body is a secret garden.” When, really, it’s a public park… …that has hosted many reggae fests… …and has even accidentally let… two homeless people inside. I thought they were hipsters, OK? That store Urban Outfitters has made things very confusing… for my generation. You homeless or you a hipster? Is that beard for fashion or for warmth? It happened to… It happened in San Francisco, when I was living there, and I saw this guy in broad daylight and we had, like, we had… We had so much chemistry. He was like, “Hey, wassup?” I was like, “Wassup?” And we– The next thing I knew, we were getting busy in the back of my Volvo. And then after we were done, he was like, “Hey, can you drop me off?” I was like, “Where?” He was like, “At the park.” And I dropped him off at Golden Gate Park and watched him run into the middle with all his other homeless friends, and I was like, “Oh, no!” “I just fucked a homeless dude! Again!” My husband is Asian. Which a lot of people are shocked by, because, usually, Asian-American women who, like, you know, wear these kinda glasses and have a lot of opinions, they like to date white dudes. You go to any hipster neighborhood in a major city in America and that shit is turning into a Yoko Ono factory. It’s… too much. I don’t know what’s wrong with these bitches. I get it, you know, because being with a white dude you feel very… You feel very picturesque when you’re with a white dude, you know. You feel like you’re in a Wes Anderson movie or something. And you know, white dudes, they teach you about a lot of cool stuff like voting and recycling, and disturbing documentaries. They introduce you to cool stuff like that and it’s very, you know, it’s hot hookin’ up with a white dude. I mean, nothing makes me feel more powerful than when a white dude eats my pussy. Oh, my God. I just feel like I’m absorbing all of that privilege and all of that entitlement… …you know, just right there, through the money hole and just… And then also, he’s so vulnerable down there. I’m, like, “I could just crush your head at any moment, white man! I could just kill you right now! Crush those brains! Colonize the colonizer!” You know? But I think that for marriage, it can be nice to be with somebody of your own race. The advantage is that you get to go home… and be racist together. You get to say whatever you like! You don’t gotta explain shit. My husband, half-Filipino, half-Japanese. I’m half-Chinese and half-Vietnamese. And we spend 100 percent of our time shitting on Korean people. It’s… amazing. It’s what love is built on, you know? My last boyfriend was Cuban and his family would shit on Mexican people all the time. And I was like, “Hold it. You guys aren’t Mexican?” Asian-American men are very underrated. I don’t know why people don’t go for them. They’re the sexiest. Asian men are the sexiest. They got no body hair from the neck down. It’s like making love to a dolphin. Oh, my God. It’s so smooth, just like a slip and slide. Just black fish, Tilikum, all up in my bed every night, you know? Ooh-wee. You mess with a Jewish dude and your body is all fucked up afterwards. It’s all red and inflamed and you’re like, “I did not ask to be exfoliated today.” “This is the last time I go on J-date, more like loofah date. Thanks for the rug burn, Avi.” And then Asian men, no body odor. None. They just smell like responsibility. That’s where the umami flavor comes from. I think my husband and I have a huge unspoken understanding, uh, between each other, because he’s half-Filipino and half-Japanese and I’m half-Chinese and half-Vietnamese. So, we’re both half-fancy Asian… …and half-jungle Asian. Yeah! You guys know the difference. The fancy Asians are the Chinese, the Japanese. They get to do fancy things like host Olympics. Jungle Asians host diseases. It’s… It’s different. But he grew up on the East Coast, going to private school, playing lacrosse, uh, you know, learning Latin and playing chess and rugby. He grew up like Filipino Carlton, OK? So, he didn’t know anything about Vietnamese people until he met me. And on one of our first dates, he took me to this restaurant on the west side of Los Angeles called Pho Show. He was like, “It’s authentic Vietnamese. I read about it on Yelp!” I was like, “It’s not authentic, OK?” You can tell, first and foremost, by the name, ’cause it don’t got a number in it. Second of all, you can tell by the bathroom. If it was legit, the bathroom would double as a supply closet. When I pee, I need to see ten gallons of bleach, an ATM machine and a grandma with glaucoma napping in the corner. And the wait staff here is too nice. We need to leave this restaurant deaf and emotionally abused. I grew up going to private school, too. Him and I are both total, like, private school Asians. We both are big hippies, too. We like to backpack through Southeast Asia. We like to do yoga. We do ayahuasca ceremonies. We do silent meditation retreats. That’s right, we pay $800 to shut up for a weekend. We do shit like that. Uh, we eat gluten-free, which means we eat all that bread that tastes like free-range Chewbacca. We eat that lesbian bread that’s like… …a thousand percent of your daily fiber… and 20 percent spoken word poetry. When you eat it, you queef a shitty poem about… …supporting Caitlyn Jenner or whatever. And so, it’s funny, right, because he’s Asian, too. But sometimes, all of this hippy-dippy shit we do… makes me feel like we are white people doing an impression of Asian people. Like, we have these Chinese scrolls up on the wall… and neither of us know what the fuck they mean. We’re like, “Oh, that seems to go very well with our Buddha piggy bank from Pier 1 Imports. That seems to be providing some good feng shui for the house. Him and I had been dating for four years and I– I just had this sneaking suspicion that he was gonna propose… because… I had been pressuring him to do it. So, you know, I just had this wacky women’s intuition. That’s how proposals really work, OK? A woman has to incept the idea into the man’s head. First passively and then if he doesn’t get the message, extremely aggressively. You gotta threaten to leave without ever actually leaving, because you know that you’re too old and it’s too late to go back out there and find a new man and start the whole manipulation cycle all over again. So, you’re like, “I’m just gonna stick with this dude, focus on trapping this dude, and just nag the shit outta him until he becomes weak and caves in and gets fed up and is like, “Shut the fuck up! Fine, will you marry me?” And then afterwards, the woman is always, like, “Oh, my God! He proposed!” “It came outta nowhere. And look, he got me the exact ring I wanted. How did he know? Maybe he saw it on my Pinterest page or something… that I sent to my best friend, that I told her to send to him every day.” Let me tell you something. If a man has a Pinterest page… he’s probably Pinterested in men. We got engaged on a Saturday. I bought my wedding dress the following Tuesday… because I had tried it on in 2012. I was ready. I was ripe. I was rotten. I need to be made into banana bread. That’s how rotten I was. People are always very surprised at how, off-stage, with my husband, I’m a completely different person. You– Like, you would not recognize my personality at all with him. With him, I’m very soft, and, like, very nurturing and very domestic. We’ve been together now for five years, and for five years, I’ve packed his lunch every single day. Yeah. Yes. Yes. Yes. I did that so that he’d become dependent on me. ‘Cause he graduated from Harvard Business School, and I don’t wanna work anymore. I don’t. I straight up don’t wanna work anymore. I don’t feed him out of the goodness of my heart. I do it as an investment in my financial future. ‘Cause I don’t wanna work anymore. I’ve been reading that book by Sheryl Sandberg, she’s the C.O.O. of Facebook, and she wrote that book that got women all riled up about our careers. Talking about how we as women should challenge ourselves to sit at the table and rise to the top. And her book is called Lean In. Well, I don’t wanna lean in, OK? I wanna lie down. I want to lie the fuck down. I think feminism is the worst thing that ever happened to women. Our job used to be no job. We had it so good. We could have done the smart thing, which would have been to continue playing dumb for the next century and be like, “We’re dumb women. We don’t know how to do anything. So, I guess we better just stay at home all day and eat snacks and watch Ellen.” “‘Cause we’re too stupid to have any real responsibility.” And then, all these women had to show off and be like, “We could do it! We could do anything.” “Bitch, shut up!” “Don’t tell them the secret.” They ruined it for us, and now we’re expected to work. When I hear the phrase, “Double-income household,” I wanna throw up. A lot of women get very upset with me about those comments. And they’re like, “But, Ali, we have so many more options now.” Oh, you don’t think we had a lot of options when our day was free? Unscheduled, unsupervised, and most importantly, sponsored? Do you know how much shittier food tastes when you know you have to earn it? A lot of my friends, when we walk around together, they’ll get very judgmental about housewives that we’ll see on the street. And they’ll be like, “Look at that fucking housewife. Not doing anything. Look at that housewife, just walking around all day, getting massages in her Lululemon pants.” I’m like, “That bitch is a genius.” “She’s not a housewife, she’s retired.” I do write for Fresh Off the Boat on ABC. Yeah. Which is… It’s a great show. I love it a lot. I love my co-workers. It’s a great writing staff and in terms of day jobs, it’s probably one of the best you could ask for, but I still gotta work at a office every day. Which means I gotta shit in a office every day. Housewives, they don’t gotta shit in a office. Housewives get to shit in their house. Skin to seat. They don’t gotta use that horrible toilet paper cover. They don’t gotta… …ten times a day, every day… like you’re about to eat a sad-ass meal. They don’t gotta do that. They don’t gotta use that one-ply toilet paper, that office toilet paper, that they purposely make difficult to pull out. They try to ration me with their communist toilet paper that’s not even effective. It basically just dehydrates your butt hole. It’s basically like wiping your butt with the desert. I literally spat on my toilet paper two days ago, to try to make a MacGyver baby wipe, to moisten it, and then it backfired ’cause my fingers broke through and digitally stimulated more doo doo to come out, and then I had to start all over again. And you can never finish wiping at work because you always feel rushed ’cause you’re paranoid that your co-worker’s gonna recognize your shoes underneath the stall. And you’re like, “Oh, no! Courtney’s listening. She’s waiting. She’s timing me.” And then you hurry, hurry, hurry, and then you never finish wiping and then your butt hole feels caked in doo doo all day long. And then if you dare scratch yourself, your underwear at the end of the day looks like it’s been run over by the Goonies. Housewives, they don’t gotta muffle their shit, too. They don’t gotta worry about the velocity with which their doo doo comes out. They don’t gotta try to, you know, squeeze the butt cheeks together to make sure that the doo doo comes out at a slow and steady pace, so that no unpredictable noise suddenly escapes and brings you deep, deep shame. Housewives are free to just blow ass into the toilet and let it echo and reverberate to the ends of their hallways while watching as much Netflix on their iPad as they want. They don’t gotta take these boring, repressed shits. They can listen to podcasts. Planet Money. They can do whatever they want. You know, it’s– it’s very distracting for me when I hear my co-workers blow ass into the toilet. I lose respect for them. Nothing they say to me anymore holds any sort of credence. I heard one of my co-workers blow ass into the toilet the other day. This bitch had the nerve to come up to me and say, “You need to get to work on time.” I was like, “You need to eat bananas.” “I saw those green ballet flats. I know that shit was you. Don’t try to tell me to get my shit together when I heard you not have your shit together.” My father-in-law had this huge sit-down with me and my husband recently. Um, and he was like, “Hey, I wanna talk to you guys about money. You guys need to make a lot more money if you wanna provide your children with the same kind of privileged childhood that you guys had.” I was like, “Why you telling me this shit? I should not be a part of this conversation. You tell you son that. Don’t your understand that I trapped your son for his earning potential? Why else would I choose to fuck one person for the rest of my life? I chose to marry him on the promise of early retirement, and when I said, ‘I do,’ what I really meant was, ‘Oh, I’m done.'” I’m done. I don’t wanna work anymore and I’m not dieting anymore. Since I got married last year, I’ve been eating fried chicken skin every day since. That’s right. And just fulfilling my destiny. Which is to turn into a circle with eyelashes. Like Mrs. Pacman, just… Let’s redecorate. I gave up a lot of myself when I got married. I’m a– I’m a disgusting pervert. I’m a pervert. I’m a gross filthy animal. And I think it’s because I started watching porn at a very young age. And what happens when you start watching porn at a young age is that… y-you get sicker, and sicker, and sicker. The images you crave get sicker, and sicker, and sicker, but it’s OK, because the Internet will always catch up to you. I broke up with my last boyfriend because he refused to put it in the back. I was like, “Uh, you’re a idiot, dude. Do you realize that if I went on Craigslist… and posted ‘Tiny Asian female seeking anal…’ the Internet would crash.” “And all the Jewish male heads in the universe would simultaneously explode.” They would explode. A lot of women get really, you know… freaked out about anal. And they’re like, “Oh, I don’t wanna do that. I’m scared of– of the pain.” You ain’t scared of the pain. Women, they wax their eyebrows, they do all sorts of crazy shit. You’re not scared of the pain. What you’re really scared of is doo doo on the dick. You’re scared that he’s gonna see that and that’s gonna be all of your shame, your inner evil, all your secrets and lies. Sephora can’t help you now. But don’t worry, ’cause when he puts it in the butt, all he’s thinking about is, “I just put it in her butt.” “I gotta go call my mom, my dad, Dave, my grandma.” You’re– If you’re married, you’re gonna have to do anal eventually, OK? You have to, because you gotta change it up. You gotta change it up, so that you don’t cheat on each other. You gotta keep it interesting. If you put it in different holes, maybe you’ll feel like you’re fucking different people. I was very sexually active in my 20s, and as a result, I’m a little bit… …stretched out down there, OK? So, when I finally did anal, I just felt like I got a second chance at life, you know? I was, like, “Oh, my God! It’s like I’m going back in time!” ♪ A whole new world ♪ It was magical. A big fantasy of mine before I got married was to help as many men as possible discover their prostate. Yeah, like a conqueror. I just wanted to… Now, if you haven’t done it before, ladies, go home and treat yourself. Do it tonight. You only live once. YOLO. Just sneak your– Just give your man a little– a little push-push in the tush-tush. Just give him a little Atari, you know, and you’ll get a lot of resistance from the man at first. You’ll get a lot of “No! No! No! No, please! No, really, I don’t– No! I don’t! I don’t! No!” They get all squirmy wormy because… they’re scared. They’re scared that if you stick your thumb up there and succeed, and they like it, that then, it might mean that they’re gay. And I like that fear. That shit turns me on, you know? Especially when that fear metamorphosizes into pleasure. Oh, my God! And you just see the look in the man’s eye like he’s discovered nirvana. And it’s like you’re the first lady to show him that he had a magical clit in his butt hole. And then, you as the woman, in his eyes, just become the Lord of the Rim, you know? My husband is unfortunately just not as freaky as me. When– When I’ve asked him to spank me, this is what he does. “Hey. Hey, are you OK? Are you all right? You know I respect you, right?” I’m, like, “Yes, I know you respect me and that’s why you need to abuse me. OK?” ‘Cause it’s the most strong-headed, loud-mouthed women who like to be abused the most in bed. Women who are C.E.O.s, they just wanna be roughed around. They just want their– Glasses always means the woman wants some– It’s because we’re so in control all the time, that we just wanna experience some risk and be out of control, you know? Like, “I don’t wanna die! Don’t kill me! I don’t wanna die!” But I also don’t want to be sure that I’m gonna live. You know? I just wanna be out of control for once. Just– Just choke me enough so that I can’t talk. ‘Cause if I can talk, I’m gonna tell you what to do. And I’m tired of being the boss. I’m the boss all the time, so, in the bedroom, you be the boss. Yes. Because I’m the real boss. And I told you so, motherfucker, so do it. Sheryl Sandberg, that woman who wrote Lean In, has had such a big impact that now, because of her, there is a ban on the word “bossy” in elementary schools, because according to her, it’s sexist to use the word “bossy,” because boys are never called bossy. So, now, instead of saying, “You’re bossy,” you’re supposed to say, “You have executive leadership skills.” Which is a very roundabout way of saying: “You’re a little cunt.” I’m just waiting for the right moment to, like, become a housewife, financially, you know? I want my husband to get us to, like, a certain point financially. I wanna get to the point as a couple where I can comfortably afford sliced mango. Know what I’m talking about? I’m talking about that Whole Foods mango. That $10-a-box Whole Foods mango that was sliced by white people. That’s the kind of income bracket I’m striving for. That’s when you know you’ve made it, when you’re eating mango that was sliced by a dude named Noah. I want Noah mango… …Rebecca kiwi, Danielle pineapple. You know what else I want? I wanna be able to take a stroll on a sidewalk, see a quarter, and just keep on walking. Like a princess. I have some useful advice for all my Asian-American brothers and sisters. Yeah! Never go paintballing with a Vietnam veteran. So, I don’t know if you guys can tell, but I am seven and a half months pregnant. Yeah. It’s very rare and unusual to see a female comic perform pregnant, because female comics… don’t get pregnant. Just try to think of one. I dare you. There’s– None of them. Once they do get pregnant, they generally disappear. That’s not the case with male comics. Once they have a baby, they’ll get up on stage a week afterwards and they’ll be like, “Guys, I just had this fucking baby. That baby’s a little piece of shit. It’s so annoying and boring.” And all these other shitty dads in the audience are, like, “That’s hilarious. I identify.” And their fame just swells because they become this relatable family funny man all of a sudden. Meanwhile, the mom is at home, chapping her nipples, feeding the fucking baby, and wearing a frozen diaper ’cause her pussy needs to heal from the baby’s head shredding it up. She’s busy. So, I don’t know what’s gonna happen to me. You know, a lot of my female stand-up comic friends who are a lot more successful and famous than me discouraged me from having a kid. And they were like, “Ali, why are you gonna have a kid? You just gonna become– You’re gonna disappear, and you’re gonna become some lame stay-at-home mom.” I was like, “Yeah, that’s the dream.” That’s the point. This is the ultimate trap. I won, you know? Another thing a lot of my friends said to me when they were discouraging me from having a kid, they were like, “Why are you gonna have a kid? Why don’t you just travel the world with your husband and just do whatever you want for the rest of your lives with no kid attached.” I was like, “Yeah, that’s cool… until my husband dies.” Which he’s definitely gonna before me. Because I’m a Asian woman, and therefore, guaranteed to live until I’m a billion. I’m guaranteed, like a turtle from the Galapagos, OK? We all know the phrase “black don’t crack.” Well, Asian don’t die. We don’t die. Especially the women, we live forever. And you know why we’re such bad drivers? Because we’re trying to die. We’re like, “Yeah! Let me see how invincible I really am!” “Imma make this left hand turn signal and ignore this red light completely.” “I’m gonna make a right turn– I changed my mind, it’s a U-turn!” “I changed my mind again. It’s a O-turn!” Every time I get into a car accident… …I’m like, “Oh, my God, not again!” I need to hide my face so that everybody doesn’t see that it’s what everybody thought it was gonna be. So embarrassing. My Toyota Corolla is a mess. There’s this huge bear claw scratch on the side from this aggressive brick wall that came out of nowhere. And then, on the hood, there’s multiple hand prints from pedestrians who have had to alert me of their existence. I don’t know what’s wrong with me, but I’m still here, you know? I need to have children to keep me company when I get older. It’s lonely. My mom is 80, going through a full blown mid-life crisis. ‘Cause she knows that she’s got a century more to go. And she is so lonely. All of her white friends, dead. Her Mexican friends, dead. Black friends, dead. I’m just kidding. She doesn’t have any black friends. Life is not Rush Hour, the movie, OK? I need children to be there for me when I’m older, when I get as old as her. And when I say be there for me, I mean pay for me when my husband isn’t around to support me anymore. I’m not trying to be one of those old Chinese ladies who recycles for a living. That’s not my destiny, OK? Old Chinese ladies, they don’t give a fuck. They got no shame. They’re like, “I’m just gonna recycle… go bald… go to the park, do this shit.” They do that ’cause it’s a free activity. For them. They do it in their– their big-ass V. Stiviano visor, their Darth Vader-Tomb Raider- Boba Fett helmet. They wear that to protect themselves from their arch-nemesis, the sun. Their in a contest to see who’s gonna burn out first. Old Asian ladies and the sun are like the Tupac and Biggie of longevity. I also decided to have a kid because uh, I’m only 33, which, I know, is not technically high-risk, but my body was starting to show signs of change. And it– And it scared me. Like, I’m only 33 and… …my pussy is not as wet as it used to be. It’s very demoralizing, OK? Do you remember when you were 18 years old, and your pussy was just sopping wet all the time? All the time, you just took it for granted that you could just reach your hand down your pants at any given moment, you throw up the peace sign afterwards, and there would be that snail-trail in between your fingers. Oh, my God, it was so juicy. You could just blow a bubble wand with it, just… “I slime you, I slime you. Ghostbusters!” I don’t know what kind of mother I’m gonna be. I’m– I’m 33, and I did have to get a little bit of science involved when trying to get pregnant. And a lot of that… is most likely my fault. Because, when I was in my 20s, I ate Plan B like skittles. So, my uterus probably looked like a smoker’s lung. And I found out that my progesterone levels were alarmingly low. So, then I had to take these hormone pills that were suppositories, and Push Pop them up myself every single night. And then, at my writing job, at Fresh Off The Boat, I would be storyboarding in front of my co-workers, and then, at some point, the pill would inevitably dissolve and melt into my underwear, and I had to act like everything was OK, when everything was clearly not OK. And then, a side effect of the progesterone was that it made me extremely itchy. So, then I had to find ways to discretely scratch myself underneath the conference table, and then resist the urge to immediately smell my fingers afterwards. I want to be able to smell my fingers when I wanna smell my own goddamn fingers. Housewives, they can just scratch and sniff all day long. They just vacuum, scratch, sniff. They make a sandwich. “Uh, mmm.” They watch Property Brothers, scratch, “What’s crackin’? Mmm.” Every time you scratch yourself, all you can think about is, “When can I smell my fingers? When can I smell my fingers? When can I discretely find a way to…” “…smell my fingers?” Nature made you urgently curious to protect you, ’cause you gotta check that it’s all good in the hood. If it’s too funky, you need to see a doctor. Your fingers are your first WebMD. When my husband and I were trying to have a kid, a lot of people were like, “Oh, my God, that’s so hot. You guys doin’ a lot of fuckin’?” No, dude. That’s– That’s shit you do in your 20s, OK? When in– When you’re in your 30s, and you’ve been trying to get pregnant for a while, it gets very clinical. You pee on these ovulation strips that tell you when the eggs are droppin’. It tells you when it’s Easter time. And I would only fuck him when it was Easter time. It was, like, only four days out of the month, and outside of that, I would be like, “We’re not fuckin’. I need you to save it. I want your sperm to be as pent-up, and as angry and rapey as possible. So that, when they come out, it’s like, ‘Release the Kraken!'” And they just come out like a bunch of angry refugees escaping a dictatorship, you know? And, um… yeah, and most of the time, like, we wouldn’t even have sex, ’cause I was so tired when I would come home, and see the smiley face on the ovulation strip, and I’d be like, “OK, it’s go time,” and I would just give my husband a hand job most of the time, and he would close his eyes immediately. I know what that means, OK? When somebody closes their eyes during sex, it’s not because they’re in such ecstasy with you that– that they need to close their eyes. When somebody closes their eyes during sex, it’s because they’re literally trying to shut the image of your face out of their head and instead project two Latina lesbians that they saw earlier that day on RedTube onto the back of their eyelids. Which is fine by me, because then he doesn’t have to see the expression on my face that says, “Please, hurry the fuck up.” And then, when he was about to finish, I could always tell because the indication is very universal when a man is about to finish. It’s when they get that… that stupid-ass look on their face… …where they look like they just got bit by a zombie, just… And then, because we’re hippies, I’d be like, “Hey, hey! Please look me in the eye and remember to come with intention, OK?” And then, I would jump on him, and hold onto his neck, and I would just twerk, twerk, twerk the shit out of him… and do some of this shit that I learned in Atlanta. And then I would turn upside down immediately afterwards… to make sure all of that Harvard nectar would just drain inside of me. That’s right. ‘Cause I don’t wanna work anymore. I’m very grateful to be pregnant and to be… this far along, to be seven and a half months pregnant, because, last year, I had a miscarriage, which is very common. And a lot of women who are in their 20s flip out when they hear that. They’re like, “Oh, my God. That’s so dark and terrible. I can’t believe that.” I’m 33. Girl, when you’re 33, you’ll know plenty of women who have had a miscarriage. It’s super common, and I wish more women would talk about it so they wouldn’t feel so bad when they go through it. When I told my mom– She’s from a third world country, and when I told her I had one, she was like, “Uh, yeah. Where I’m from, that’s like losing a pair of shoes. It’s whatevs, OK?” And everything happens for a reason. I found out at my six-week sonogram, which is very early. And the doctor says to me, “Oh, my God, I see two sacks, which means you’re having twins.” And I was like, “No!” And then she said, “But what I don’t see is a heartbeat.” And I was like, “Yes!” “The Lord is mysterious!” Don’t feel bad, OK? They were the size of poppy seeds. I’ve picked boogers larger than the twins that I lost. And most women won’t let their husbands watch when they’re going through a miscarriage. I sat my husband down in front of me while I sat on the toilet, and I was like, “You look.” “You watch the whole thing.” And he felt so bad for me. And I used it as leverage and held that shit over his head for a month and got him to do whatever the fuck I wanted him to do for 30 days. He took me to see Beyoncé. He bought me a bike off of Craigslist. That’s my miscarriage bike, and I love it very much. For 30 days, I finally had the marriage I always wanted. I’m scared about giving childbirth, though. I’m– I’m very, very scared of childbirth. That’s why I’m going to hire a doula. You know what that is? You know what a doula is? That’s a white hippie witch… …that blows quinoa into your pussy to Keyser Söze all the pain away. A lot of women tried to freak me out. They tried to freak me out about childbirth by saying, “Ali, did you know that you’re gonna poop on the table?” I was like, “Yeah, I look forward to it.” I’m all backed up from holding in my shit at work. I can’t wait to cleanse. It makes sense, like, that you– that that happens because when you’re in labor, you push, you push, you push, and your husband will be asked to assist in the labor by lifting up your leg, which subsequently turns into a soft serve lever. You just shit on the floor in front of the love of your life. And just when you think that’s enough to make him finally leave you, boom, a baby comes out, and he gotta stay. That’s the real miracle of life, right there. I can already see how a child can really take its toll on a marriage, because the baby hasn’t even come out yet and I am already so resentful towards my husband. So much resentment, especially when he asks me to do shit around the house. “Hey, can you wash the dishes?” “No!” “Can you water the plants?” “I am not doing jack shit anymore. I’m busy makin’ a eyeball, OK? Are you makin’ a foot? I didn’t think so. You change the channel.” I can already see how there’s, like, this crazy double standard in our society of how it takes so little to be considered a great dad. And it also takes so little to be considered a shitty mom. People praise my husband for coming to all of my doctor’s appointments with me. “Oh, my God. I can’t believe he comes to all your doctor’s appointments. He is so supportive.” Guess who else has to go to those doctor appointments. Me! I’m the star of the show. There’s nothing for the camera to see if I’m not there. But he’s the hero for playing Candy Crush while I get my blood drawn. Meanwhile, if I do mushrooms seven months pregnant, I’m a bad mommy. You know, I– I– I, like, I berate my husband on, like, a daily basis. Partially because I really am mad at him. But mostly out of survival, because if he leaves me, I’m fucked. So, I have to chip away at his self-esteem on a daily basis… to keep him down so that he doesn’t believe that he’s worthy of another woman’s affection and leaves me. I gotta keep him around by keeping him down. People don’t tell you about all this shit that goes down with your body when you get pregnant, you know? Your nipples get huge and dark. I didn’t know that. I didn’t know that they get dark so that the baby can see, like, a bullseye. So that the baby can find it easier. And then, you know, they get big– they get big, like fingers. Like, “You, you. You owe me money, you.” My nipples look like Whoppers now, and naked, I look like a Minion. But I’m not gonna be one of those crazy pregnant ladies who tries to get all back in shape right after they get pregnant. No. Hopefully, if you see me in a year, I will have the kind of body where, if I do a nude scene on television, people will commend me for being courageous. For doing it. Now that I’m seven and a half months pregnant, my pussy’s all wet again. But it’s different. It’s not like when I was 18 years old, when it was like, really hot, you know? And I was like, “Why is it different?” And I looked it up, and my pussy’s all wet again because my– my body’s secreting mucus to protect the baby from bacteria attacking it. That’s not the same. When it’s straight up soldier glue, when it’s Neosporin. So, you know, I– I, in– previously, before I met my husband, I had dated a bunch of losers. And then, I meet this dream guy, who’s, like, way more handsome than me, out of my league, graduated from Harvard Business School. Worked hard to trap his ass. Got him to propose to me. Oh, my God, then we got married, all my dreams coming true, and then we got pregnant, and recently we bought our first home together. And, uh, two weeks into the escrow process, I discovered that my beautiful, Harvard-educated husband was $70,000 in debt. And me, with my hard-earned TV money, paid it all off. So, as it turns out, he’s the one who trapped me. How did he do it? How did he bamboozle me? Oh! Maybe because he went to Harvard Business School, the epicenter of white-collar crime. He Enron’d my ass. And now, if I don’t work, we die. Why else do you think I’m performing seven and a half months pregnant? All right, I’ve been Ali Wong. Have a good night, everybody. Thank you. Your email address will not be published. Required fields are marked * Name* E-mail* Website     Dave Chappelle is back with his latest comedy special The Dreamer, premiering globally December 31, 2023 on Netflix Gary Gulman’s 2019 HBO stand-up comedy special, The Great Depresh, is a poignant and hilarious exploration of his lifelong struggles with depression Ricky Gervais: Armageddon is packed with Gervais’ signature brand of sharp, often controversial humor, tackling topics like artificial intelligence, political correctness, family weddings, funerals, and, as the title suggests, the end of humanity. Gary Gulman’s “It’s About Time” (2016) stand-up special is a hilarious and introspective look into his neurotic and brilliant mind\""
      ]
     },
     "execution_count": 23,
     "metadata": {},
     "output_type": "execute_result"
    }
   ],
   "source": [
    "# Let's take a look at the transcript for Ali Wong\n",
    "data_df.transcript.loc['ali']"
   ]
  },
  {
   "cell_type": "code",
   "execution_count": 24,
   "metadata": {},
   "outputs": [],
   "source": [
    "# Apply a first round of text cleaning techniques\n",
    "import re\n",
    "import string\n",
    "\n",
    "def clean_text_round1(text):\n",
    "    '''Make text lowercase, remove text in square brackets, remove punctuation and remove words containing numbers.'''\n",
    "    text = text.lower() ### 全小寫\n",
    "    text = re.sub('\\[.*?\\]', '', text)  ### square brackets\n",
    "    text = re.sub('[%s]' % re.escape(string.punctuation), '', text)  ### punctuation\n",
    "    text = re.sub('\\w*\\d\\w*', '', text)  ### words containing numbers\n",
    "    return text\n",
    "\n",
    "round1 = lambda x: clean_text_round1(x)"
   ]
  },
  {
   "cell_type": "code",
   "execution_count": 25,
   "metadata": {},
   "outputs": [
    {
     "data": {
      "text/html": [
       "<div>\n",
       "<style scoped>\n",
       "    .dataframe tbody tr th:only-of-type {\n",
       "        vertical-align: middle;\n",
       "    }\n",
       "\n",
       "    .dataframe tbody tr th {\n",
       "        vertical-align: top;\n",
       "    }\n",
       "\n",
       "    .dataframe thead th {\n",
       "        text-align: right;\n",
       "    }\n",
       "</style>\n",
       "<table border=\"1\" class=\"dataframe\">\n",
       "  <thead>\n",
       "    <tr style=\"text-align: right;\">\n",
       "      <th></th>\n",
       "      <th>transcript</th>\n",
       "    </tr>\n",
       "  </thead>\n",
       "  <tbody>\n",
       "    <tr>\n",
       "      <th>ali</th>\n",
       "      <td>ladies and gentlemen please welcome to the stage ali wong hi hello welcome thank you thank you for coming hello hello we are gonna have to get thi...</td>\n",
       "    </tr>\n",
       "    <tr>\n",
       "      <th>anthony</th>\n",
       "      <td>thank you thank you thank you san francisco thank you so much so good to be here people were surprised when i told ’em i was gonna tape my special...</td>\n",
       "    </tr>\n",
       "    <tr>\n",
       "      <th>bill</th>\n",
       "      <td>all right thank you thank you very much thank you thank you thank you how are you what’s going on thank you it’s a pleasure to be here in the gre...</td>\n",
       "    </tr>\n",
       "    <tr>\n",
       "      <th>dave</th>\n",
       "      <td>this is dave he tells dirty jokes for a living that stare is where most of his hard work happens it signifies a profound train of thought the alch...</td>\n",
       "    </tr>\n",
       "    <tr>\n",
       "      <th>jim</th>\n",
       "      <td>ladies and gentlemen please welcome to the stage mr jim jefferies  hello sit down sit down sit down sit down sit down  thank you boston i appre...</td>\n",
       "    </tr>\n",
       "    <tr>\n",
       "      <th>joe</th>\n",
       "      <td>ladies and gentlemen welcome joe rogan  what the fck is going on san francisco thanks for coming i appreciate it god damn put your phone down f...</td>\n",
       "    </tr>\n",
       "    <tr>\n",
       "      <th>john</th>\n",
       "      <td>armed with boyish charm and a sharp wit the former “snl” writer john mulaney offers sly takes on marriage his beef with babies and the time he met...</td>\n",
       "    </tr>\n",
       "    <tr>\n",
       "      <th>louis</th>\n",
       "      <td>intro fade the music out let’s roll hold there lights do the lights thank you thank you very much i appreciate that i don’t necessarily agree with...</td>\n",
       "    </tr>\n",
       "    <tr>\n",
       "      <th>mike</th>\n",
       "      <td>wow hey thank you thanks thank you guys hey seattle nice to see you look at this look at us we’re here this is crazy it’s insane so about five yea...</td>\n",
       "    </tr>\n",
       "    <tr>\n",
       "      <th>ricky</th>\n",
       "      <td>hello hello how you doing great thank you wow calm down shut the fuck up thank you what a lovely welcome i’m gonna try my hardest tonight you’re t...</td>\n",
       "    </tr>\n",
       "  </tbody>\n",
       "</table>\n",
       "</div>"
      ],
      "text/plain": [
       "                                                                                                                                                    transcript\n",
       "ali      ladies and gentlemen please welcome to the stage ali wong hi hello welcome thank you thank you for coming hello hello we are gonna have to get thi...\n",
       "anthony  thank you thank you thank you san francisco thank you so much so good to be here people were surprised when i told ’em i was gonna tape my special...\n",
       "bill      all right thank you thank you very much thank you thank you thank you how are you what’s going on thank you it’s a pleasure to be here in the gre...\n",
       "dave     this is dave he tells dirty jokes for a living that stare is where most of his hard work happens it signifies a profound train of thought the alch...\n",
       "jim         ladies and gentlemen please welcome to the stage mr jim jefferies  hello sit down sit down sit down sit down sit down  thank you boston i appre...\n",
       "joe         ladies and gentlemen welcome joe rogan  what the fck is going on san francisco thanks for coming i appreciate it god damn put your phone down f...\n",
       "john     armed with boyish charm and a sharp wit the former “snl” writer john mulaney offers sly takes on marriage his beef with babies and the time he met...\n",
       "louis    intro fade the music out let’s roll hold there lights do the lights thank you thank you very much i appreciate that i don’t necessarily agree with...\n",
       "mike     wow hey thank you thanks thank you guys hey seattle nice to see you look at this look at us we’re here this is crazy it’s insane so about five yea...\n",
       "ricky    hello hello how you doing great thank you wow calm down shut the fuck up thank you what a lovely welcome i’m gonna try my hardest tonight you’re t..."
      ]
     },
     "execution_count": 25,
     "metadata": {},
     "output_type": "execute_result"
    }
   ],
   "source": [
    "# Let's take a look at the updated text\n",
    "data_clean = pd.DataFrame(data_df.transcript.apply(round1))\n",
    "data_clean"
   ]
  },
  {
   "cell_type": "code",
   "execution_count": 26,
   "metadata": {},
   "outputs": [],
   "source": [
    "# Apply a second round of cleaning\n",
    "def clean_text_round2(text):\n",
    "    '''Get rid of some additional punctuation and non-sensical text that was missed the first time around.'''\n",
    "    text = re.sub('[‘’“”…]', '', text)\n",
    "    text = re.sub('\\n', '', text)\n",
    "    return text\n",
    "\n",
    "round2 = lambda x: clean_text_round2(x)"
   ]
  },
  {
   "cell_type": "code",
   "execution_count": 27,
   "metadata": {},
   "outputs": [
    {
     "data": {
      "text/html": [
       "<div>\n",
       "<style scoped>\n",
       "    .dataframe tbody tr th:only-of-type {\n",
       "        vertical-align: middle;\n",
       "    }\n",
       "\n",
       "    .dataframe tbody tr th {\n",
       "        vertical-align: top;\n",
       "    }\n",
       "\n",
       "    .dataframe thead th {\n",
       "        text-align: right;\n",
       "    }\n",
       "</style>\n",
       "<table border=\"1\" class=\"dataframe\">\n",
       "  <thead>\n",
       "    <tr style=\"text-align: right;\">\n",
       "      <th></th>\n",
       "      <th>transcript</th>\n",
       "    </tr>\n",
       "  </thead>\n",
       "  <tbody>\n",
       "    <tr>\n",
       "      <th>ali</th>\n",
       "      <td>ladies and gentlemen please welcome to the stage ali wong hi hello welcome thank you thank you for coming hello hello we are gonna have to get thi...</td>\n",
       "    </tr>\n",
       "    <tr>\n",
       "      <th>anthony</th>\n",
       "      <td>thank you thank you thank you san francisco thank you so much so good to be here people were surprised when i told em i was gonna tape my special ...</td>\n",
       "    </tr>\n",
       "    <tr>\n",
       "      <th>bill</th>\n",
       "      <td>all right thank you thank you very much thank you thank you thank you how are you whats going on thank you its a pleasure to be here in the great...</td>\n",
       "    </tr>\n",
       "    <tr>\n",
       "      <th>dave</th>\n",
       "      <td>this is dave he tells dirty jokes for a living that stare is where most of his hard work happens it signifies a profound train of thought the alch...</td>\n",
       "    </tr>\n",
       "    <tr>\n",
       "      <th>jim</th>\n",
       "      <td>ladies and gentlemen please welcome to the stage mr jim jefferies  hello sit down sit down sit down sit down sit down  thank you boston i appre...</td>\n",
       "    </tr>\n",
       "    <tr>\n",
       "      <th>joe</th>\n",
       "      <td>ladies and gentlemen welcome joe rogan  what the fck is going on san francisco thanks for coming i appreciate it god damn put your phone down f...</td>\n",
       "    </tr>\n",
       "    <tr>\n",
       "      <th>john</th>\n",
       "      <td>armed with boyish charm and a sharp wit the former snl writer john mulaney offers sly takes on marriage his beef with babies and the time he met b...</td>\n",
       "    </tr>\n",
       "    <tr>\n",
       "      <th>louis</th>\n",
       "      <td>intro fade the music out lets roll hold there lights do the lights thank you thank you very much i appreciate that i dont necessarily agree with y...</td>\n",
       "    </tr>\n",
       "    <tr>\n",
       "      <th>mike</th>\n",
       "      <td>wow hey thank you thanks thank you guys hey seattle nice to see you look at this look at us were here this is crazy its insane so about five years...</td>\n",
       "    </tr>\n",
       "    <tr>\n",
       "      <th>ricky</th>\n",
       "      <td>hello hello how you doing great thank you wow calm down shut the fuck up thank you what a lovely welcome im gonna try my hardest tonight youre thi...</td>\n",
       "    </tr>\n",
       "  </tbody>\n",
       "</table>\n",
       "</div>"
      ],
      "text/plain": [
       "                                                                                                                                                    transcript\n",
       "ali      ladies and gentlemen please welcome to the stage ali wong hi hello welcome thank you thank you for coming hello hello we are gonna have to get thi...\n",
       "anthony  thank you thank you thank you san francisco thank you so much so good to be here people were surprised when i told em i was gonna tape my special ...\n",
       "bill      all right thank you thank you very much thank you thank you thank you how are you whats going on thank you its a pleasure to be here in the great...\n",
       "dave     this is dave he tells dirty jokes for a living that stare is where most of his hard work happens it signifies a profound train of thought the alch...\n",
       "jim         ladies and gentlemen please welcome to the stage mr jim jefferies  hello sit down sit down sit down sit down sit down  thank you boston i appre...\n",
       "joe         ladies and gentlemen welcome joe rogan  what the fck is going on san francisco thanks for coming i appreciate it god damn put your phone down f...\n",
       "john     armed with boyish charm and a sharp wit the former snl writer john mulaney offers sly takes on marriage his beef with babies and the time he met b...\n",
       "louis    intro fade the music out lets roll hold there lights do the lights thank you thank you very much i appreciate that i dont necessarily agree with y...\n",
       "mike     wow hey thank you thanks thank you guys hey seattle nice to see you look at this look at us were here this is crazy its insane so about five years...\n",
       "ricky    hello hello how you doing great thank you wow calm down shut the fuck up thank you what a lovely welcome im gonna try my hardest tonight youre thi..."
      ]
     },
     "execution_count": 27,
     "metadata": {},
     "output_type": "execute_result"
    }
   ],
   "source": [
    "# Let's take a look at the updated text\n",
    "data_clean = pd.DataFrame(data_clean.transcript.apply(round2))\n",
    "data_clean"
   ]
  },
  {
   "cell_type": "markdown",
   "metadata": {},
   "source": [
    "**NOTE:** This data cleaning aka text pre-processing step could go on for a while, but we are going to stop for now. After going through some analysis techniques, if you see that the results don't make sense or could be improved, you can come back and make more edits such as:\n",
    "* Mark 'cheering' and 'cheer' as the same word (stemming / lemmatization)\n",
    "* Combine 'thank you' into one term (bi-grams)\n",
    "* And a lot more..."
   ]
  },
  {
   "cell_type": "markdown",
   "metadata": {},
   "source": [
    "## 組織資料  Organizing The Data"
   ]
  },
  {
   "cell_type": "markdown",
   "metadata": {},
   "source": [
    "I mentioned earlier that the output of this notebook will be clean, organized data in two standard text formats:\n",
    "\n",
    "*<font color = blue>我之前提到過，該筆記本的輸出將是兩種標準文字格式的乾淨、有組織的資料：</font>*\n",
    "\n",
    "1. **Corpus - **a collection of text\n",
    "2. **Document-Term Matrix - **word counts in matrix format"
   ]
  },
  {
   "cell_type": "markdown",
   "metadata": {},
   "source": [
    "### Corpus"
   ]
  },
  {
   "cell_type": "markdown",
   "metadata": {},
   "source": [
    "We already created a corpus in an earlier step. The definition of a corpus is a collection of texts, and they are all put together neatly in a pandas dataframe here."
   ]
  },
  {
   "cell_type": "code",
   "execution_count": 28,
   "metadata": {},
   "outputs": [
    {
     "data": {
      "text/html": [
       "<div>\n",
       "<style scoped>\n",
       "    .dataframe tbody tr th:only-of-type {\n",
       "        vertical-align: middle;\n",
       "    }\n",
       "\n",
       "    .dataframe tbody tr th {\n",
       "        vertical-align: top;\n",
       "    }\n",
       "\n",
       "    .dataframe thead th {\n",
       "        text-align: right;\n",
       "    }\n",
       "</style>\n",
       "<table border=\"1\" class=\"dataframe\">\n",
       "  <thead>\n",
       "    <tr style=\"text-align: right;\">\n",
       "      <th></th>\n",
       "      <th>transcript</th>\n",
       "    </tr>\n",
       "  </thead>\n",
       "  <tbody>\n",
       "    <tr>\n",
       "      <th>ali</th>\n",
       "      <td>Ladies and gentlemen, please welcome to the stage: Ali Wong! Hi. Hello! Welcome! Thank you! Thank you for coming. Hello! Hello. We are gonna have ...</td>\n",
       "    </tr>\n",
       "    <tr>\n",
       "      <th>anthony</th>\n",
       "      <td>Thank you. Thank you. Thank you, San Francisco. Thank you so much. So good to be here. People were surprised when I told ’em I was gonna tape my s...</td>\n",
       "    </tr>\n",
       "    <tr>\n",
       "      <th>bill</th>\n",
       "      <td>[cheers and applause] All right, thank you! Thank you very much! Thank you. Thank you. Thank you. How are you? What’s going on? Thank you. It’s a ...</td>\n",
       "    </tr>\n",
       "    <tr>\n",
       "      <th>dave</th>\n",
       "      <td>This is Dave. He tells dirty jokes for a living. That stare is where most of his hard work happens. It signifies a profound train of thought, the ...</td>\n",
       "    </tr>\n",
       "    <tr>\n",
       "      <th>jim</th>\n",
       "      <td>[Car horn honks] [Audience cheering] [Announcer] Ladies and gentlemen, please welcome to the stage Mr. Jim Jefferies! [Upbeat music playing] Hello...</td>\n",
       "    </tr>\n",
       "    <tr>\n",
       "      <th>joe</th>\n",
       "      <td>[rock music playing] [audience cheering] [announcer] Ladies and gentlemen, welcome Joe Rogan. [audience cheering and applauding] What the f*ck is ...</td>\n",
       "    </tr>\n",
       "    <tr>\n",
       "      <th>john</th>\n",
       "      <td>Armed with boyish charm and a sharp wit, the former “SNL” writer John Mulaney offers sly takes on marriage, his beef with babies and the time he m...</td>\n",
       "    </tr>\n",
       "    <tr>\n",
       "      <th>louis</th>\n",
       "      <td>Intro Fade the music out. Let’s roll. Hold there. Lights. Do the lights. Thank you. Thank you very much. I appreciate that. I don’t necessarily ag...</td>\n",
       "    </tr>\n",
       "    <tr>\n",
       "      <th>mike</th>\n",
       "      <td>Wow. Hey, thank you. Thanks. Thank you, guys. Hey, Seattle. Nice to see you. Look at this. Look at us. We’re here. This is crazy. It’s insane. So ...</td>\n",
       "    </tr>\n",
       "    <tr>\n",
       "      <th>ricky</th>\n",
       "      <td>Hello. Hello! How you doing? Great. Thank you. Wow. Calm down. Shut the fuck up. Thank you. What a lovely welcome. I’m gonna try my hardest tonigh...</td>\n",
       "    </tr>\n",
       "  </tbody>\n",
       "</table>\n",
       "</div>"
      ],
      "text/plain": [
       "                                                                                                                                                    transcript\n",
       "ali      Ladies and gentlemen, please welcome to the stage: Ali Wong! Hi. Hello! Welcome! Thank you! Thank you for coming. Hello! Hello. We are gonna have ...\n",
       "anthony  Thank you. Thank you. Thank you, San Francisco. Thank you so much. So good to be here. People were surprised when I told ’em I was gonna tape my s...\n",
       "bill     [cheers and applause] All right, thank you! Thank you very much! Thank you. Thank you. Thank you. How are you? What’s going on? Thank you. It’s a ...\n",
       "dave     This is Dave. He tells dirty jokes for a living. That stare is where most of his hard work happens. It signifies a profound train of thought, the ...\n",
       "jim      [Car horn honks] [Audience cheering] [Announcer] Ladies and gentlemen, please welcome to the stage Mr. Jim Jefferies! [Upbeat music playing] Hello...\n",
       "joe      [rock music playing] [audience cheering] [announcer] Ladies and gentlemen, welcome Joe Rogan. [audience cheering and applauding] What the f*ck is ...\n",
       "john     Armed with boyish charm and a sharp wit, the former “SNL” writer John Mulaney offers sly takes on marriage, his beef with babies and the time he m...\n",
       "louis    Intro Fade the music out. Let’s roll. Hold there. Lights. Do the lights. Thank you. Thank you very much. I appreciate that. I don’t necessarily ag...\n",
       "mike     Wow. Hey, thank you. Thanks. Thank you, guys. Hey, Seattle. Nice to see you. Look at this. Look at us. We’re here. This is crazy. It’s insane. So ...\n",
       "ricky    Hello. Hello! How you doing? Great. Thank you. Wow. Calm down. Shut the fuck up. Thank you. What a lovely welcome. I’m gonna try my hardest tonigh..."
      ]
     },
     "execution_count": 28,
     "metadata": {},
     "output_type": "execute_result"
    }
   ],
   "source": [
    "# Let's take a look at our dataframe\n",
    "data_df"
   ]
  },
  {
   "cell_type": "code",
   "execution_count": 29,
   "metadata": {},
   "outputs": [
    {
     "data": {
      "text/html": [
       "<div>\n",
       "<style scoped>\n",
       "    .dataframe tbody tr th:only-of-type {\n",
       "        vertical-align: middle;\n",
       "    }\n",
       "\n",
       "    .dataframe tbody tr th {\n",
       "        vertical-align: top;\n",
       "    }\n",
       "\n",
       "    .dataframe thead th {\n",
       "        text-align: right;\n",
       "    }\n",
       "</style>\n",
       "<table border=\"1\" class=\"dataframe\">\n",
       "  <thead>\n",
       "    <tr style=\"text-align: right;\">\n",
       "      <th></th>\n",
       "      <th>transcript</th>\n",
       "      <th>full_name</th>\n",
       "    </tr>\n",
       "  </thead>\n",
       "  <tbody>\n",
       "    <tr>\n",
       "      <th>ali</th>\n",
       "      <td>Ladies and gentlemen, please welcome to the stage: Ali Wong! Hi. Hello! Welcome! Thank you! Thank you for coming. Hello! Hello. We are gonna have ...</td>\n",
       "      <td>Ali Wong</td>\n",
       "    </tr>\n",
       "    <tr>\n",
       "      <th>anthony</th>\n",
       "      <td>Thank you. Thank you. Thank you, San Francisco. Thank you so much. So good to be here. People were surprised when I told ’em I was gonna tape my s...</td>\n",
       "      <td>Anthony Jeselnik</td>\n",
       "    </tr>\n",
       "    <tr>\n",
       "      <th>bill</th>\n",
       "      <td>[cheers and applause] All right, thank you! Thank you very much! Thank you. Thank you. Thank you. How are you? What’s going on? Thank you. It’s a ...</td>\n",
       "      <td>Bill Burr</td>\n",
       "    </tr>\n",
       "    <tr>\n",
       "      <th>dave</th>\n",
       "      <td>This is Dave. He tells dirty jokes for a living. That stare is where most of his hard work happens. It signifies a profound train of thought, the ...</td>\n",
       "      <td>Dave Chappelle</td>\n",
       "    </tr>\n",
       "    <tr>\n",
       "      <th>jim</th>\n",
       "      <td>[Car horn honks] [Audience cheering] [Announcer] Ladies and gentlemen, please welcome to the stage Mr. Jim Jefferies! [Upbeat music playing] Hello...</td>\n",
       "      <td>Jim Jefferies</td>\n",
       "    </tr>\n",
       "    <tr>\n",
       "      <th>joe</th>\n",
       "      <td>[rock music playing] [audience cheering] [announcer] Ladies and gentlemen, welcome Joe Rogan. [audience cheering and applauding] What the f*ck is ...</td>\n",
       "      <td>Joe Rogan</td>\n",
       "    </tr>\n",
       "    <tr>\n",
       "      <th>john</th>\n",
       "      <td>Armed with boyish charm and a sharp wit, the former “SNL” writer John Mulaney offers sly takes on marriage, his beef with babies and the time he m...</td>\n",
       "      <td>John Mulaney</td>\n",
       "    </tr>\n",
       "    <tr>\n",
       "      <th>louis</th>\n",
       "      <td>Intro Fade the music out. Let’s roll. Hold there. Lights. Do the lights. Thank you. Thank you very much. I appreciate that. I don’t necessarily ag...</td>\n",
       "      <td>Louis C.K.</td>\n",
       "    </tr>\n",
       "    <tr>\n",
       "      <th>mike</th>\n",
       "      <td>Wow. Hey, thank you. Thanks. Thank you, guys. Hey, Seattle. Nice to see you. Look at this. Look at us. We’re here. This is crazy. It’s insane. So ...</td>\n",
       "      <td>Mike Birbiglia</td>\n",
       "    </tr>\n",
       "    <tr>\n",
       "      <th>ricky</th>\n",
       "      <td>Hello. Hello! How you doing? Great. Thank you. Wow. Calm down. Shut the fuck up. Thank you. What a lovely welcome. I’m gonna try my hardest tonigh...</td>\n",
       "      <td>Ricky Gervais</td>\n",
       "    </tr>\n",
       "  </tbody>\n",
       "</table>\n",
       "</div>"
      ],
      "text/plain": [
       "                                                                                                                                                    transcript  \\\n",
       "ali      Ladies and gentlemen, please welcome to the stage: Ali Wong! Hi. Hello! Welcome! Thank you! Thank you for coming. Hello! Hello. We are gonna have ...   \n",
       "anthony  Thank you. Thank you. Thank you, San Francisco. Thank you so much. So good to be here. People were surprised when I told ’em I was gonna tape my s...   \n",
       "bill     [cheers and applause] All right, thank you! Thank you very much! Thank you. Thank you. Thank you. How are you? What’s going on? Thank you. It’s a ...   \n",
       "dave     This is Dave. He tells dirty jokes for a living. That stare is where most of his hard work happens. It signifies a profound train of thought, the ...   \n",
       "jim      [Car horn honks] [Audience cheering] [Announcer] Ladies and gentlemen, please welcome to the stage Mr. Jim Jefferies! [Upbeat music playing] Hello...   \n",
       "joe      [rock music playing] [audience cheering] [announcer] Ladies and gentlemen, welcome Joe Rogan. [audience cheering and applauding] What the f*ck is ...   \n",
       "john     Armed with boyish charm and a sharp wit, the former “SNL” writer John Mulaney offers sly takes on marriage, his beef with babies and the time he m...   \n",
       "louis    Intro Fade the music out. Let’s roll. Hold there. Lights. Do the lights. Thank you. Thank you very much. I appreciate that. I don’t necessarily ag...   \n",
       "mike     Wow. Hey, thank you. Thanks. Thank you, guys. Hey, Seattle. Nice to see you. Look at this. Look at us. We’re here. This is crazy. It’s insane. So ...   \n",
       "ricky    Hello. Hello! How you doing? Great. Thank you. Wow. Calm down. Shut the fuck up. Thank you. What a lovely welcome. I’m gonna try my hardest tonigh...   \n",
       "\n",
       "                full_name  \n",
       "ali              Ali Wong  \n",
       "anthony  Anthony Jeselnik  \n",
       "bill            Bill Burr  \n",
       "dave       Dave Chappelle  \n",
       "jim         Jim Jefferies  \n",
       "joe             Joe Rogan  \n",
       "john         John Mulaney  \n",
       "louis          Louis C.K.  \n",
       "mike       Mike Birbiglia  \n",
       "ricky       Ricky Gervais  "
      ]
     },
     "execution_count": 29,
     "metadata": {},
     "output_type": "execute_result"
    }
   ],
   "source": [
    "# Let's add the comedians' full names as well\n",
    "#full_names = ['Ali Wong', 'Anthony Jeselnik', 'Bill Burr', 'Bo Burnham', 'Dave Chappelle', 'Hasan Minhaj',\n",
    "#             'Jim Jefferies', 'Joe Rogan', 'John Mulaney', 'Louis C.K.', 'Mike Birbiglia', 'Ricky Gervais']\n",
    "\n",
    "full_names = ['Ali Wong', 'Anthony Jeselnik', 'Bill Burr', 'Dave Chappelle', 'Jim Jefferies',\n",
    "               'Joe Rogan', 'John Mulaney', 'Louis C.K.', 'Mike Birbiglia', 'Ricky Gervais']\n",
    "\n",
    "data_df['full_name'] = full_names\n",
    "data_df"
   ]
  },
  {
   "cell_type": "code",
   "execution_count": 30,
   "metadata": {},
   "outputs": [],
   "source": [
    "# Let's pickle it for later use\n",
    "data_df.to_pickle(\"corpus.pkl\")"
   ]
  },
  {
   "cell_type": "markdown",
   "metadata": {},
   "source": [
    "### Document-Term Matrix"
   ]
  },
  {
   "cell_type": "markdown",
   "metadata": {},
   "source": [
    "For many of the techniques we'll be using in future notebooks, the text must be tokenized, meaning broken down into smaller pieces. The most common tokenization technique is to break down text into words. We can do this using scikit-learn's CountVectorizer, where every row will represent a different document and every column will represent a different word.\n",
    "\n",
    "In addition, with CountVectorizer, we can remove stop words. Stop words are common words that add no additional meaning to text such as 'a', 'the', etc.\n",
    "\n",
    "*<font color = blue>對於我們將在未來筆記本中使用的許多技術，文字必須被標記化，這意味著將其分解為更小的部分。 最常見的標記化技術是將文字分解為單字。 我們可以使用 scikit-learn 的 CountVectorizer 來做到這一點，其中每一行代表一個不同的文檔，每一列代表一個不同的單字。</font>*\n",
    "\n",
    "*<font color = blue>另外，使用CountVectorizer，我們可以刪除停用詞。 停用詞是不為文本添加任何附加意義的常見單詞，例如“a”、“the”等。</font>*"
   ]
  },
  {
   "cell_type": "code",
   "execution_count": 31,
   "metadata": {},
   "outputs": [
    {
     "data": {
      "text/html": [
       "<div>\n",
       "<style scoped>\n",
       "    .dataframe tbody tr th:only-of-type {\n",
       "        vertical-align: middle;\n",
       "    }\n",
       "\n",
       "    .dataframe tbody tr th {\n",
       "        vertical-align: top;\n",
       "    }\n",
       "\n",
       "    .dataframe thead th {\n",
       "        text-align: right;\n",
       "    }\n",
       "</style>\n",
       "<table border=\"1\" class=\"dataframe\">\n",
       "  <thead>\n",
       "    <tr style=\"text-align: right;\">\n",
       "      <th></th>\n",
       "      <th>aaaaah</th>\n",
       "      <th>aaah</th>\n",
       "      <th>aah</th>\n",
       "      <th>abc</th>\n",
       "      <th>abcs</th>\n",
       "      <th>ability</th>\n",
       "      <th>abject</th>\n",
       "      <th>able</th>\n",
       "      <th>ablebodied</th>\n",
       "      <th>abortion</th>\n",
       "      <th>...</th>\n",
       "      <th>ze</th>\n",
       "      <th>zealand</th>\n",
       "      <th>zeppelin</th>\n",
       "      <th>zero</th>\n",
       "      <th>zillion</th>\n",
       "      <th>zombie</th>\n",
       "      <th>zombies</th>\n",
       "      <th>zoning</th>\n",
       "      <th>zoo</th>\n",
       "      <th>éclair</th>\n",
       "    </tr>\n",
       "  </thead>\n",
       "  <tbody>\n",
       "    <tr>\n",
       "      <th>ali</th>\n",
       "      <td>0</td>\n",
       "      <td>0</td>\n",
       "      <td>0</td>\n",
       "      <td>1</td>\n",
       "      <td>0</td>\n",
       "      <td>0</td>\n",
       "      <td>0</td>\n",
       "      <td>2</td>\n",
       "      <td>0</td>\n",
       "      <td>0</td>\n",
       "      <td>...</td>\n",
       "      <td>0</td>\n",
       "      <td>0</td>\n",
       "      <td>0</td>\n",
       "      <td>0</td>\n",
       "      <td>0</td>\n",
       "      <td>1</td>\n",
       "      <td>0</td>\n",
       "      <td>0</td>\n",
       "      <td>0</td>\n",
       "      <td>0</td>\n",
       "    </tr>\n",
       "    <tr>\n",
       "      <th>anthony</th>\n",
       "      <td>0</td>\n",
       "      <td>0</td>\n",
       "      <td>0</td>\n",
       "      <td>0</td>\n",
       "      <td>0</td>\n",
       "      <td>0</td>\n",
       "      <td>0</td>\n",
       "      <td>0</td>\n",
       "      <td>0</td>\n",
       "      <td>2</td>\n",
       "      <td>...</td>\n",
       "      <td>0</td>\n",
       "      <td>10</td>\n",
       "      <td>0</td>\n",
       "      <td>0</td>\n",
       "      <td>0</td>\n",
       "      <td>0</td>\n",
       "      <td>0</td>\n",
       "      <td>0</td>\n",
       "      <td>0</td>\n",
       "      <td>0</td>\n",
       "    </tr>\n",
       "    <tr>\n",
       "      <th>bill</th>\n",
       "      <td>1</td>\n",
       "      <td>0</td>\n",
       "      <td>0</td>\n",
       "      <td>0</td>\n",
       "      <td>1</td>\n",
       "      <td>0</td>\n",
       "      <td>0</td>\n",
       "      <td>1</td>\n",
       "      <td>0</td>\n",
       "      <td>0</td>\n",
       "      <td>...</td>\n",
       "      <td>1</td>\n",
       "      <td>0</td>\n",
       "      <td>0</td>\n",
       "      <td>1</td>\n",
       "      <td>1</td>\n",
       "      <td>1</td>\n",
       "      <td>1</td>\n",
       "      <td>1</td>\n",
       "      <td>0</td>\n",
       "      <td>0</td>\n",
       "    </tr>\n",
       "    <tr>\n",
       "      <th>dave</th>\n",
       "      <td>0</td>\n",
       "      <td>1</td>\n",
       "      <td>0</td>\n",
       "      <td>0</td>\n",
       "      <td>0</td>\n",
       "      <td>0</td>\n",
       "      <td>0</td>\n",
       "      <td>0</td>\n",
       "      <td>0</td>\n",
       "      <td>0</td>\n",
       "      <td>...</td>\n",
       "      <td>0</td>\n",
       "      <td>0</td>\n",
       "      <td>0</td>\n",
       "      <td>0</td>\n",
       "      <td>0</td>\n",
       "      <td>0</td>\n",
       "      <td>0</td>\n",
       "      <td>0</td>\n",
       "      <td>0</td>\n",
       "      <td>0</td>\n",
       "    </tr>\n",
       "    <tr>\n",
       "      <th>jim</th>\n",
       "      <td>0</td>\n",
       "      <td>0</td>\n",
       "      <td>0</td>\n",
       "      <td>0</td>\n",
       "      <td>0</td>\n",
       "      <td>0</td>\n",
       "      <td>0</td>\n",
       "      <td>1</td>\n",
       "      <td>2</td>\n",
       "      <td>0</td>\n",
       "      <td>...</td>\n",
       "      <td>0</td>\n",
       "      <td>0</td>\n",
       "      <td>0</td>\n",
       "      <td>0</td>\n",
       "      <td>0</td>\n",
       "      <td>0</td>\n",
       "      <td>0</td>\n",
       "      <td>0</td>\n",
       "      <td>0</td>\n",
       "      <td>0</td>\n",
       "    </tr>\n",
       "    <tr>\n",
       "      <th>joe</th>\n",
       "      <td>0</td>\n",
       "      <td>0</td>\n",
       "      <td>0</td>\n",
       "      <td>0</td>\n",
       "      <td>0</td>\n",
       "      <td>0</td>\n",
       "      <td>0</td>\n",
       "      <td>2</td>\n",
       "      <td>0</td>\n",
       "      <td>0</td>\n",
       "      <td>...</td>\n",
       "      <td>0</td>\n",
       "      <td>0</td>\n",
       "      <td>0</td>\n",
       "      <td>0</td>\n",
       "      <td>0</td>\n",
       "      <td>0</td>\n",
       "      <td>0</td>\n",
       "      <td>0</td>\n",
       "      <td>0</td>\n",
       "      <td>0</td>\n",
       "    </tr>\n",
       "    <tr>\n",
       "      <th>john</th>\n",
       "      <td>0</td>\n",
       "      <td>0</td>\n",
       "      <td>0</td>\n",
       "      <td>0</td>\n",
       "      <td>0</td>\n",
       "      <td>0</td>\n",
       "      <td>0</td>\n",
       "      <td>3</td>\n",
       "      <td>0</td>\n",
       "      <td>0</td>\n",
       "      <td>...</td>\n",
       "      <td>0</td>\n",
       "      <td>0</td>\n",
       "      <td>0</td>\n",
       "      <td>0</td>\n",
       "      <td>0</td>\n",
       "      <td>0</td>\n",
       "      <td>0</td>\n",
       "      <td>0</td>\n",
       "      <td>0</td>\n",
       "      <td>1</td>\n",
       "    </tr>\n",
       "    <tr>\n",
       "      <th>louis</th>\n",
       "      <td>0</td>\n",
       "      <td>0</td>\n",
       "      <td>3</td>\n",
       "      <td>0</td>\n",
       "      <td>0</td>\n",
       "      <td>0</td>\n",
       "      <td>0</td>\n",
       "      <td>1</td>\n",
       "      <td>0</td>\n",
       "      <td>0</td>\n",
       "      <td>...</td>\n",
       "      <td>0</td>\n",
       "      <td>0</td>\n",
       "      <td>0</td>\n",
       "      <td>2</td>\n",
       "      <td>0</td>\n",
       "      <td>0</td>\n",
       "      <td>0</td>\n",
       "      <td>0</td>\n",
       "      <td>0</td>\n",
       "      <td>0</td>\n",
       "    </tr>\n",
       "    <tr>\n",
       "      <th>mike</th>\n",
       "      <td>0</td>\n",
       "      <td>0</td>\n",
       "      <td>0</td>\n",
       "      <td>0</td>\n",
       "      <td>0</td>\n",
       "      <td>0</td>\n",
       "      <td>0</td>\n",
       "      <td>0</td>\n",
       "      <td>0</td>\n",
       "      <td>0</td>\n",
       "      <td>...</td>\n",
       "      <td>0</td>\n",
       "      <td>0</td>\n",
       "      <td>2</td>\n",
       "      <td>1</td>\n",
       "      <td>0</td>\n",
       "      <td>0</td>\n",
       "      <td>0</td>\n",
       "      <td>0</td>\n",
       "      <td>0</td>\n",
       "      <td>0</td>\n",
       "    </tr>\n",
       "    <tr>\n",
       "      <th>ricky</th>\n",
       "      <td>0</td>\n",
       "      <td>0</td>\n",
       "      <td>0</td>\n",
       "      <td>0</td>\n",
       "      <td>0</td>\n",
       "      <td>1</td>\n",
       "      <td>1</td>\n",
       "      <td>2</td>\n",
       "      <td>0</td>\n",
       "      <td>0</td>\n",
       "      <td>...</td>\n",
       "      <td>0</td>\n",
       "      <td>0</td>\n",
       "      <td>0</td>\n",
       "      <td>0</td>\n",
       "      <td>0</td>\n",
       "      <td>0</td>\n",
       "      <td>0</td>\n",
       "      <td>0</td>\n",
       "      <td>1</td>\n",
       "      <td>0</td>\n",
       "    </tr>\n",
       "  </tbody>\n",
       "</table>\n",
       "<p>10 rows × 6544 columns</p>\n",
       "</div>"
      ],
      "text/plain": [
       "         aaaaah  aaah  aah  abc  abcs  ability  abject  able  ablebodied  \\\n",
       "ali           0     0    0    1     0        0       0     2           0   \n",
       "anthony       0     0    0    0     0        0       0     0           0   \n",
       "bill          1     0    0    0     1        0       0     1           0   \n",
       "dave          0     1    0    0     0        0       0     0           0   \n",
       "jim           0     0    0    0     0        0       0     1           2   \n",
       "joe           0     0    0    0     0        0       0     2           0   \n",
       "john          0     0    0    0     0        0       0     3           0   \n",
       "louis         0     0    3    0     0        0       0     1           0   \n",
       "mike          0     0    0    0     0        0       0     0           0   \n",
       "ricky         0     0    0    0     0        1       1     2           0   \n",
       "\n",
       "         abortion  ...  ze  zealand  zeppelin  zero  zillion  zombie  zombies  \\\n",
       "ali             0  ...   0        0         0     0        0       1        0   \n",
       "anthony         2  ...   0       10         0     0        0       0        0   \n",
       "bill            0  ...   1        0         0     1        1       1        1   \n",
       "dave            0  ...   0        0         0     0        0       0        0   \n",
       "jim             0  ...   0        0         0     0        0       0        0   \n",
       "joe             0  ...   0        0         0     0        0       0        0   \n",
       "john            0  ...   0        0         0     0        0       0        0   \n",
       "louis           0  ...   0        0         0     2        0       0        0   \n",
       "mike            0  ...   0        0         2     1        0       0        0   \n",
       "ricky           0  ...   0        0         0     0        0       0        0   \n",
       "\n",
       "         zoning  zoo  éclair  \n",
       "ali           0    0       0  \n",
       "anthony       0    0       0  \n",
       "bill          1    0       0  \n",
       "dave          0    0       0  \n",
       "jim           0    0       0  \n",
       "joe           0    0       0  \n",
       "john          0    0       1  \n",
       "louis         0    0       0  \n",
       "mike          0    0       0  \n",
       "ricky         0    1       0  \n",
       "\n",
       "[10 rows x 6544 columns]"
      ]
     },
     "execution_count": 31,
     "metadata": {},
     "output_type": "execute_result"
    }
   ],
   "source": [
    "# We are going to create a document-term matrix using CountVectorizer, and exclude common English stop words\n",
    "from sklearn.feature_extraction.text import CountVectorizer\n",
    "\n",
    "cv = CountVectorizer(stop_words='english')\n",
    "data_cv = cv.fit_transform(data_clean.transcript)\n",
    "data_dtm = pd.DataFrame(data_cv.toarray(), columns=cv.get_feature_names_out())\n",
    "data_dtm.index = data_clean.index\n",
    "data_dtm"
   ]
  },
  {
   "cell_type": "code",
   "execution_count": 32,
   "metadata": {},
   "outputs": [],
   "source": [
    "# Let's pickle it for later use\n",
    "data_dtm.to_pickle(\"dtm.pkl\")"
   ]
  },
  {
   "cell_type": "code",
   "execution_count": 33,
   "metadata": {},
   "outputs": [],
   "source": [
    "# Let's also pickle the cleaned data (before we put it in document-term matrix format) and the CountVectorizer object\n",
    "data_clean.to_pickle('data_clean.pkl')\n",
    "pickle.dump(cv, open(\"cv.pkl\", \"wb\"))"
   ]
  },
  {
   "cell_type": "markdown",
   "metadata": {
    "collapsed": true,
    "jupyter": {
     "outputs_hidden": true
    }
   },
   "source": [
    "## Additional Exercises"
   ]
  },
  {
   "cell_type": "markdown",
   "metadata": {},
   "source": [
    "1. Can you add an additional regular expression to the clean_text_round2 function to further clean the text?\n",
    "2. Play around with CountVectorizer's parameters. What is ngram_range? What is min_df and max_df?"
   ]
  },
  {
   "cell_type": "code",
   "execution_count": 34,
   "metadata": {},
   "outputs": [],
   "source": [
    "### 參考 https://zhuanlan.zhihu.com/p/434910276\n",
    "def testing_ngram_range(min_n, max_n):\n",
    "    text = [\"A smile is the most charming part of a person forever.\",\"A smile is\"]\n",
    "    ngram_vectorizer = CountVectorizer(ngram_range=(min_n, max_n))\n",
    "    text_after_vec = ngram_vectorizer.fit_transform(text)\n",
    "    print(len(ngram_vectorizer.vocabulary_))\n",
    "    print(\"The vocabulary list is \", end=\"\\t\")\n",
    "    print(ngram_vectorizer.vocabulary_)\n",
    "    print(text_after_vec.toarray().shape)\n",
    "    print(\"The transformed vector result is \", end=\"\\n\")\n",
    "    print(text_after_vec.toarray())"
   ]
  },
  {
   "cell_type": "code",
   "execution_count": 35,
   "metadata": {},
   "outputs": [
    {
     "name": "stdout",
     "output_type": "stream",
     "text": [
      "9\n",
      "The vocabulary list is \t{'smile': 7, 'is': 2, 'the': 8, 'most': 3, 'charming': 0, 'part': 5, 'of': 4, 'person': 6, 'forever': 1}\n",
      "(2, 9)\n",
      "The transformed vector result is \n",
      "[[1 1 1 1 1 1 1 1 1]\n",
      " [0 0 1 0 0 0 0 1 0]]\n"
     ]
    }
   ],
   "source": [
    "testing_ngram_range(1,1)"
   ]
  },
  {
   "cell_type": "markdown",
   "metadata": {},
   "source": [
    "## 中文練習"
   ]
  },
  {
   "cell_type": "code",
   "execution_count": 36,
   "metadata": {},
   "outputs": [
    {
     "data": {
      "text/html": [
       "<div>\n",
       "<style scoped>\n",
       "    .dataframe tbody tr th:only-of-type {\n",
       "        vertical-align: middle;\n",
       "    }\n",
       "\n",
       "    .dataframe tbody tr th {\n",
       "        vertical-align: top;\n",
       "    }\n",
       "\n",
       "    .dataframe thead th {\n",
       "        text-align: right;\n",
       "    }\n",
       "</style>\n",
       "<table border=\"1\" class=\"dataframe\">\n",
       "  <thead>\n",
       "    <tr style=\"text-align: right;\">\n",
       "      <th></th>\n",
       "      <th>id</th>\n",
       "      <th>contents</th>\n",
       "      <th>labels</th>\n",
       "    </tr>\n",
       "  </thead>\n",
       "  <tbody>\n",
       "    <tr>\n",
       "      <th>0</th>\n",
       "      <td>taiwan_01</td>\n",
       "      <td>\"新北市總人口中客家人口約佔14.1％，雖非全台灣最高，但總人口數為全台灣第二多，僅次於桃園市；新北市客家人分布較為分散，主要區域包括新莊、三重、三峽、新店安坑、汐止、泰山、五股、土城、深坑等地；另外東北角石門、金山一帶亦有少數客家人遷徙至當地定居。新北市的原住民人口佔總人口比例1.29%...</td>\n",
       "      <td>\"taiwan\"</td>\n",
       "    </tr>\n",
       "    <tr>\n",
       "      <th>1</th>\n",
       "      <td>taiwan_02</td>\n",
       "      <td>新北市的29區現分屬四座地方法院管轄，其中最主要的為臺灣新北地方法院，屬於普通法院，位於土城區，舊稱板橋地方法院；新北地方法院管轄新北市西部的13個市轄區，轄區人口目前已經超過300萬人，是中華民國所轄最多人口的地方法院。除此之外，汐止區與北海岸地區屬臺灣士林地方法院轄區、大文山區屬臺灣臺北...</td>\n",
       "      <td>\"taiwan\"</td>\n",
       "    </tr>\n",
       "    <tr>\n",
       "      <th>2</th>\n",
       "      <td>taiwan_03</td>\n",
       "      <td>\"臺北港特定區位於台北港週邊八里、林口一帶約1138公頃土地，為新北市為配合台北港開港所規劃之都市更新計畫，特定區內預定為物流、運輸、倉儲、會議中心等使用，「台北港特定區」正由內政部區域委員會審理，將台北港提升為國際商港。新北市是全球唯一市內有三座核能電廠的都市，其中位於石門區的第一核能發...</td>\n",
       "      <td>\"taiwan\"</td>\n",
       "    </tr>\n",
       "  </tbody>\n",
       "</table>\n",
       "</div>"
      ],
      "text/plain": [
       "          id  \\\n",
       "0  taiwan_01   \n",
       "1  taiwan_02   \n",
       "2  taiwan_03   \n",
       "\n",
       "                                                                                                                                                contents  \\\n",
       "0   \"新北市總人口中客家人口約佔14.1％，雖非全台灣最高，但總人口數為全台灣第二多，僅次於桃園市；新北市客家人分布較為分散，主要區域包括新莊、三重、三峽、新店安坑、汐止、泰山、五股、土城、深坑等地；另外東北角石門、金山一帶亦有少數客家人遷徙至當地定居。新北市的原住民人口佔總人口比例1.29%...   \n",
       "1  新北市的29區現分屬四座地方法院管轄，其中最主要的為臺灣新北地方法院，屬於普通法院，位於土城區，舊稱板橋地方法院；新北地方法院管轄新北市西部的13個市轄區，轄區人口目前已經超過300萬人，是中華民國所轄最多人口的地方法院。除此之外，汐止區與北海岸地區屬臺灣士林地方法院轄區、大文山區屬臺灣臺北...   \n",
       "2   \"臺北港特定區位於台北港週邊八里、林口一帶約1138公頃土地，為新北市為配合台北港開港所規劃之都市更新計畫，特定區內預定為物流、運輸、倉儲、會議中心等使用，「台北港特定區」正由內政部區域委員會審理，將台北港提升為國際商港。新北市是全球唯一市內有三座核能電廠的都市，其中位於石門區的第一核能發...   \n",
       "\n",
       "      labels  \n",
       "0   \"taiwan\"  \n",
       "1   \"taiwan\"  \n",
       "2   \"taiwan\"  "
      ]
     },
     "execution_count": 36,
     "metadata": {},
     "output_type": "execute_result"
    }
   ],
   "source": [
    "raw_data_df = pd.read_csv(\"chinese/chinese.csv\",header=None, names=['id','contents', 'labels'])\n",
    "raw_data_df.head(3)"
   ]
  },
  {
   "cell_type": "code",
   "execution_count": 37,
   "metadata": {},
   "outputs": [],
   "source": [
    "import jieba\n",
    "def clean_text_round2(text):\n",
    "    seg_list = jieba.lcut(text, cut_all=False)\n",
    "    seg_str = ' '.join(seg_list)\n",
    "    return seg_str\n",
    "\n",
    "round2 = lambda x: clean_text_round2(x)"
   ]
  },
  {
   "cell_type": "code",
   "execution_count": 38,
   "metadata": {},
   "outputs": [
    {
     "name": "stderr",
     "output_type": "stream",
     "text": [
      "Building prefix dict from the default dictionary ...\n",
      "Loading model from cache C:\\Users\\daocheng\\AppData\\Local\\Temp\\jieba.cache\n",
      "Loading model cost 0.793 seconds.\n",
      "Prefix dict has been built successfully.\n"
     ]
    },
    {
     "data": {
      "text/html": [
       "<div>\n",
       "<style scoped>\n",
       "    .dataframe tbody tr th:only-of-type {\n",
       "        vertical-align: middle;\n",
       "    }\n",
       "\n",
       "    .dataframe tbody tr th {\n",
       "        vertical-align: top;\n",
       "    }\n",
       "\n",
       "    .dataframe thead th {\n",
       "        text-align: right;\n",
       "    }\n",
       "</style>\n",
       "<table border=\"1\" class=\"dataframe\">\n",
       "  <thead>\n",
       "    <tr style=\"text-align: right;\">\n",
       "      <th></th>\n",
       "      <th>contents</th>\n",
       "    </tr>\n",
       "  </thead>\n",
       "  <tbody>\n",
       "    <tr>\n",
       "      <th>0</th>\n",
       "      <td>\" 新北市 總 人口 中 客家 人口 約 佔 14.1 ％ ， 雖非 全台灣 最高 ， 但 總 人口 數為 全台灣 第二 多 ， 僅次 於 桃園 市 ； 新北市 客家人 分布 較 為 分散 ， 主要 區域 包括 新莊 、 三重 、 三峽 、 新店 安坑 、 汐止 、 泰山 、 五股 、 ...</td>\n",
       "    </tr>\n",
       "    <tr>\n",
       "      <th>1</th>\n",
       "      <td>新北市 的 29 區現 分屬 四座 地方法院 管轄 ， 其中 最 主要 的 為 臺 灣新北 地方法院 ， 屬 於 普通 法院 ， 位 於 土城 區 ， 舊稱 板橋 地方法院 ； 新北 地方法院 管轄新 北市 西部 的 13 個 市轄區 ， 轄區 人口 目前 已經 超過 300 萬人 ， 是 ...</td>\n",
       "    </tr>\n",
       "    <tr>\n",
       "      <th>2</th>\n",
       "      <td>\" 臺 北港 特定 區位 於 台北 港 週邊 八里 、 林口 一帶 約 1138 公頃 土地 ， 為 新北市 為 配合 台北 港開港 所 規劃 之 都市 更新 計畫 ， 特定 區內 預定 為 物流 、 運輸 、 倉儲 、 會議 中心 等 使用 ， 「 台北 港 特定 區 」 正由 內政部...</td>\n",
       "    </tr>\n",
       "  </tbody>\n",
       "</table>\n",
       "</div>"
      ],
      "text/plain": [
       "                                                                                                                                                contents\n",
       "0    \" 新北市 總 人口 中 客家 人口 約 佔 14.1 ％ ， 雖非 全台灣 最高 ， 但 總 人口 數為 全台灣 第二 多 ， 僅次 於 桃園 市 ； 新北市 客家人 分布 較 為 分散 ， 主要 區域 包括 新莊 、 三重 、 三峽 、 新店 安坑 、 汐止 、 泰山 、 五股 、 ...\n",
       "1  新北市 的 29 區現 分屬 四座 地方法院 管轄 ， 其中 最 主要 的 為 臺 灣新北 地方法院 ， 屬 於 普通 法院 ， 位 於 土城 區 ， 舊稱 板橋 地方法院 ； 新北 地方法院 管轄新 北市 西部 的 13 個 市轄區 ， 轄區 人口 目前 已經 超過 300 萬人 ， 是 ...\n",
       "2    \" 臺 北港 特定 區位 於 台北 港 週邊 八里 、 林口 一帶 約 1138 公頃 土地 ， 為 新北市 為 配合 台北 港開港 所 規劃 之 都市 更新 計畫 ， 特定 區內 預定 為 物流 、 運輸 、 倉儲 、 會議 中心 等 使用 ， 「 台北 港 特定 區 」 正由 內政部..."
      ]
     },
     "execution_count": 38,
     "metadata": {},
     "output_type": "execute_result"
    }
   ],
   "source": [
    "seg_data_df = pd.DataFrame(raw_data_df.contents.apply(round2))\n",
    "seg_data_df.head(3)"
   ]
  },
  {
   "cell_type": "code",
   "execution_count": 39,
   "metadata": {},
   "outputs": [
    {
     "data": {
      "text/plain": [
       "0    197\n",
       "1    278\n",
       "2    196\n",
       "Name: num_word, dtype: int64"
      ]
     },
     "execution_count": 39,
     "metadata": {},
     "output_type": "execute_result"
    }
   ],
   "source": [
    "seg_data_df['num_word'] = pd.DataFrame(seg_data_df.contents.apply(lambda x: len(str(x).split(' '))))\n",
    "seg_data_df.num_word.head(3)"
   ]
  },
  {
   "cell_type": "code",
   "execution_count": 40,
   "metadata": {},
   "outputs": [
    {
     "data": {
      "text/html": [
       "<div>\n",
       "<style scoped>\n",
       "    .dataframe tbody tr th:only-of-type {\n",
       "        vertical-align: middle;\n",
       "    }\n",
       "\n",
       "    .dataframe tbody tr th {\n",
       "        vertical-align: top;\n",
       "    }\n",
       "\n",
       "    .dataframe thead th {\n",
       "        text-align: right;\n",
       "    }\n",
       "</style>\n",
       "<table border=\"1\" class=\"dataframe\">\n",
       "  <thead>\n",
       "    <tr style=\"text-align: right;\">\n",
       "      <th></th>\n",
       "      <th>id</th>\n",
       "      <th>contents</th>\n",
       "      <th>num_word</th>\n",
       "      <th>labels</th>\n",
       "    </tr>\n",
       "  </thead>\n",
       "  <tbody>\n",
       "    <tr>\n",
       "      <th>0</th>\n",
       "      <td>taiwan_01</td>\n",
       "      <td>\" 新北市 總 人口 中 客家 人口 約 佔 14.1 ％ ， 雖非 全台灣 最高 ， 但 總 人口 數為 全台灣 第二 多 ， 僅次 於 桃園 市 ； 新北市 客家人 分布 較 為 分散 ， 主要 區域 包括 新莊 、 三重 、 三峽 、 新店 安坑 、 汐止 、 泰山 、 五股 、 ...</td>\n",
       "      <td>197</td>\n",
       "      <td>\"taiwan\"</td>\n",
       "    </tr>\n",
       "    <tr>\n",
       "      <th>1</th>\n",
       "      <td>taiwan_02</td>\n",
       "      <td>新北市 的 29 區現 分屬 四座 地方法院 管轄 ， 其中 最 主要 的 為 臺 灣新北 地方法院 ， 屬 於 普通 法院 ， 位 於 土城 區 ， 舊稱 板橋 地方法院 ； 新北 地方法院 管轄新 北市 西部 的 13 個 市轄區 ， 轄區 人口 目前 已經 超過 300 萬人 ， 是 ...</td>\n",
       "      <td>278</td>\n",
       "      <td>\"taiwan\"</td>\n",
       "    </tr>\n",
       "    <tr>\n",
       "      <th>2</th>\n",
       "      <td>taiwan_03</td>\n",
       "      <td>\" 臺 北港 特定 區位 於 台北 港 週邊 八里 、 林口 一帶 約 1138 公頃 土地 ， 為 新北市 為 配合 台北 港開港 所 規劃 之 都市 更新 計畫 ， 特定 區內 預定 為 物流 、 運輸 、 倉儲 、 會議 中心 等 使用 ， 「 台北 港 特定 區 」 正由 內政部...</td>\n",
       "      <td>196</td>\n",
       "      <td>\"taiwan\"</td>\n",
       "    </tr>\n",
       "    <tr>\n",
       "      <th>3</th>\n",
       "      <td>taiwan_04</td>\n",
       "      <td>\" 新北市 的 人口 眾多 ， 市區 的 交通流量 十分 龐大 。 每逢 尖峰 時段 或 假日 ， 經常會 有 大量 人潮 、 車 潮流 動 於 市區 內 或 臺 北 、 新北 兩市 之間 ， 導致 市區 內 各 重要 幹道常 出現 交通阻塞 的 情形 。 為 求 儘 可能 在 短 時間...</td>\n",
       "      <td>165</td>\n",
       "      <td>\"taiwan\"</td>\n",
       "    </tr>\n",
       "    <tr>\n",
       "      <th>4</th>\n",
       "      <td>taiwan_05</td>\n",
       "      <td>\" 新北市 自 升格 直轄市 後 ， 在 各個 市政 領域 推動 都市 轉型 計畫 ， 於 2016 年 6 月 由 英國 金融 時報 及 國際 金融公司 舉辦 的 城市 轉型 卓越 獎中 獲得 全球 首獎 。 臺 北 之 命名 ， 古 曰 雞籠 ， 或稱 淡水 。 迨 清 光緒 元年 ...</td>\n",
       "      <td>243</td>\n",
       "      <td>\"taiwan\"</td>\n",
       "    </tr>\n",
       "    <tr>\n",
       "      <th>5</th>\n",
       "      <td>japsn_01</td>\n",
       "      <td>\" 1996 年 日本 導入 小選 舉區制 之 後 ， 在 眾議院 選舉 中 ， 長 崎縣 被 劃分 為 4 個 選舉區 。 這四個 選舉區 中 ， 長 崎縣 第 1 區因 重工 業 工人 較 多 而 曾 是 民主 黨較 具優勢 的 選區 ， 其他 三個 選區 均 是 自民黨 優勢 的 ...</td>\n",
       "      <td>337</td>\n",
       "      <td>\"japan\"</td>\n",
       "    </tr>\n",
       "    <tr>\n",
       "      <th>6</th>\n",
       "      <td>japsn_02</td>\n",
       "      <td>\" 2014 年代 ， 長 崎縣 的 縣 內 生產 總值 有 43103 億 日元 。 人均 縣民 所得 有 235.2 萬 日元 ， 相當 於 日本 平均值 的 82% 。 就 產業構 造來 看 ， 第一 產業 佔長 崎縣 經濟 總量 的 2.6% 、 第二 產業 佔 16.2% 、 ...</td>\n",
       "      <td>345</td>\n",
       "      <td>\"japan\"</td>\n",
       "    </tr>\n",
       "    <tr>\n",
       "      <th>7</th>\n",
       "      <td>japsn_03</td>\n",
       "      <td>\" 1281 年 七月 ， 忽必烈 又 發動 第二次 侵日 戰爭 ， 日本 史書稱 為 「 弘安之役 」 ， 由 范文虎 、 李庭率 江南 軍十餘萬人 ， 到 達次 能 、 志賀二島 ， 因日 軍積極 抵抗 ， 且 元 軍 又 遇到 颱 風 ， 最 後 再度 慘敗 。 通常 認為 颱 風...</td>\n",
       "      <td>292</td>\n",
       "      <td>\"japan\"</td>\n",
       "    </tr>\n",
       "    <tr>\n",
       "      <th>8</th>\n",
       "      <td>us_01</td>\n",
       "      <td>\" 不同 文化 的 原住民 在 歐洲 殖民 來臨 以前 過 千年 已經 在 此處 居住 。 與 東 北面 俄亥俄河 民族 的 貿易 在 古墓 時期 已經 開始 ， 並持續 至 歐洲 人 的 來 臨 。 密西西比 文化 農業 自 1000 年 至 1600 年 覆蓋 大部分 阿拉 巴馬州 ...</td>\n",
       "      <td>371</td>\n",
       "      <td>\"us\"</td>\n",
       "    </tr>\n",
       "    <tr>\n",
       "      <th>9</th>\n",
       "      <td>us_02</td>\n",
       "      <td>\" 阿拉 巴馬 州政府 的 憲制性 文件 是 阿拉 巴馬州 憲法 ， 在 1901 年 通過 。 曾 修改 近 800 次 ， 全長 310000 字 ， 部分 資料 顯示 其為 世界 最長 的 憲法 ， 比美 國憲法長 近 40 倍 。 阿拉 巴馬州 內 一直 有 強烈 聲音 要求 重...</td>\n",
       "      <td>481</td>\n",
       "      <td>\"us\"</td>\n",
       "    </tr>\n",
       "  </tbody>\n",
       "</table>\n",
       "</div>"
      ],
      "text/plain": [
       "          id  \\\n",
       "0  taiwan_01   \n",
       "1  taiwan_02   \n",
       "2  taiwan_03   \n",
       "3  taiwan_04   \n",
       "4  taiwan_05   \n",
       "5   japsn_01   \n",
       "6   japsn_02   \n",
       "7   japsn_03   \n",
       "8      us_01   \n",
       "9      us_02   \n",
       "\n",
       "                                                                                                                                                contents  \\\n",
       "0    \" 新北市 總 人口 中 客家 人口 約 佔 14.1 ％ ， 雖非 全台灣 最高 ， 但 總 人口 數為 全台灣 第二 多 ， 僅次 於 桃園 市 ； 新北市 客家人 分布 較 為 分散 ， 主要 區域 包括 新莊 、 三重 、 三峽 、 新店 安坑 、 汐止 、 泰山 、 五股 、 ...   \n",
       "1  新北市 的 29 區現 分屬 四座 地方法院 管轄 ， 其中 最 主要 的 為 臺 灣新北 地方法院 ， 屬 於 普通 法院 ， 位 於 土城 區 ， 舊稱 板橋 地方法院 ； 新北 地方法院 管轄新 北市 西部 的 13 個 市轄區 ， 轄區 人口 目前 已經 超過 300 萬人 ， 是 ...   \n",
       "2    \" 臺 北港 特定 區位 於 台北 港 週邊 八里 、 林口 一帶 約 1138 公頃 土地 ， 為 新北市 為 配合 台北 港開港 所 規劃 之 都市 更新 計畫 ， 特定 區內 預定 為 物流 、 運輸 、 倉儲 、 會議 中心 等 使用 ， 「 台北 港 特定 區 」 正由 內政部...   \n",
       "3    \" 新北市 的 人口 眾多 ， 市區 的 交通流量 十分 龐大 。 每逢 尖峰 時段 或 假日 ， 經常會 有 大量 人潮 、 車 潮流 動 於 市區 內 或 臺 北 、 新北 兩市 之間 ， 導致 市區 內 各 重要 幹道常 出現 交通阻塞 的 情形 。 為 求 儘 可能 在 短 時間...   \n",
       "4    \" 新北市 自 升格 直轄市 後 ， 在 各個 市政 領域 推動 都市 轉型 計畫 ， 於 2016 年 6 月 由 英國 金融 時報 及 國際 金融公司 舉辦 的 城市 轉型 卓越 獎中 獲得 全球 首獎 。 臺 北 之 命名 ， 古 曰 雞籠 ， 或稱 淡水 。 迨 清 光緒 元年 ...   \n",
       "5    \" 1996 年 日本 導入 小選 舉區制 之 後 ， 在 眾議院 選舉 中 ， 長 崎縣 被 劃分 為 4 個 選舉區 。 這四個 選舉區 中 ， 長 崎縣 第 1 區因 重工 業 工人 較 多 而 曾 是 民主 黨較 具優勢 的 選區 ， 其他 三個 選區 均 是 自民黨 優勢 的 ...   \n",
       "6    \" 2014 年代 ， 長 崎縣 的 縣 內 生產 總值 有 43103 億 日元 。 人均 縣民 所得 有 235.2 萬 日元 ， 相當 於 日本 平均值 的 82% 。 就 產業構 造來 看 ， 第一 產業 佔長 崎縣 經濟 總量 的 2.6% 、 第二 產業 佔 16.2% 、 ...   \n",
       "7    \" 1281 年 七月 ， 忽必烈 又 發動 第二次 侵日 戰爭 ， 日本 史書稱 為 「 弘安之役 」 ， 由 范文虎 、 李庭率 江南 軍十餘萬人 ， 到 達次 能 、 志賀二島 ， 因日 軍積極 抵抗 ， 且 元 軍 又 遇到 颱 風 ， 最 後 再度 慘敗 。 通常 認為 颱 風...   \n",
       "8    \" 不同 文化 的 原住民 在 歐洲 殖民 來臨 以前 過 千年 已經 在 此處 居住 。 與 東 北面 俄亥俄河 民族 的 貿易 在 古墓 時期 已經 開始 ， 並持續 至 歐洲 人 的 來 臨 。 密西西比 文化 農業 自 1000 年 至 1600 年 覆蓋 大部分 阿拉 巴馬州 ...   \n",
       "9    \" 阿拉 巴馬 州政府 的 憲制性 文件 是 阿拉 巴馬州 憲法 ， 在 1901 年 通過 。 曾 修改 近 800 次 ， 全長 310000 字 ， 部分 資料 顯示 其為 世界 最長 的 憲法 ， 比美 國憲法長 近 40 倍 。 阿拉 巴馬州 內 一直 有 強烈 聲音 要求 重...   \n",
       "\n",
       "   num_word     labels  \n",
       "0       197   \"taiwan\"  \n",
       "1       278   \"taiwan\"  \n",
       "2       196   \"taiwan\"  \n",
       "3       165   \"taiwan\"  \n",
       "4       243   \"taiwan\"  \n",
       "5       337    \"japan\"  \n",
       "6       345    \"japan\"  \n",
       "7       292    \"japan\"  \n",
       "8       371       \"us\"  \n",
       "9       481       \"us\"  "
      ]
     },
     "execution_count": 40,
     "metadata": {},
     "output_type": "execute_result"
    }
   ],
   "source": [
    "combined_data = [raw_data_df.id,seg_data_df,raw_data_df.labels]\n",
    "seg_data_df = pd.concat(combined_data, axis=1)\n",
    "seg_data_df.head(10)"
   ]
  },
  {
   "cell_type": "code",
   "execution_count": 41,
   "metadata": {},
   "outputs": [
    {
     "data": {
      "text/html": [
       "<div>\n",
       "<style scoped>\n",
       "    .dataframe tbody tr th:only-of-type {\n",
       "        vertical-align: middle;\n",
       "    }\n",
       "\n",
       "    .dataframe tbody tr th {\n",
       "        vertical-align: top;\n",
       "    }\n",
       "\n",
       "    .dataframe thead th {\n",
       "        text-align: right;\n",
       "    }\n",
       "</style>\n",
       "<table border=\"1\" class=\"dataframe\">\n",
       "  <thead>\n",
       "    <tr style=\"text-align: right;\">\n",
       "      <th></th>\n",
       "      <th>contents</th>\n",
       "      <th>num_word</th>\n",
       "      <th>labels</th>\n",
       "    </tr>\n",
       "    <tr>\n",
       "      <th>labels</th>\n",
       "      <th></th>\n",
       "      <th></th>\n",
       "      <th></th>\n",
       "    </tr>\n",
       "  </thead>\n",
       "  <tbody>\n",
       "    <tr>\n",
       "      <th>\"japan\"</th>\n",
       "      <td>\" 1996 年 日本 導入 小選 舉區制 之 後 ， 在 眾議院 選舉 中 ， 長 崎縣 被 劃分 為 4 個 選舉區 。 這四個 選舉區 中 ， 長 崎縣 第 1 區因 重工 業 工人 較 多 而 曾 是 民主 黨較 具優勢 的 選區 ， 其他 三個 選區 均 是 自民黨 優勢 的 ...</td>\n",
       "      <td>974</td>\n",
       "      <td>\"japan\"</td>\n",
       "    </tr>\n",
       "    <tr>\n",
       "      <th>\"taiwan\"</th>\n",
       "      <td>\" 新北市 總 人口 中 客家 人口 約 佔 14.1 ％ ， 雖非 全台灣 最高 ， 但 總 人口 數為 全台灣 第二 多 ， 僅次 於 桃園 市 ； 新北市 客家人 分布 較 為 分散 ， 主要 區域 包括 新莊 、 三重 、 三峽 、 新店 安坑 、 汐止 、 泰山 、 五股 、 ...</td>\n",
       "      <td>1079</td>\n",
       "      <td>\"taiwan\"</td>\n",
       "    </tr>\n",
       "    <tr>\n",
       "      <th>\"us\"</th>\n",
       "      <td>\" 不同 文化 的 原住民 在 歐洲 殖民 來臨 以前 過 千年 已經 在 此處 居住 。 與 東 北面 俄亥俄河 民族 的 貿易 在 古墓 時期 已經 開始 ， 並持續 至 歐洲 人 的 來 臨 。 密西西比 文化 農業 自 1000 年 至 1600 年 覆蓋 大部分 阿拉 巴馬州 ...</td>\n",
       "      <td>1566</td>\n",
       "      <td>\"us\"</td>\n",
       "    </tr>\n",
       "  </tbody>\n",
       "</table>\n",
       "</div>"
      ],
      "text/plain": [
       "                                                                                                                                                        contents  \\\n",
       "labels                                                                                                                                                             \n",
       " \"japan\"     \" 1996 年 日本 導入 小選 舉區制 之 後 ， 在 眾議院 選舉 中 ， 長 崎縣 被 劃分 為 4 個 選舉區 。 這四個 選舉區 中 ， 長 崎縣 第 1 區因 重工 業 工人 較 多 而 曾 是 民主 黨較 具優勢 的 選區 ， 其他 三個 選區 均 是 自民黨 優勢 的 ...   \n",
       " \"taiwan\"    \" 新北市 總 人口 中 客家 人口 約 佔 14.1 ％ ， 雖非 全台灣 最高 ， 但 總 人口 數為 全台灣 第二 多 ， 僅次 於 桃園 市 ； 新北市 客家人 分布 較 為 分散 ， 主要 區域 包括 新莊 、 三重 、 三峽 、 新店 安坑 、 汐止 、 泰山 、 五股 、 ...   \n",
       " \"us\"        \" 不同 文化 的 原住民 在 歐洲 殖民 來臨 以前 過 千年 已經 在 此處 居住 。 與 東 北面 俄亥俄河 民族 的 貿易 在 古墓 時期 已經 開始 ， 並持續 至 歐洲 人 的 來 臨 。 密西西比 文化 農業 自 1000 年 至 1600 年 覆蓋 大部分 阿拉 巴馬州 ...   \n",
       "\n",
       "           num_word     labels  \n",
       "labels                          \n",
       " \"japan\"        974    \"japan\"  \n",
       " \"taiwan\"      1079   \"taiwan\"  \n",
       " \"us\"          1566       \"us\"  "
      ]
     },
     "execution_count": 41,
     "metadata": {},
     "output_type": "execute_result"
    }
   ],
   "source": [
    "aggregation_functions = {'contents': 'sum', 'num_word': 'sum', 'labels': 'first'}\n",
    "seg_by_topic_df = seg_data_df.groupby(seg_data_df['labels']).aggregate(aggregation_functions)\n",
    "#seg_by_topic_df = seg_data_df.groupby(seg_data_df['labels'])['contents'].apply(' '.join)\n",
    "seg_by_topic_df.head(3)"
   ]
  },
  {
   "cell_type": "code",
   "execution_count": 42,
   "metadata": {},
   "outputs": [],
   "source": [
    "seg_by_topic_df.to_pickle('chinese.pkl')"
   ]
  }
 ],
 "metadata": {
  "kernelspec": {
   "display_name": "Python 3 (ipykernel)",
   "language": "python",
   "name": "python3"
  },
  "language_info": {
   "codemirror_mode": {
    "name": "ipython",
    "version": 3
   },
   "file_extension": ".py",
   "mimetype": "text/x-python",
   "name": "python",
   "nbconvert_exporter": "python",
   "pygments_lexer": "ipython3",
   "version": "3.10.13"
  },
  "toc": {
   "nav_menu": {},
   "number_sections": true,
   "sideBar": true,
   "skip_h1_title": false,
   "toc_cell": false,
   "toc_position": {},
   "toc_section_display": "block",
   "toc_window_display": false
  },
  "varInspector": {
   "cols": {
    "lenName": 16,
    "lenType": 16,
    "lenVar": 40
   },
   "kernels_config": {
    "python": {
     "delete_cmd_postfix": "",
     "delete_cmd_prefix": "del ",
     "library": "var_list.py",
     "varRefreshCmd": "print(var_dic_list())"
    },
    "r": {
     "delete_cmd_postfix": ") ",
     "delete_cmd_prefix": "rm(",
     "library": "var_list.r",
     "varRefreshCmd": "cat(var_dic_list()) "
    }
   },
   "types_to_exclude": [
    "module",
    "function",
    "builtin_function_or_method",
    "instance",
    "_Feature"
   ],
   "window_display": false
  }
 },
 "nbformat": 4,
 "nbformat_minor": 4
}
